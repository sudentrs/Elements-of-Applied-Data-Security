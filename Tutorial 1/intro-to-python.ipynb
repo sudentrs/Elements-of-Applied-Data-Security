{
 "cells": [
  {
   "cell_type": "markdown",
   "id": "51d73f20",
   "metadata": {},
   "source": [
    "# Introduction to Jupyter and Python"
   ]
  },
  {
   "cell_type": "markdown",
   "id": "c5a3021f",
   "metadata": {
    "toc-hr-collapsed": true
   },
   "source": [
    "## Jupyter Notebook"
   ]
  },
  {
   "cell_type": "markdown",
   "id": "753ba999",
   "metadata": {},
   "source": [
    "*This* is a **Jupyter Notebook**. \n",
    "\n",
    "The Jupyter Notebook is **web application** (you access it as a web page on any browser like Chrome, FireFox, etc.) and is **open-source**, maintained by the people at [Project Jupyter](https://jupyter.org/).\n",
    "\n",
    "A notebook is an **interactive** document that allows you to both write and execute `python` code (not only python), without the need of using a command line (or shell), a script editor or and IDE. A notebook not only contains code, but text, visualization and equations.\n",
    "\n",
    "The name, Jupyter, comes from the core supported programming languages that it supports: **Ju**lia, **Pyt**hon, and **R**. However, there are currently over 100 other kernels that you can also use.\n",
    "\n",
    "You probably started Jupyter from a command line (or shell or terminal or whatever you call it) and, if you get back there, you will see that it is still running something. That is a Jupyter server (just like the ones you find on the internet). So you access Jupyter by your browser because it connects to that server at the URL: http://localhost:8888/lab (or something similar). The term *localhost* means you are hosting the server locally (on your machine)."
   ]
  },
  {
   "cell_type": "markdown",
   "id": "52246b0d",
   "metadata": {},
   "source": [
    "### Notebook's Cell"
   ]
  },
  {
   "cell_type": "markdown",
   "id": "c83e3d13",
   "metadata": {},
   "source": [
    "A notebook is made of **cells** that can contain either: "
   ]
  },
  {
   "cell_type": "markdown",
   "id": "12001e7d",
   "metadata": {},
   "source": [
    "- **raw text**"
   ]
  },
  {
   "cell_type": "raw",
   "id": "1431d35c",
   "metadata": {},
   "source": [
    "this is a raw text cell. As you see it is just text with no formatting rule.\n",
    "Not very useful indeed."
   ]
  },
  {
   "cell_type": "markdown",
   "id": "1c02a7b4",
   "metadata": {},
   "source": [
    "- formatted text in **markdown** language."
   ]
  },
  {
   "cell_type": "markdown",
   "id": "77f6d763",
   "metadata": {},
   "source": [
    "This is a markdown cell. It does not seem so different from the text you have read since here, does it? That is because it was all written in markdown cells! \n",
    "Just double click on this text and you will see it will turn into a cell with unformatted text!"
   ]
  },
  {
   "cell_type": "markdown",
   "id": "0d4babb3",
   "metadata": {},
   "source": [
    "If you are interested in markdown, check out the web page on [Wikipedia](https://en.wikipedia.org/wiki/Markdown) and on [John Gruber's blog](https://daringfireball.net/projects/markdown/) (the inventor together with Aaron Swartz)"
   ]
  },
  {
   "cell_type": "markdown",
   "id": "79b2f3dd",
   "metadata": {},
   "source": [
    "- **code**"
   ]
  },
  {
   "cell_type": "code",
   "execution_count": 13,
   "id": "da93715e-8717-4f39-83b8-7e3023f7edb0",
   "metadata": {},
   "outputs": [
    {
     "name": "stdout",
     "output_type": "stream",
     "text": [
      "Hello, World!\n"
     ]
    }
   ],
   "source": [
    "# this is a python code cell, and this is a comment since it starts with `#`\n",
    "print('Hello, World!') # here I say hello to the world."
   ]
  },
  {
   "cell_type": "markdown",
   "id": "03152805",
   "metadata": {},
   "source": [
    "When you **run** a cell you evaluate what is inside. If it was code you *execute* it and if it was markdown you transform it into formatted text (with raw cells nothing happens).\n",
    "\n",
    "**How to run a cell?**\n",
    "- *Boring way*: select the cell and then click the `Run` button on the toolbar in the upper part of the document.\n",
    "- *Smart way*: when the cell is selected, just press `CTRL` + `ENTER` or `SHIFT` + `ENTER`\n",
    "\n",
    "**How to change the type of a cell?**\n",
    "- *Boring way*: on the toolbar you find a drop-down menu where you can select the cell type.\n",
    "- *Smart way*: there are shorcuts. I will let you discover them."
   ]
  },
  {
   "cell_type": "markdown",
   "id": "9c2a6f28",
   "metadata": {
    "tags": []
   },
   "source": [
    "## Python"
   ]
  },
  {
   "cell_type": "markdown",
   "id": "f1cbe3da",
   "metadata": {},
   "source": [
    "Let's do some Python!"
   ]
  },
  {
   "cell_type": "code",
   "execution_count": 14,
   "id": "2b8ad764-cdc9-451f-a290-b5810b6cb7eb",
   "metadata": {},
   "outputs": [
    {
     "data": {
      "text/plain": [
       "2"
      ]
     },
     "execution_count": 14,
     "metadata": {},
     "output_type": "execute_result"
    }
   ],
   "source": [
    "1 + 1"
   ]
  },
  {
   "cell_type": "markdown",
   "id": "0a2a82bc",
   "metadata": {
    "heading_collapsed": "false"
   },
   "source": [
    "### Comments"
   ]
  },
  {
   "cell_type": "markdown",
   "id": "90fb23b1",
   "metadata": {
    "heading_collapsed": "false"
   },
   "source": [
    "\n",
    "A comment is a line that will not be executed. You can use comments to make your code more readable by others and/or to take notes. To write a comment, insert the `#` symbol and write your text after it.  "
   ]
  },
  {
   "cell_type": "code",
   "execution_count": 15,
   "id": "7d632650",
   "metadata": {},
   "outputs": [],
   "source": [
    "# This is how a comment looks like in python"
   ]
  },
  {
   "cell_type": "markdown",
   "id": "0fca998a",
   "metadata": {},
   "source": [
    "### Variables"
   ]
  },
  {
   "cell_type": "markdown",
   "id": "515684af",
   "metadata": {},
   "source": [
    "Variables are **containers** for storing data values.\n",
    "\n",
    "To create a variable, you just assign it a value and then start using it. Assignment is done with a single equal sign `=`."
   ]
  },
  {
   "cell_type": "code",
   "execution_count": 16,
   "id": "9033b88e",
   "metadata": {},
   "outputs": [
    {
     "name": "stdout",
     "output_type": "stream",
     "text": [
      "42\n"
     ]
    }
   ],
   "source": [
    "# you are creating a variable named `first_variable` that contains the value 42\n",
    "first_variable = 42\n",
    "\n",
    "# here, you are printing the value contained in `first_variable`\n",
    "print(first_variable)"
   ]
  },
  {
   "cell_type": "code",
   "execution_count": 17,
   "id": "0aecb0f2",
   "metadata": {},
   "outputs": [
    {
     "name": "stdout",
     "output_type": "stream",
     "text": [
      "7.5 10\n"
     ]
    }
   ],
   "source": [
    "a, b = 7.5, 10 # you can do multiple assignments\n",
    "print(a, b)    # you can print the content of more than one variable"
   ]
  },
  {
   "cell_type": "markdown",
   "id": "e1126cff",
   "metadata": {},
   "source": [
    "For variable names NEVER use: numbers at the beginnig, blank spaces, this `-` symbol and special characters like !, @, %, $, &"
   ]
  },
  {
   "cell_type": "markdown",
   "id": "97b86886-45d8-4029-8e85-efdbd791d326",
   "metadata": {},
   "source": [
    "<p style='font-size: 22px'>\n",
    "    <b> Exercise: </b> Define two variables with different values and swap their content\n",
    "</p>"
   ]
  },
  {
   "cell_type": "code",
   "execution_count": 18,
   "id": "14f6fd33-52ba-48b0-b819-f1f627537566",
   "metadata": {},
   "outputs": [],
   "source": [
    "# Code here"
   ]
  },
  {
   "cell_type": "markdown",
   "id": "8b424c21",
   "metadata": {
    "tags": [],
    "toc-hr-collapsed": true
   },
   "source": [
    "### Data-Types"
   ]
  },
  {
   "cell_type": "markdown",
   "id": "f320a657-127e-4437-8a70-00fa371e94d8",
   "metadata": {},
   "source": [
    "A programmer usually has to manage different data types and `python` provides some base types.\n",
    "\n",
    "Here is an incomplete list:\n",
    "1) `None`: null object (an object with no value)\n",
    "2) **numeric**: simply numbers.\n",
    "    - **boolean** (`bool`): only two possible logic values `True` or `False`. \n",
    "    - **integer** (`int`): all possible integer values (..., `-1`, `0`, `1`, `2`, ...)\n",
    "    - **floating point** (`float`): represents rational numbers (`1.2`, `-7.0`, ...). Since Python (as any other programming language) runs on a finite machine irrational numbers are only\n",
    "    approximated as rational."
   ]
  },
  {
   "cell_type": "markdown",
   "id": "f6a3ee7a-4059-4ab2-8a8c-10242fc0f8be",
   "metadata": {},
   "source": [
    "#### Examples"
   ]
  },
  {
   "cell_type": "code",
   "execution_count": 19,
   "id": "cc1f70c5-ce22-4533-a0ce-baa32c6e8497",
   "metadata": {},
   "outputs": [],
   "source": [
    "null_var = None\n",
    "bool_var = True\n",
    "int_var = 5\n",
    "float_var = 333.6"
   ]
  },
  {
   "cell_type": "code",
   "execution_count": 20,
   "id": "f0ba6b8a-b8bb-4f80-b097-494b69f800dc",
   "metadata": {
    "tags": []
   },
   "outputs": [
    {
     "name": "stdout",
     "output_type": "stream",
     "text": [
      "True\n"
     ]
    }
   ],
   "source": [
    "print(bool_var)"
   ]
  },
  {
   "cell_type": "markdown",
   "id": "a7078ae6",
   "metadata": {},
   "source": [
    "#### Operations with numeric types"
   ]
  },
  {
   "cell_type": "markdown",
   "id": "a8dce72f",
   "metadata": {},
   "source": [
    "Each data type takes its operations. For numeric type they are quite intuitive, for data structures they may not."
   ]
  },
  {
   "cell_type": "markdown",
   "id": "3c64a7d5",
   "metadata": {},
   "source": [
    "With booleans there are logical operations like `not`, `and` and `or`."
   ]
  },
  {
   "cell_type": "code",
   "execution_count": 21,
   "id": "be0cd18c-6302-49e4-9cdc-f6846fecc719",
   "metadata": {},
   "outputs": [
    {
     "name": "stdout",
     "output_type": "stream",
     "text": [
      "True\n"
     ]
    }
   ],
   "source": [
    "a = True\n",
    "b = False\n",
    "\n",
    "c = a and (not b) or False\n",
    "print(c)"
   ]
  },
  {
   "cell_type": "markdown",
   "id": "42f54289",
   "metadata": {},
   "source": [
    "Numeric types takes the traditional operations: sum `+`, subtraction `-`, product `*`, division `/`, power `**` and module `%`."
   ]
  },
  {
   "cell_type": "code",
   "execution_count": 22,
   "id": "e993f40d",
   "metadata": {},
   "outputs": [
    {
     "data": {
      "text/plain": [
       "36"
      ]
     },
     "execution_count": 22,
     "metadata": {},
     "output_type": "execute_result"
    }
   ],
   "source": [
    "a = 6**2\n",
    "a"
   ]
  },
  {
   "cell_type": "code",
   "execution_count": 23,
   "id": "6936b78e",
   "metadata": {},
   "outputs": [
    {
     "data": {
      "text/plain": [
       "18"
      ]
     },
     "execution_count": 23,
     "metadata": {},
     "output_type": "execute_result"
    }
   ],
   "source": [
    "a = (18*10 + 6**2 - 9*4)//10\n",
    "a"
   ]
  },
  {
   "cell_type": "code",
   "execution_count": 24,
   "id": "6c712024",
   "metadata": {},
   "outputs": [
    {
     "data": {
      "text/plain": [
       "1"
      ]
     },
     "execution_count": 24,
     "metadata": {},
     "output_type": "execute_result"
    }
   ],
   "source": [
    "a = 5 % 2\n",
    "a"
   ]
  },
  {
   "cell_type": "code",
   "execution_count": 25,
   "id": "9975d785",
   "metadata": {},
   "outputs": [
    {
     "data": {
      "text/plain": [
       "5"
      ]
     },
     "execution_count": 25,
     "metadata": {},
     "output_type": "execute_result"
    }
   ],
   "source": [
    "a = 5 % 10\n",
    "a"
   ]
  },
  {
   "cell_type": "markdown",
   "id": "3c5ebe16",
   "metadata": {},
   "source": [
    "We can also compare numeric types:\n",
    " - grater than (`>`), grater or equal than (`>=`)\n",
    " - less than (`<`), less or equal than (`<=`)\n",
    " - equal to (`==`), not equal to (`!=`)\n",
    "\n",
    "And the result of a comparison is a boolean."
   ]
  },
  {
   "cell_type": "code",
   "execution_count": 26,
   "id": "996c64a3",
   "metadata": {},
   "outputs": [
    {
     "name": "stdout",
     "output_type": "stream",
     "text": [
      "True\n",
      "False\n",
      "True\n"
     ]
    }
   ],
   "source": [
    "print(10 > 5)\n",
    "print(10 <= 5)\n",
    "print((10 > 5) and not (10 <= 5))"
   ]
  },
  {
   "cell_type": "markdown",
   "id": "8a5bc0fb-1f0c-4f0f-8ab1-97a7187f7375",
   "metadata": {},
   "source": [
    "<p style='font-size: 22px'>\n",
    "    <b> Exercise: </b> Compute the following expression:\n",
    "</p>"
   ]
  },
  {
   "cell_type": "markdown",
   "id": "ab1fe5ea-7fe1-48d1-ae96-8f97cefb9672",
   "metadata": {},
   "source": [
    "\\begin{equation*}\n",
    "\\frac{1}{\\Bigl(\\sqrt{3 \\sqrt{\\pi}}-\\phi\\Bigr) e^{\\frac{2}{3} \\pi}}\n",
    "\\end{equation*}\n",
    "\n",
    "where $\\pi=3.14$, $e = 2.72$, $\\phi$ is your favourite number "
   ]
  },
  {
   "cell_type": "code",
   "execution_count": 27,
   "id": "43e1daf3-621d-400b-b654-737b279d6756",
   "metadata": {},
   "outputs": [],
   "source": [
    "# Code here"
   ]
  },
  {
   "cell_type": "markdown",
   "id": "00e79892-5c17-4c41-bd8c-9d6fc3f6ceb9",
   "metadata": {},
   "source": [
    "<p style='font-size: 22px'>\n",
    "    <b> Exercise: </b> What happens if I multiply different types: 1) int and float, 2) float and bool\n",
    "</p>"
   ]
  },
  {
   "cell_type": "code",
   "execution_count": 28,
   "id": "f6e907ca-e90d-4138-a225-6676addce0e7",
   "metadata": {},
   "outputs": [],
   "source": [
    "# Code here"
   ]
  },
  {
   "cell_type": "markdown",
   "id": "df998c35-f64e-4eda-a76c-079260024353",
   "metadata": {},
   "source": [
    "3) **data structure**: structures that organize numeric and non-numeric values according to specific needs.\n",
    "    - **list** (`list`): ordered sequence of objects (numbers, strings, whatever) indexed by non-negative indexes. Example: `[1, -4.2, 'hello']`\n",
    "    - **string** (`str`): sequence of characters (simply text). Example: `'this is string'`.\n",
    "    - **tuple** (`tuple`): same as lists but, while lists are *mutable* (insertion, deletion and substitution of elements is allowed) tuples are not. Indeed, tuples are *immutable*. Example: `(1, -4.2, 'hello')`\n",
    "    - **dictionary** (`dict`): collection of objects that are indexed by another collection of nearly arbitrary key values. From another point of view, it is a collection of key-value pairs. Example `{'key': 'value', 'a': 1, 6: -3.2}`\n",
    "    - **set** (`set`): unordered collection of unique items. Example: `{-1, 'string', 7.2}`\n",
    "    \n",
    "    "
   ]
  },
  {
   "cell_type": "markdown",
   "id": "88b980af-1e90-4599-bf5d-969ba5500447",
   "metadata": {},
   "source": [
    "#### Examples"
   ]
  },
  {
   "cell_type": "code",
   "execution_count": 29,
   "id": "6391e1a3",
   "metadata": {},
   "outputs": [
    {
     "data": {
      "text/plain": [
       "[1, 2, 3, 4]"
      ]
     },
     "execution_count": 29,
     "metadata": {},
     "output_type": "execute_result"
    }
   ],
   "source": [
    "list_example = [1, 2, 3, 4]\n",
    "list_example"
   ]
  },
  {
   "cell_type": "code",
   "execution_count": 30,
   "id": "33cf2c84",
   "metadata": {},
   "outputs": [
    {
     "name": "stdout",
     "output_type": "stream",
     "text": [
      "[1, 5, 3, 4]\n"
     ]
    }
   ],
   "source": [
    "list_example[1] = 5 # assignment\n",
    "print(list_example)"
   ]
  },
  {
   "cell_type": "code",
   "execution_count": 31,
   "id": "94b4a345-682c-4bef-8523-57a4dc653c0e",
   "metadata": {},
   "outputs": [],
   "source": [
    "str_example = 'Hello world'"
   ]
  },
  {
   "cell_type": "code",
   "execution_count": 32,
   "id": "5aeb0f62-2b59-4972-ba8e-2eea64040be5",
   "metadata": {},
   "outputs": [
    {
     "name": "stdout",
     "output_type": "stream",
     "text": [
      "w\n"
     ]
    }
   ],
   "source": [
    "print(str_example[6]) # indexing starts from 0"
   ]
  },
  {
   "cell_type": "code",
   "execution_count": 33,
   "id": "de56de1b",
   "metadata": {},
   "outputs": [
    {
     "ename": "TypeError",
     "evalue": "'str' object does not support item assignment",
     "output_type": "error",
     "traceback": [
      "\u001b[1;31m---------------------------------------------------------------------------\u001b[0m",
      "\u001b[1;31mTypeError\u001b[0m                                 Traceback (most recent call last)",
      "Cell \u001b[1;32mIn[33], line 1\u001b[0m\n\u001b[1;32m----> 1\u001b[0m \u001b[43mstr_example\u001b[49m\u001b[43m[\u001b[49m\u001b[38;5;241;43m6\u001b[39;49m\u001b[43m]\u001b[49m \u001b[38;5;241m=\u001b[39m \u001b[38;5;124m'\u001b[39m\u001b[38;5;124mW\u001b[39m\u001b[38;5;124m'\u001b[39m\n",
      "\u001b[1;31mTypeError\u001b[0m: 'str' object does not support item assignment"
     ]
    }
   ],
   "source": [
    "str_example[6] = 'W'"
   ]
  },
  {
   "cell_type": "code",
   "execution_count": 34,
   "id": "6fbc8bac",
   "metadata": {},
   "outputs": [
    {
     "data": {
      "text/plain": [
       "['H', 'e', 'l', 'l', 'o', ' ', 'w', 'o', 'r', 'l', 'd']"
      ]
     },
     "execution_count": 34,
     "metadata": {},
     "output_type": "execute_result"
    }
   ],
   "source": [
    "char_list = list(str_example)\n",
    "char_list"
   ]
  },
  {
   "cell_type": "code",
   "execution_count": 35,
   "id": "bbf6190e",
   "metadata": {},
   "outputs": [
    {
     "name": "stdout",
     "output_type": "stream",
     "text": [
      "Hello World\n"
     ]
    }
   ],
   "source": [
    "char_list[6] = 'W' \n",
    "modified_str = ''.join(char_list)\n",
    "\n",
    "print(modified_str)"
   ]
  },
  {
   "cell_type": "code",
   "execution_count": 36,
   "id": "ce8e488d",
   "metadata": {},
   "outputs": [
    {
     "data": {
      "text/plain": [
       "2"
      ]
     },
     "execution_count": 36,
     "metadata": {},
     "output_type": "execute_result"
    }
   ],
   "source": [
    "modified_str.index('l')"
   ]
  },
  {
   "cell_type": "code",
   "execution_count": 37,
   "id": "bbacd970-f1f0-4e9f-bc06-ab57f0c82620",
   "metadata": {},
   "outputs": [
    {
     "name": "stdout",
     "output_type": "stream",
     "text": [
      "ab\n"
     ]
    }
   ],
   "source": [
    "tuple_example = ('ab', 3) # a tuple containing 2 elements\n",
    "print(tuple_example[0]) # the indexing is the same as for lists and strings"
   ]
  },
  {
   "cell_type": "code",
   "execution_count": 38,
   "id": "f388c4f9-ee8a-4d07-a134-6d2c528629a8",
   "metadata": {},
   "outputs": [
    {
     "ename": "TypeError",
     "evalue": "'tuple' object does not support item assignment",
     "output_type": "error",
     "traceback": [
      "\u001b[1;31m---------------------------------------------------------------------------\u001b[0m",
      "\u001b[1;31mTypeError\u001b[0m                                 Traceback (most recent call last)",
      "Cell \u001b[1;32mIn[38], line 1\u001b[0m\n\u001b[1;32m----> 1\u001b[0m \u001b[43mtuple_example\u001b[49m\u001b[43m[\u001b[49m\u001b[38;5;241;43m0\u001b[39;49m\u001b[43m]\u001b[49m \u001b[38;5;241m=\u001b[39m \u001b[38;5;124m'\u001b[39m\u001b[38;5;124mc\u001b[39m\u001b[38;5;124m'\u001b[39m\n",
      "\u001b[1;31mTypeError\u001b[0m: 'tuple' object does not support item assignment"
     ]
    }
   ],
   "source": [
    "tuple_example[0] = 'c'"
   ]
  },
  {
   "cell_type": "markdown",
   "id": "e92e3304-d2be-4526-834a-4e635cc917fe",
   "metadata": {},
   "source": [
    "<p style='font-size: 22px'>\n",
    "    <b> Exercise: </b> Create a tuple with the sum/or of the elements of the same type in the following list:\n",
    "</p>"
   ]
  },
  {
   "cell_type": "code",
   "execution_count": 39,
   "id": "c07e9617-8e51-492d-8e6e-e04db1821d25",
   "metadata": {},
   "outputs": [],
   "source": [
    "values_list = [2, 1.6, 2.3, True, 22, False, True]"
   ]
  },
  {
   "cell_type": "code",
   "execution_count": 40,
   "id": "4c5d3aa0",
   "metadata": {},
   "outputs": [],
   "source": [
    "# Code here"
   ]
  },
  {
   "cell_type": "markdown",
   "id": "3ede7e1a",
   "metadata": {
    "heading_collapsed": "false"
   },
   "source": [
    "Dictionaries provide a **_mapping_** between two related elements: **key** and **value**.  A key-value pair is called a dictionary *item*."
   ]
  },
  {
   "cell_type": "code",
   "execution_count": 41,
   "id": "251fb920-fc93-488f-aeb7-5fc0b5d3ab4b",
   "metadata": {
    "heading_collapsed": "false"
   },
   "outputs": [],
   "source": [
    "unit_measures = {} # this is an empty dictionary\n",
    "unit_measures = {\"current\": \"ampere\", \"voltage\": \"volt\"} # this is not"
   ]
  },
  {
   "cell_type": "code",
   "execution_count": 42,
   "id": "3c815c66-9fa0-499c-9920-46f3b3760b40",
   "metadata": {},
   "outputs": [
    {
     "data": {
      "text/plain": [
       "{'current': 'ampere', 'voltage': 'volt'}"
      ]
     },
     "execution_count": 42,
     "metadata": {},
     "output_type": "execute_result"
    }
   ],
   "source": [
    "unit_measures"
   ]
  },
  {
   "cell_type": "markdown",
   "id": "39549470",
   "metadata": {
    "heading_collapsed": "false"
   },
   "source": [
    "To access a value, use the **`[]`** operator on the dictionary by calling the corresponding key:"
   ]
  },
  {
   "cell_type": "code",
   "execution_count": 43,
   "id": "1b7de3e0-8773-433b-aaaf-845924903fa0",
   "metadata": {
    "heading_collapsed": "false"
   },
   "outputs": [
    {
     "name": "stdout",
     "output_type": "stream",
     "text": [
      "ampere\n"
     ]
    }
   ],
   "source": [
    "print(unit_measures[\"current\"])"
   ]
  },
  {
   "cell_type": "markdown",
   "id": "6f885b59",
   "metadata": {
    "heading_collapsed": "false"
   },
   "source": [
    "Some useful __methods__ to manage dictionaries:"
   ]
  },
  {
   "cell_type": "code",
   "execution_count": 44,
   "id": "1482635b",
   "metadata": {
    "heading_collapsed": "false"
   },
   "outputs": [
    {
     "name": "stdout",
     "output_type": "stream",
     "text": [
      "dict_keys(['current', 'voltage'])\n",
      "dict_values(['ampere', 'volt'])\n",
      "dict_items([('current', 'ampere'), ('voltage', 'volt')])\n"
     ]
    }
   ],
   "source": [
    "print(unit_measures.keys()) # returns all the keys\n",
    "print(unit_measures.values()) # returns all the values\n",
    "print(unit_measures.items()) # returns all the items"
   ]
  },
  {
   "cell_type": "code",
   "execution_count": 45,
   "id": "29619737-d20e-4b3f-ab3b-e079f01f9238",
   "metadata": {
    "heading_collapsed": "false"
   },
   "outputs": [
    {
     "name": "stdout",
     "output_type": "stream",
     "text": [
      "dict_items([('current', 'ampere'), ('voltage', 'volt'), ('resistance', 'ohm')])\n"
     ]
    }
   ],
   "source": [
    "unit_measures['resistance'] = 'ohm' \n",
    "print(unit_measures.items())"
   ]
  },
  {
   "cell_type": "markdown",
   "id": "0c9bc3bd-a889-441d-b715-5e8a127ba01a",
   "metadata": {},
   "source": [
    "<p style='font-size: 22px'>\n",
    "    <b> Exercise: </b> Fill the following dictionary through assignment operation\n",
    "</p>"
   ]
  },
  {
   "cell_type": "code",
   "execution_count": 46,
   "id": "a1f40d4c-9eef-405b-830d-2276e719f040",
   "metadata": {},
   "outputs": [],
   "source": [
    "info_dict = {\n",
    "    'name': None,\n",
    "    'surname': None,\n",
    "    'age': None,\n",
    "    'birthday': None, # tuple with (yyyy, mm, dd)\n",
    "}"
   ]
  },
  {
   "cell_type": "code",
   "execution_count": 47,
   "id": "a1d90651",
   "metadata": {},
   "outputs": [],
   "source": [
    "# Code here"
   ]
  },
  {
   "cell_type": "markdown",
   "id": "b129256c",
   "metadata": {
    "tags": [],
    "toc-hr-collapsed": true
   },
   "source": [
    "### Control Flow"
   ]
  },
  {
   "cell_type": "markdown",
   "id": "239aa358",
   "metadata": {},
   "source": [
    "Control flow allows a programmer to tell the machine the order in which the line of code must be executed. In `python` (similarly to most of other programming languages) the flow of the execution is regulated by conditional statements, loops, and function calls."
   ]
  },
  {
   "cell_type": "markdown",
   "id": "084e69d0",
   "metadata": {},
   "source": [
    "#### `if` statement"
   ]
  },
  {
   "cell_type": "markdown",
   "id": "2aee69cf",
   "metadata": {},
   "source": [
    "Often, you need to execute some statements only if some condition holds, or choose statements to execute depending on several mutually exclusive conditions.\n",
    "\n",
    "```python\n",
    "if <condition>:\n",
    "    <statement>\n",
    "elif <condition>:\n",
    "    <statement>\n",
    "else:\n",
    "    <statement>\n",
    "```\n",
    "\n",
    "`if`, `elif`, and `else` are the keyword defining the control flow, `<condition>` is anything that can be interpreted as a boolean, and `<statement>` is a block of code.\n",
    "\n",
    "Note that the colon mark `:` and the indentation have the role of defining the scope for each statement."
   ]
  },
  {
   "cell_type": "code",
   "execution_count": 48,
   "id": "2f9ef690",
   "metadata": {},
   "outputs": [
    {
     "name": "stdout",
     "output_type": "stream",
     "text": [
      "Infrared\n"
     ]
    }
   ],
   "source": [
    "wavelength_nm = 1000\n",
    "\n",
    "if wavelength_nm < 400:\n",
    "    print('Ultraviolet')\n",
    "elif (wavelength_nm >= 400) and (wavelength_nm <= 700):\n",
    "    print('Visible light')\n",
    "else:# wavelength_nm > 700\n",
    "    print('Infrared')"
   ]
  },
  {
   "cell_type": "markdown",
   "id": "3a4bc15e-77ac-428d-b957-f52d1700b4c3",
   "metadata": {},
   "source": [
    "<p style='font-size: 22px'>\n",
    "    <b> Exercise: </b> Given info_dict defined above, write an if statement that tells you in which season you were born\n",
    "</p>"
   ]
  },
  {
   "cell_type": "markdown",
   "id": "c47724fd-e8ef-44f3-8f9e-1e66d6179bd3",
   "metadata": {},
   "source": [
    "- Spring: from 21 March to 20 June\n",
    "- Summer: from 21 June to 23 September\n",
    "- Autumn: from 24 September to 20 December\n",
    "- Winter: from 21 December to 20 March"
   ]
  },
  {
   "cell_type": "code",
   "execution_count": 49,
   "id": "c5f52b10",
   "metadata": {},
   "outputs": [],
   "source": [
    "# Code here"
   ]
  },
  {
   "cell_type": "markdown",
   "id": "9a83ccfb",
   "metadata": {},
   "source": [
    "#### `for` loop"
   ]
  },
  {
   "cell_type": "markdown",
   "id": "5c836705",
   "metadata": {},
   "source": [
    "Often, you need to repeat the same operation for a given number of times or itereate over the elements of some sequence.\n",
    "\n",
    "```python\n",
    "for <element> in <sequence>:\n",
    "    <statement>\n",
    "```\n",
    "  \n",
    "`<sequence>` is anything you can iter over such as a tuple, a list, a string, an iterator (like `range()`). `<element>` is one of the elements of the sequence that are returned at each iteration."
   ]
  },
  {
   "cell_type": "code",
   "execution_count": 50,
   "id": "be635f7f",
   "metadata": {},
   "outputs": [
    {
     "name": "stdout",
     "output_type": "stream",
     "text": [
      "0\n",
      "1\n",
      "2\n",
      "3\n"
     ]
    }
   ],
   "source": [
    "# range(M) -> [0, 1, 2, 3, ..., M-1]\n",
    "for i in range(4): # range creates a sequence of int \n",
    "    print(i)"
   ]
  },
  {
   "cell_type": "code",
   "execution_count": 51,
   "id": "85b4a81d",
   "metadata": {},
   "outputs": [
    {
     "name": "stdout",
     "output_type": "stream",
     "text": [
      "P\n",
      "y\n",
      "t\n",
      "h\n",
      "o\n",
      "n\n"
     ]
    }
   ],
   "source": [
    "for letter in 'Python': # a string is a sequence\n",
    "    print(letter)    "
   ]
  },
  {
   "cell_type": "code",
   "execution_count": 52,
   "id": "5204e389-76d7-455a-aac9-6b9b8e07dee3",
   "metadata": {},
   "outputs": [
    {
     "name": "stdout",
     "output_type": "stream",
     "text": [
      "Italy Rome\n",
      "France Paris\n",
      "Brasil Brasilia\n"
     ]
    }
   ],
   "source": [
    "capitals  = {'Italy': 'Rome', 'France': 'Paris', 'Brasil': 'Brasilia'}\n",
    "for key, value in capitals.items():\n",
    "    print(key, value) "
   ]
  },
  {
   "cell_type": "markdown",
   "id": "99615bf5",
   "metadata": {},
   "source": [
    "#### Shortcuts for loops"
   ]
  },
  {
   "cell_type": "code",
   "execution_count": 53,
   "id": "30c2fb90",
   "metadata": {},
   "outputs": [
    {
     "data": {
      "text/plain": [
       "[2, 3, 4, 5]"
      ]
     },
     "execution_count": 53,
     "metadata": {},
     "output_type": "execute_result"
    }
   ],
   "source": [
    "list_example = [1, 2, 3, 4]\n",
    "new_list = [number + 1 for number in list_example]\n",
    "new_list"
   ]
  },
  {
   "cell_type": "code",
   "execution_count": 54,
   "id": "21537565",
   "metadata": {},
   "outputs": [
    {
     "data": {
      "text/plain": [
       "{'a': 1, 'b': 2, 'c': 3, 'd': 4}"
      ]
     },
     "execution_count": 54,
     "metadata": {},
     "output_type": "execute_result"
    }
   ],
   "source": [
    "keys = 'abcd'\n",
    "values = [1, 2, 3, 4]\n",
    "\n",
    "dict_ = {}\n",
    "for key, value in zip(keys, values):\n",
    "    dict_[key] = value\n",
    "dict_"
   ]
  },
  {
   "cell_type": "code",
   "execution_count": 55,
   "id": "89bba832",
   "metadata": {},
   "outputs": [
    {
     "data": {
      "text/plain": [
       "{'a': 1, 'b': 2, 'c': 3, 'd': 4}"
      ]
     },
     "execution_count": 55,
     "metadata": {},
     "output_type": "execute_result"
    }
   ],
   "source": [
    "dict_ = {key: value for key, value in zip(keys, values)}\n",
    "dict_"
   ]
  },
  {
   "cell_type": "code",
   "execution_count": 56,
   "id": "b69032de",
   "metadata": {},
   "outputs": [
    {
     "name": "stdout",
     "output_type": "stream",
     "text": [
      "0 1\n",
      "1 2\n",
      "2 3\n",
      "3 4\n"
     ]
    }
   ],
   "source": [
    "list_ = [1, 2, 3, 4]\n",
    "for i, value in enumerate(list_):\n",
    "    print(i, value)"
   ]
  },
  {
   "cell_type": "markdown",
   "id": "e65aa0e0-e974-4f69-a824-28114df2c935",
   "metadata": {},
   "source": [
    "<p style='font-size: 22px'>\n",
    "    <b> Exercise: </b> Print the items of the info_dict and in case of birthdate also print the corresponding season\n",
    "</p>"
   ]
  },
  {
   "cell_type": "code",
   "execution_count": 57,
   "id": "d61bd9bf-c230-45d4-9f83-325e900ce83c",
   "metadata": {},
   "outputs": [],
   "source": [
    "# Code here"
   ]
  },
  {
   "cell_type": "markdown",
   "id": "3cbc2ece",
   "metadata": {},
   "source": [
    "### Functions"
   ]
  },
  {
   "cell_type": "markdown",
   "id": "8bd69f77",
   "metadata": {},
   "source": [
    "Sometimes you need to use the same code in different parts of your script. Re-writing the same code every time is very inefficient and error-prone (see the difference between [DRY and WET code](https://en.wikipedia.org/wiki/Don%27t_repeat_yourself)). To move around blocks of code avoiding repetition, you can use **functions**. Basically you wrap code inside a nice parcel and call it on need.\n",
    "\n",
    "```python\n",
    "def function_name(<argument1>, <argument2>, ...):\n",
    "    <block of code>\n",
    "    return <output>\n",
    "```\n",
    "    "
   ]
  },
  {
   "cell_type": "code",
   "execution_count": 58,
   "id": "a6afde22",
   "metadata": {},
   "outputs": [
    {
     "name": "stdout",
     "output_type": "stream",
     "text": [
      "3.5\n",
      "2024\n"
     ]
    }
   ],
   "source": [
    "def mean(number1, number2):\n",
    "    average = (number1 + number2)/2\n",
    "    return average\n",
    "\n",
    "def maximum(number1, number2):\n",
    "    if number1 > number2:\n",
    "        return number1\n",
    "    else:\n",
    "        return number2\n",
    "    \n",
    "print(mean(5, 2))\n",
    "print(maximum(27, 2024))"
   ]
  },
  {
   "cell_type": "markdown",
   "id": "93c362ec-60a0-4b2e-b9f2-1cad3cec3fae",
   "metadata": {},
   "source": [
    "<p style='font-size: 22px'>\n",
    "    <b> Exercise: </b> Build a function that takes an integer number as input and calculates its factorial (the factorial of a non-negative integer <b>n</b>, denoted by <b>n!</b>, is the product of all positive integers less than or equal to <b>n</b>)\n",
    "</p>"
   ]
  },
  {
   "cell_type": "code",
   "execution_count": 59,
   "id": "11708232-f326-4794-90a4-5ec9a352d725",
   "metadata": {},
   "outputs": [],
   "source": [
    "# Code here"
   ]
  },
  {
   "cell_type": "markdown",
   "id": "bd7445f8",
   "metadata": {
    "heading_collapsed": "false"
   },
   "source": [
    "### Importing modules"
   ]
  },
  {
   "cell_type": "markdown",
   "id": "c5960c45",
   "metadata": {},
   "source": [
    "By default `python` does not come with all useful tools. They are often contained inside packages of code called **modules** that you need to explicitly invoke. You can do it with the `import` statement, followed by the name of the module.  "
   ]
  },
  {
   "cell_type": "code",
   "execution_count": 60,
   "id": "6c1391d1",
   "metadata": {},
   "outputs": [],
   "source": [
    "# By running this cell you import the `math` and `os` modules\n",
    "import math\n",
    "import os"
   ]
  },
  {
   "cell_type": "markdown",
   "id": "346032dd",
   "metadata": {},
   "source": [
    "In Python modules are treated as **objects** that contain other objects. To access their content, you need to recall the name of the module, append a dot `.` and then the name of the content: `module.content`"
   ]
  },
  {
   "cell_type": "code",
   "execution_count": 61,
   "id": "dc41c955",
   "metadata": {},
   "outputs": [
    {
     "name": "stdout",
     "output_type": "stream",
     "text": [
      "3.141592653589793 11.0\n"
     ]
    }
   ],
   "source": [
    "# here you are using the value `pi` and the function 'sqrt' both contained in the module `math`\n",
    "print(math.pi, math.sqrt(121))"
   ]
  },
  {
   "cell_type": "code",
   "execution_count": 62,
   "id": "3a604446-a85d-4968-8e01-de6def639600",
   "metadata": {},
   "outputs": [
    {
     "data": {
      "text/plain": [
       "'c:\\\\Users\\\\loren\\\\OneDrive - Alma Mater Studiorum Università di Bologna\\\\Desktop\\\\Lab_2025\\\\Lab2025\\\\1-intro'"
      ]
     },
     "execution_count": 62,
     "metadata": {},
     "output_type": "execute_result"
    }
   ],
   "source": [
    "# here you are using the function `getcwd` contained in the module `os`\n",
    "os.getcwd() # returns a unicode string representing the current working directory"
   ]
  },
  {
   "cell_type": "code",
   "execution_count": 63,
   "id": "48ffb37d",
   "metadata": {},
   "outputs": [
    {
     "data": {
      "text/plain": [
       "['.ipynb_checkpoints',\n",
       " 'homework.ipynb',\n",
       " 'homework_solution.ipynb',\n",
       " 'intro-to-python-accelerated.pdf',\n",
       " 'intro-to-python-accelerated.pptx',\n",
       " 'intro-to-python.ipynb',\n",
       " 'intro-to-python_solution.ipynb',\n",
       " 'wikipedia_cybersecurity.txt']"
      ]
     },
     "execution_count": 63,
     "metadata": {},
     "output_type": "execute_result"
    }
   ],
   "source": [
    "# here you are using the function `listdir` contained in the module `os`\n",
    "os.listdir() # returns a list containing the names of the files in the current directory"
   ]
  },
  {
   "cell_type": "markdown",
   "id": "437a8a4b",
   "metadata": {},
   "source": [
    "You can also import a specific object from a module. In this case you do not need to specify the module before using it."
   ]
  },
  {
   "cell_type": "code",
   "execution_count": 64,
   "id": "285f880f",
   "metadata": {},
   "outputs": [],
   "source": [
    "# here you are importing a specific function `randint` from a module `random`\n",
    "from random import randint"
   ]
  },
  {
   "cell_type": "code",
   "execution_count": 65,
   "id": "3d14106a",
   "metadata": {},
   "outputs": [
    {
     "data": {
      "text/plain": [
       "2"
      ]
     },
     "execution_count": 65,
     "metadata": {},
     "output_type": "execute_result"
    }
   ],
   "source": [
    "randint(1, 6) # returns random integer in range [1, 6]"
   ]
  },
  {
   "cell_type": "markdown",
   "id": "dace748e",
   "metadata": {
    "toc-hr-collapsed": true
   },
   "source": [
    "### NumPy"
   ]
  },
  {
   "cell_type": "markdown",
   "id": "5cad59b3",
   "metadata": {},
   "source": [
    "[`numpy`](https://numpy.org/) is a third-party package (that means it is not developed nor maintained by the [Python Software Foundation](https://www.python.org/psf/)) for **numerical computing** (**Num**erical **Py**thon package) and it's almost a standard in the Python community.\n",
    "\n",
    "It is an open-source package belonging to the *SciPy ecosystem* ([SciPy.org](https://www.scipy.org/index.html)) which consists in a collection of open-source software for scientific computing in Python and it is a standard in the Python community.\n",
    "\n",
    "`numpy` provides a multidimensional array object (arrays, matrices, etc.), various derived objects, and an assortment of routines for fast operations on arrays, including mathematical, logical, shape manipulation, sorting, selecting, I/O, discrete Fourier transforms, basic linear algebra, basic statistical operations, random simulation and much more."
   ]
  },
  {
   "cell_type": "code",
   "execution_count": 66,
   "id": "355503a5",
   "metadata": {},
   "outputs": [],
   "source": [
    "import numpy as np # standard abbreviation for numpy"
   ]
  },
  {
   "cell_type": "markdown",
   "id": "4c35099a",
   "metadata": {},
   "source": [
    "#### `numpy` `ndarray`"
   ]
  },
  {
   "cell_type": "markdown",
   "id": "e140c074",
   "metadata": {},
   "source": [
    "`ndarray` (n-dimensional array) is the main object in `numpy` and it is a table of elements (usually numbers), all of the same type, indexed by a tuple of non-negative integers.\n",
    "\n",
    "Example:\n",
    "```python\n",
    "np.ndarray([[1., 2., 3.],\n",
    "            [4., 5., 6.]])\n",
    "```\n",
    "This is a 2-dimensional array (a matrix) that has 2 elements on the first dimension (2 rows) and 3 elements on the second dimension (3 columns). In `numpy` each dimension is called *axis*."
   ]
  },
  {
   "cell_type": "code",
   "execution_count": 67,
   "id": "c06ab8ee",
   "metadata": {},
   "outputs": [
    {
     "data": {
      "text/plain": [
       "array([[0.10537884, 0.73064275, 0.37465206],\n",
       "       [0.01611253, 0.91725166, 0.28563444]])"
      ]
     },
     "execution_count": 67,
     "metadata": {},
     "output_type": "execute_result"
    }
   ],
   "source": [
    "# generate a random 2D array with 2 rows and 3 columns (i.e., with shape (2,3))\n",
    "a = np.random.rand(2, 3)\n",
    "a"
   ]
  },
  {
   "cell_type": "code",
   "execution_count": 68,
   "id": "f2ff37a3",
   "metadata": {},
   "outputs": [
    {
     "name": "stdout",
     "output_type": "stream",
     "text": [
      "number of dimensions: 2\n",
      "shape: (2, 3)\n",
      "type: float64\n"
     ]
    }
   ],
   "source": [
    "print('number of dimensions:', a.ndim)\n",
    "print('shape:', a.shape)\n",
    "print('type:', a.dtype)"
   ]
  },
  {
   "cell_type": "markdown",
   "id": "39b1f1a1",
   "metadata": {},
   "source": [
    "`ndarray`s can have an aribitrary number of dimensions."
   ]
  },
  {
   "cell_type": "code",
   "execution_count": 69,
   "id": "16dd084c",
   "metadata": {},
   "outputs": [
    {
     "name": "stdout",
     "output_type": "stream",
     "text": [
      "[ 0  1  2  3  4  5  6  7  8  9 10 11 12 13 14 15 16 17 18 19 20 21 22 23]\n",
      "ndim: 1, shape: (24,), type: int64\n"
     ]
    }
   ],
   "source": [
    "# generate 1D array containing integers from 0 to 23\n",
    "b = np.arange(24)\n",
    "print(b)\n",
    "print(f'ndim: {b.ndim}, shape: {b.shape}, type: {b.dtype}')"
   ]
  },
  {
   "cell_type": "code",
   "execution_count": 70,
   "id": "6ce8ba77",
   "metadata": {},
   "outputs": [
    {
     "name": "stdout",
     "output_type": "stream",
     "text": [
      "[[[ 0  1  2]\n",
      "  [ 3  4  5]\n",
      "  [ 6  7  8]\n",
      "  [ 9 10 11]]\n",
      "\n",
      " [[12 13 14]\n",
      "  [15 16 17]\n",
      "  [18 19 20]\n",
      "  [21 22 23]]]\n",
      "ndim: 3, shape: (2, 4, 3), type: int64\n"
     ]
    }
   ],
   "source": [
    "b = b.reshape(2, 4, 3)\n",
    "print(b)\n",
    "print(f'ndim: {b.ndim}, shape: {b.shape}, type: {b.dtype}')"
   ]
  },
  {
   "cell_type": "markdown",
   "id": "e727949a",
   "metadata": {
    "heading_collapsed": "true"
   },
   "source": [
    "##### basic operations"
   ]
  },
  {
   "cell_type": "markdown",
   "id": "3671bf15",
   "metadata": {},
   "source": [
    "The same arithmetic operators we have seen for numeric types apply on arrays **elementwise**."
   ]
  },
  {
   "cell_type": "code",
   "execution_count": 71,
   "id": "298bc048-7506-4512-922e-f2ba477c3ba8",
   "metadata": {},
   "outputs": [
    {
     "name": "stdout",
     "output_type": "stream",
     "text": [
      "a: [ 0  1  2  3  4  5  6  7  8  9 10 11]\n"
     ]
    }
   ],
   "source": [
    "# create a 1D array\n",
    "a = np.arange(12)\n",
    "print('a:', a)"
   ]
  },
  {
   "cell_type": "code",
   "execution_count": 72,
   "id": "ebd9c4b2-b6c1-49c4-bee7-dd0921c2cfe8",
   "metadata": {},
   "outputs": [
    {
     "name": "stdout",
     "output_type": "stream",
     "text": [
      "b: [ 0  2  4  6  8 10 12 14 16 18 20 22]\n"
     ]
    }
   ],
   "source": [
    "# multiply an array by a scalar\n",
    "b = 2*a\n",
    "print('b:', b)"
   ]
  },
  {
   "cell_type": "code",
   "execution_count": 73,
   "id": "bcf1444a-ad05-4161-a15d-4619f276e9bc",
   "metadata": {},
   "outputs": [
    {
     "name": "stdout",
     "output_type": "stream",
     "text": [
      "c: [ 0  3  6  9 12 15 18 21 24 27 30 33]\n"
     ]
    }
   ],
   "source": [
    "# sum of 2 arrays with the same shape\n",
    "c = a + b\n",
    "print('c:', c)"
   ]
  },
  {
   "cell_type": "code",
   "execution_count": 74,
   "id": "f80bb1a8",
   "metadata": {},
   "outputs": [
    {
     "name": "stdout",
     "output_type": "stream",
     "text": [
      "0\n",
      "1\n",
      "2\n",
      "3\n",
      "4\n",
      "5\n",
      "6\n",
      "7\n",
      "8\n",
      "9\n",
      "10\n",
      "11\n"
     ]
    }
   ],
   "source": [
    "for i in a:\n",
    "    print(i)"
   ]
  },
  {
   "cell_type": "markdown",
   "id": "fb9580dd",
   "metadata": {},
   "source": [
    "Unlike in many matrix languages, the product operator `*` operates elementwise in `numpy`. The matrix product can be performed using the `@` operator."
   ]
  },
  {
   "cell_type": "code",
   "execution_count": 75,
   "id": "300cb96c-ed1c-4df7-8239-d7ba3bbaf369",
   "metadata": {},
   "outputs": [
    {
     "data": {
      "text/plain": [
       "array([[1., 1., 1.],\n",
       "       [1., 1., 1.]])"
      ]
     },
     "execution_count": 75,
     "metadata": {},
     "output_type": "execute_result"
    }
   ],
   "source": [
    "np.ones((2,3))"
   ]
  },
  {
   "cell_type": "code",
   "execution_count": 76,
   "id": "57989922",
   "metadata": {},
   "outputs": [
    {
     "data": {
      "text/plain": [
       "(array([[0, 1, 2],\n",
       "        [3, 4, 5]]),\n",
       " array([[2, 2, 2],\n",
       "        [2, 2, 2]]))"
      ]
     },
     "execution_count": 76,
     "metadata": {},
     "output_type": "execute_result"
    }
   ],
   "source": [
    "A = np.arange(6).reshape(2,3)\n",
    "B = 2*np.ones((2,3), dtype=int)\n",
    "A, B"
   ]
  },
  {
   "cell_type": "code",
   "execution_count": 77,
   "id": "3f059b16",
   "metadata": {
    "scrolled": true
   },
   "outputs": [
    {
     "data": {
      "text/plain": [
       "array([[ 0,  2,  4],\n",
       "       [ 6,  8, 10]])"
      ]
     },
     "execution_count": 77,
     "metadata": {},
     "output_type": "execute_result"
    }
   ],
   "source": [
    "# elementwise multiplication\n",
    "C = A * B\n",
    "C"
   ]
  },
  {
   "cell_type": "code",
   "execution_count": 78,
   "id": "94a1aad4-78f0-4436-9a9d-67be486d38c6",
   "metadata": {},
   "outputs": [
    {
     "data": {
      "text/plain": [
       "array([[2, 2],\n",
       "       [2, 2],\n",
       "       [2, 2]])"
      ]
     },
     "execution_count": 78,
     "metadata": {},
     "output_type": "execute_result"
    }
   ],
   "source": [
    "B.T"
   ]
  },
  {
   "cell_type": "code",
   "execution_count": 79,
   "id": "689d8841",
   "metadata": {},
   "outputs": [
    {
     "data": {
      "text/plain": [
       "array([[ 6,  6],\n",
       "       [24, 24]])"
      ]
     },
     "execution_count": 79,
     "metadata": {},
     "output_type": "execute_result"
    }
   ],
   "source": [
    "# matrix multiplication (dot product)\n",
    "D = A @ B.T    # B transposed to match dimensions\n",
    "D"
   ]
  },
  {
   "cell_type": "code",
   "execution_count": 80,
   "id": "05a6ffca-d7a5-4b16-81a3-f2ebf69a2007",
   "metadata": {},
   "outputs": [
    {
     "ename": "ValueError",
     "evalue": "matmul: Input operand 1 has a mismatch in its core dimension 0, with gufunc signature (n?,k),(k,m?)->(n?,m?) (size 2 is different from 3)",
     "output_type": "error",
     "traceback": [
      "\u001b[1;31m---------------------------------------------------------------------------\u001b[0m",
      "\u001b[1;31mValueError\u001b[0m                                Traceback (most recent call last)",
      "Cell \u001b[1;32mIn[80], line 1\u001b[0m\n\u001b[1;32m----> 1\u001b[0m \u001b[43mA\u001b[49m\u001b[43m \u001b[49m\u001b[38;5;241;43m@\u001b[39;49m\u001b[43m \u001b[49m\u001b[43mB\u001b[49m\n",
      "\u001b[1;31mValueError\u001b[0m: matmul: Input operand 1 has a mismatch in its core dimension 0, with gufunc signature (n?,k),(k,m?)->(n?,m?) (size 2 is different from 3)"
     ]
    }
   ],
   "source": [
    "A @ B"
   ]
  },
  {
   "cell_type": "markdown",
   "id": "dd07df12-c49b-4228-b4a9-ee905c873ac8",
   "metadata": {},
   "source": [
    "<p style='font-size: 22px'>\n",
    "    <b> Exercise: </b> 1) Build a random 1x3 vector and a random 4x3 matrix 2) execute a dot product among them 3) compute the squared sum of the elements in the result\n",
    "</p>"
   ]
  },
  {
   "cell_type": "code",
   "execution_count": null,
   "id": "ba3fbd1e-1458-4a39-b4ca-26430f713fe5",
   "metadata": {},
   "outputs": [],
   "source": [
    "# Code here"
   ]
  },
  {
   "cell_type": "markdown",
   "id": "26a7a8cb",
   "metadata": {
    "heading_collapsed": "true"
   },
   "source": [
    "##### Indexing"
   ]
  },
  {
   "cell_type": "markdown",
   "id": "a4ac174b",
   "metadata": {},
   "source": [
    "`numpy` arrays support basic indexing and slicing, plus new fancy ways of doing it."
   ]
  },
  {
   "cell_type": "code",
   "execution_count": 81,
   "id": "9316073e",
   "metadata": {},
   "outputs": [
    {
     "data": {
      "text/plain": [
       "array([  0,   1,   8,  27,  64, 125, 216, 343, 512, 729])"
      ]
     },
     "execution_count": 81,
     "metadata": {},
     "output_type": "execute_result"
    }
   ],
   "source": [
    "a = np.arange(10)**3\n",
    "a"
   ]
  },
  {
   "cell_type": "code",
   "execution_count": 82,
   "id": "936d2948",
   "metadata": {},
   "outputs": [
    {
     "data": {
      "text/plain": [
       "np.int64(729)"
      ]
     },
     "execution_count": 82,
     "metadata": {},
     "output_type": "execute_result"
    }
   ],
   "source": [
    "a[-1]"
   ]
  },
  {
   "cell_type": "code",
   "execution_count": 83,
   "id": "42187c5a",
   "metadata": {},
   "outputs": [
    {
     "data": {
      "text/plain": [
       "array([ 8, 27, 64])"
      ]
     },
     "execution_count": 83,
     "metadata": {},
     "output_type": "execute_result"
    }
   ],
   "source": [
    "a[2:5]  # Note: 2 is included and 5 excluded (standard Python indexing)"
   ]
  },
  {
   "cell_type": "code",
   "execution_count": 84,
   "id": "dbe161f7",
   "metadata": {},
   "outputs": [
    {
     "data": {
      "text/plain": [
       "array([ 0,  8, 64])"
      ]
     },
     "execution_count": 84,
     "metadata": {},
     "output_type": "execute_result"
    }
   ],
   "source": [
    "a[0:6:2]"
   ]
  },
  {
   "cell_type": "code",
   "execution_count": 85,
   "id": "1e91e93f",
   "metadata": {},
   "outputs": [
    {
     "data": {
      "text/plain": [
       "array([1000,    1, 1000,   27, 1000,  125,  216,  343,  512,  729])"
      ]
     },
     "execution_count": 85,
     "metadata": {},
     "output_type": "execute_result"
    }
   ],
   "source": [
    "a[:6:2] = 1000 # equivalent to `a[0:6:2] = 1000`\n",
    "a"
   ]
  },
  {
   "cell_type": "code",
   "execution_count": 86,
   "id": "f6824d35",
   "metadata": {},
   "outputs": [
    {
     "data": {
      "text/plain": [
       "np.int64(512)"
      ]
     },
     "execution_count": 86,
     "metadata": {},
     "output_type": "execute_result"
    }
   ],
   "source": [
    "a[-2]"
   ]
  },
  {
   "cell_type": "code",
   "execution_count": null,
   "id": "1a467033",
   "metadata": {},
   "outputs": [
    {
     "data": {
      "text/plain": [
       "array([ 729,  512,  343,  216,  125, 1000,   27, 1000,    1, 1000])"
      ]
     },
     "execution_count": 87,
     "metadata": {},
     "output_type": "execute_result"
    }
   ],
   "source": [
    "a[::-1] # reversed copy of a"
   ]
  },
  {
   "cell_type": "code",
   "execution_count": 88,
   "id": "db43c285",
   "metadata": {},
   "outputs": [
    {
     "data": {
      "text/plain": [
       "array([[0, 1, 2],\n",
       "       [3, 4, 5]])"
      ]
     },
     "execution_count": 88,
     "metadata": {},
     "output_type": "execute_result"
    }
   ],
   "source": [
    "A = np.arange(6).reshape(2,3)\n",
    "A"
   ]
  },
  {
   "cell_type": "code",
   "execution_count": 89,
   "id": "50c31cc4",
   "metadata": {},
   "outputs": [
    {
     "data": {
      "text/plain": [
       "np.int64(3)"
      ]
     },
     "execution_count": 89,
     "metadata": {},
     "output_type": "execute_result"
    }
   ],
   "source": [
    "A[1, 0]"
   ]
  },
  {
   "cell_type": "code",
   "execution_count": 90,
   "id": "8dee8691-6a21-4076-a57c-115de0b7074e",
   "metadata": {},
   "outputs": [
    {
     "data": {
      "text/plain": [
       "array([[0, 2],\n",
       "       [3, 5]])"
      ]
     },
     "execution_count": 90,
     "metadata": {},
     "output_type": "execute_result"
    }
   ],
   "source": [
    "A[:, ::2]"
   ]
  },
  {
   "cell_type": "markdown",
   "id": "188dc3d8-dd79-4840-946c-11e93b5d3c05",
   "metadata": {},
   "source": [
    "<p style='font-size: 22px'>\n",
    "    <b> Exercise: </b> 1) generate a 12x6 random matrix and print the elements corresponding to the last 2 rows and the first 3 even columns.\n",
    "</p>"
   ]
  },
  {
   "cell_type": "code",
   "execution_count": null,
   "id": "a52a1a98-5fa1-47b4-ab05-5151d859891f",
   "metadata": {},
   "outputs": [],
   "source": [
    "# Code here"
   ]
  },
  {
   "cell_type": "markdown",
   "id": "bc0a1b8a",
   "metadata": {
    "toc-hr-collapsed": true
   },
   "source": [
    "### Matplotlib"
   ]
  },
  {
   "cell_type": "markdown",
   "id": "32b38040",
   "metadata": {},
   "source": [
    "[`matplotlib`](https://matplotlib.org/) is a comprehensive library for creating static, animated, and interactive **visualizations** in Python.\n",
    "\n",
    "Like `numpy`, it is part of the *SciPy ecosistem* and plays the role of the standard basic library for visualization in the Python community."
   ]
  },
  {
   "cell_type": "code",
   "execution_count": 91,
   "id": "e2de47fa",
   "metadata": {},
   "outputs": [],
   "source": [
    "import matplotlib.pyplot as plt  # standard abbreviation for pyplot"
   ]
  },
  {
   "cell_type": "markdown",
   "id": "427ce637",
   "metadata": {},
   "source": [
    "Let's create a basic plot"
   ]
  },
  {
   "cell_type": "code",
   "execution_count": 92,
   "id": "7a56d842",
   "metadata": {},
   "outputs": [],
   "source": [
    "x = np.arange(100)     # 1D array for time (x-axis in the plot)\n",
    "y = np.sin(np.pi*x/10) # 1D array for amplitude (y-axis in the plot)"
   ]
  },
  {
   "cell_type": "code",
   "execution_count": 93,
   "id": "3c47757d",
   "metadata": {},
   "outputs": [
    {
     "data": {
      "text/plain": [
       "[<matplotlib.lines.Line2D at 0x1d41f6a60d0>]"
      ]
     },
     "execution_count": 93,
     "metadata": {},
     "output_type": "execute_result"
    },
    {
     "data": {
      "image/png": "[encoded data removed]",
      "text/plain": [
       "<Figure size 640x480 with 1 Axes>"
      ]
     },
     "metadata": {},
     "output_type": "display_data"
    }
   ],
   "source": [
    "plt.plot(x, y, '-o')"
   ]
  },
  {
   "cell_type": "markdown",
   "id": "3d40ae84",
   "metadata": {},
   "source": [
    "A plot is made of two main elements:\n",
    "- figure: think it as the frame of the image that is displayed\n",
    "- axis: think as the object that is displayed and we can have more than one axis in a figure\n",
    "\n",
    "`pyplot` provides the `subplots` method that allow to have control on those two objects."
   ]
  },
  {
   "cell_type": "code",
   "execution_count": 94,
   "id": "23762a77",
   "metadata": {},
   "outputs": [
    {
     "data": {
      "image/png": "[encoded data removed]",
      "text/plain": [
       "<Figure size 640x480 with 2 Axes>"
      ]
     },
     "metadata": {},
     "output_type": "display_data"
    }
   ],
   "source": [
    "fig, ax = plt.subplots(2, 1)\n",
    "\n",
    "ax[0].plot(x, y) # plotting directly from the axis\n",
    "# adding title and labels on axes\n",
    "ax[0].set(ylabel='amplitude', title='top plot')\n",
    "ax[0].grid(True) # adding grid to the background\n",
    "\n",
    "z = np.cos(np.pi*x/10)\n",
    "ax[1].plot(x, z) # plotting directly from the axis\n",
    "# adding title and labels on axes\n",
    "ax[1].set(xlabel='time [s]', ylabel='amplitude', title='bottom plot')\n",
    "ax[1].grid(True) # adding grid to the background\n",
    "\n",
    "fig.savefig('first_plot')\n",
    "fig.tight_layout()"
   ]
  },
  {
   "cell_type": "code",
   "execution_count": 95,
   "id": "9e8bbe1d-2a26-4962-a903-51a68e17e765",
   "metadata": {},
   "outputs": [
    {
     "data": {
      "text/plain": [
       "array([0. , 0.1, 0.2, 0.3, 0.4, 0.5, 0.6, 0.7, 0.8, 0.9, 1. , 1.1, 1.2,\n",
       "       1.3, 1.4, 1.5, 1.6, 1.7, 1.8, 1.9, 2. , 2.1, 2.2, 2.3, 2.4, 2.5,\n",
       "       2.6, 2.7, 2.8, 2.9, 3. , 3.1, 3.2, 3.3, 3.4, 3.5, 3.6, 3.7, 3.8,\n",
       "       3.9, 4. , 4.1, 4.2, 4.3, 4.4, 4.5, 4.6, 4.7, 4.8, 4.9, 5. , 5.1,\n",
       "       5.2, 5.3, 5.4, 5.5, 5.6, 5.7, 5.8, 5.9, 6. , 6.1, 6.2, 6.3, 6.4,\n",
       "       6.5, 6.6, 6.7, 6.8, 6.9, 7. , 7.1, 7.2, 7.3, 7.4, 7.5, 7.6, 7.7,\n",
       "       7.8, 7.9, 8. , 8.1, 8.2, 8.3, 8.4, 8.5, 8.6, 8.7, 8.8, 8.9, 9. ,\n",
       "       9.1, 9.2, 9.3, 9.4, 9.5, 9.6, 9.7, 9.8, 9.9])"
      ]
     },
     "execution_count": 95,
     "metadata": {},
     "output_type": "execute_result"
    }
   ],
   "source": [
    "np.arange(0, 10, 0.1)"
   ]
  },
  {
   "cell_type": "code",
   "execution_count": 96,
   "id": "cabc534d",
   "metadata": {},
   "outputs": [
    {
     "data": {
      "image/png": "[encoded data removed]",
      "text/plain": [
       "<Figure size 640x480 with 1 Axes>"
      ]
     },
     "metadata": {},
     "output_type": "display_data"
    }
   ],
   "source": [
    "x = np.arange(0, 10, 0.1)\n",
    "y = np.sqrt(x) * np.sin(np.pi*x)\n",
    "z = np.exp(-x**2/10) * np.cos(2*np.pi*x)\n",
    "\n",
    "fig, ax = plt.subplots()\n",
    "ax.plot(x, y, label='y') # first line plot\n",
    "ax.plot(x, z, label='z') # second line plot\n",
    "ax.legend(loc='upper left') # adding legend to the plot\n",
    "ax.set(xlabel='time [s]', ylabel='amplitude', title='multiple lines')\n",
    "ax.grid(True)"
   ]
  },
  {
   "cell_type": "markdown",
   "id": "48acc7ae",
   "metadata": {
    "heading_collapsed": "false"
   },
   "source": [
    "#### Histograms"
   ]
  },
  {
   "cell_type": "markdown",
   "id": "3e8292ea-b976-44c2-a3c5-b705487f74ef",
   "metadata": {},
   "source": [
    "Histogram is a way to visualize the distribution of numerical data."
   ]
  },
  {
   "cell_type": "code",
   "execution_count": null,
   "id": "2a5be433-8bf3-4d32-9eb3-5f587fb8b902",
   "metadata": {
    "heading_collapsed": "false"
   },
   "outputs": [],
   "source": [
    "x = np.random.normal(1, 2, 100000)  # generate data from normal distribution mean=1 std=2"
   ]
  },
  {
   "cell_type": "code",
   "execution_count": 98,
   "id": "7397a165-9589-4bf7-81aa-3ce3c9c02520",
   "metadata": {
    "heading_collapsed": "false"
   },
   "outputs": [
    {
     "data": {
      "image/png": "[encoded data removed]",
      "text/plain": [
       "<Figure size 600x300 with 1 Axes>"
      ]
     },
     "metadata": {},
     "output_type": "display_data"
    }
   ],
   "source": [
    "fig, ax = plt.subplots(1, 1, figsize=(6, 3))\n",
    "\n",
    "ax.hist(x, bins=50) \n",
    "ax.set_title(\"Normal histogram\")\n",
    "ax.set_xlim((min(x), max(x)))\n",
    "ax.set_ylabel('frequency')\n",
    "ax.set_xlabel('value');"
   ]
  },
  {
   "cell_type": "markdown",
   "id": "68334113-5243-4ba6-82c4-55038e4ffbd0",
   "metadata": {},
   "source": [
    "#### Other plots"
   ]
  },
  {
   "cell_type": "code",
   "execution_count": null,
   "id": "c67e47ca",
   "metadata": {
    "heading_collapsed": "false"
   },
   "outputs": [],
   "source": [
    "fig, axes = plt.subplots(1, 3, figsize=(12,3))\n",
    "\n",
    "x = np.random.randn(100)\n",
    "y = x + 0.5*np.random.randn(len(x))\n",
    "axes[0].scatter(x, y)\n",
    "axes[0].set_title(\"scatter\")\n",
    "\n",
    "n = np.arange(0, 6)\n",
    "axes[1].step(n, n**2, lw=2)\n",
    "axes[1].set_title(\"step\")\n",
    "axes[2].bar(n, n**2, align=\"center\", width=0.5, alpha=0.1)\n",
    "axes[2].set_title(\"bar\")"
   ]
  },
  {
   "cell_type": "markdown",
   "id": "bdd5de40-b602-460e-96a1-86d67651754e",
   "metadata": {},
   "source": [
    "<p style='font-size: 22px'>\n",
    "    <b> Exercise: </b> \n",
    "</p>\n",
    "\n",
    "1. plot the function:\n",
    "$$\n",
    "f(t) = e^{-t^2/6}cos\\left(2 \\pi t \\right) + \\frac{1}{2} cos\\left(2 \\pi t + \\pi/3\\right) \\quad\\quad t \\in [0, 5]\n",
    "$$\n",
    "\n",
    "2. generate 1000 samples $(x, y)$ such that $x \\sim \\mathcal{U}([0,5])$, and $y = f(x) + \\nu$, where $\\nu \\sim \\mathcal{N}(0, 0.1)$ and plot the samples in a scatter plot\n",
    "\n",
    "3. plot the distribution of $y$"
   ]
  },
  {
   "cell_type": "code",
   "execution_count": null,
   "id": "283a6564",
   "metadata": {},
   "outputs": [],
   "source": [
    "# Code here"
   ]
  },
  {
   "cell_type": "markdown",
   "id": "b52c4402",
   "metadata": {},
   "source": [
    "### Files"
   ]
  },
  {
   "cell_type": "code",
   "execution_count": 99,
   "id": "2115236c-c4d5-423a-88a4-643b3eda829e",
   "metadata": {},
   "outputs": [],
   "source": [
    "hello_txt = 'This is an example of a text file.\\nCiao Ciao\\n\\n'"
   ]
  },
  {
   "cell_type": "code",
   "execution_count": 100,
   "id": "5f966aca-df89-418d-95d0-afe9679e8f68",
   "metadata": {},
   "outputs": [],
   "source": [
    "with open(file='text_file.txt', mode='w') as f:\n",
    "    f.write(hello_txt)"
   ]
  },
  {
   "cell_type": "markdown",
   "id": "de54915e",
   "metadata": {},
   "source": [
    "#### read text"
   ]
  },
  {
   "cell_type": "markdown",
   "id": "ae7914a0-0feb-4dc3-9c10-43d0195c421d",
   "metadata": {},
   "source": [
    "encoding is the name of the encoding used to decode or encode the file and has to be used only in text mode"
   ]
  },
  {
   "cell_type": "code",
   "execution_count": 101,
   "id": "7d7e4739",
   "metadata": {},
   "outputs": [],
   "source": [
    "with open(file='text_file.txt', mode='r') as f:\n",
    "    txt = f.read()"
   ]
  },
  {
   "cell_type": "code",
   "execution_count": 102,
   "id": "d73bf6cf-d381-417f-bcb6-1ade927cec6b",
   "metadata": {},
   "outputs": [
    {
     "data": {
      "text/plain": [
       "'This is an example of a text file.\\nCiao Ciao\\n\\n'"
      ]
     },
     "execution_count": 102,
     "metadata": {},
     "output_type": "execute_result"
    }
   ],
   "source": [
    "txt"
   ]
  },
  {
   "cell_type": "markdown",
   "id": "f9d6b608-f44a-4bb6-8cf4-20e0849c588f",
   "metadata": {},
   "source": [
    "With text files sometims it is sometimes necessary to specify the value of an additional field *encoding*, e.,g., encoding='utf-8' (Unix standard).\n",
    "\n",
    "Encoding is the name of the encoding used to decode or encode the file. "
   ]
  },
  {
   "cell_type": "code",
   "execution_count": null,
   "id": "8f699be4-67a2-4640-99ed-b336419f9075",
   "metadata": {},
   "outputs": [],
   "source": [
    "with open(file='text_file.txt', encoding='utf-8') as f:\n",
    "    txt = f.read()"
   ]
  },
  {
   "cell_type": "code",
   "execution_count": 114,
   "id": "1503aa52-1524-4d08-bae0-8c2a73891be1",
   "metadata": {},
   "outputs": [
    {
     "name": "stdout",
     "output_type": "stream",
     "text": [
      "This is an example of a text file.\n",
      "Ciao Ciao\n",
      "\n",
      "\n"
     ]
    }
   ],
   "source": [
    "print(txt)"
   ]
  },
  {
   "cell_type": "markdown",
   "id": "1966d6ec",
   "metadata": {},
   "source": [
    "#### write pickle"
   ]
  },
  {
   "cell_type": "markdown",
   "id": "4a2129dd-c8c7-427b-8d06-d76726bdb6fe",
   "metadata": {},
   "source": [
    "We can also save/load files different from text, these files have to be managed in binary format.\n",
    "\n",
    "To read/write it is necessary to indicate the binary mode through an additional charecter 'b'."
   ]
  },
  {
   "cell_type": "code",
   "execution_count": 109,
   "id": "3b910621-c29c-4c36-a704-2ffb59814d54",
   "metadata": {},
   "outputs": [],
   "source": [
    "planet_moons = {\"Earth\": \"Moon\", \"Saturn\": \"Titan\"}"
   ]
  },
  {
   "cell_type": "code",
   "execution_count": 110,
   "id": "489e764d-d274-4483-9c92-534ccb54c757",
   "metadata": {},
   "outputs": [],
   "source": [
    "import pickle\n",
    "\n",
    "with open(file='planet_moons.pkl', mode='wb') as f:\n",
    "    pickle.dump(planet_moons, f)  "
   ]
  },
  {
   "cell_type": "markdown",
   "id": "2e546039-93bd-42a3-b235-a377f837be4b",
   "metadata": {},
   "source": [
    "The *pickle* module implements binary protocols for serializing and de-serializing a Python object structure. *“Pickling”* is the process whereby a Python object hierarchy is converted into a byte stream, and *“unpickling”* is the inverse operation, whereby a byte stream (from a binary file or bytes-like object) is converted back into an object hierarchy. "
   ]
  },
  {
   "cell_type": "markdown",
   "id": "9e1a6f56",
   "metadata": {},
   "source": [
    "#### read pickle"
   ]
  },
  {
   "cell_type": "code",
   "execution_count": 111,
   "id": "965f4b02-bbad-4f6f-87dd-bc4e191686f0",
   "metadata": {},
   "outputs": [],
   "source": [
    "with open(file='planet_moons.pkl', mode='rb') as f:\n",
    "    planet_moons2 = pickle.load(f)"
   ]
  },
  {
   "cell_type": "code",
   "execution_count": 112,
   "id": "759b5c53-6131-45c4-99e5-307ecd79672f",
   "metadata": {},
   "outputs": [
    {
     "name": "stdout",
     "output_type": "stream",
     "text": [
      "{'Earth': 'Moon', 'Saturn': 'Titan'}\n"
     ]
    }
   ],
   "source": [
    "print(planet_moons2)"
   ]
  }
 ],
 "metadata": {
  "kernelspec": {
   "display_name": "datasecurity-env",
   "language": "python",
   "name": "python3"
  },
  "language_info": {
   "codemirror_mode": {
    "name": "ipython",
    "version": 3
   },
   "file_extension": ".py",
   "mimetype": "text/x-python",
   "name": "python",
   "nbconvert_exporter": "python",
   "pygments_lexer": "ipython3",
   "version": "3.13.2"
  }
 },
 "nbformat": 4,
 "nbformat_minor": 5
}
