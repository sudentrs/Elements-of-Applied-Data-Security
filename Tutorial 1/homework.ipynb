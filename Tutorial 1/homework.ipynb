{
 "cells": [
  {
   "cell_type": "markdown",
   "id": "cbe10e77-2f05-4219-8cb8-848e23450f03",
   "metadata": {},
   "source": [
    "## Homework"
   ]
  },
  {
   "cell_type": "markdown",
   "id": "9fc495d1-691d-4a0a-a26a-4bc3e855b776",
   "metadata": {},
   "source": [
    "__1.__ Read the text file *wikipedia_cybersecurity.txt* \n",
    "\n",
    "__2.__ Build a function that given a certain letter of the English alphabet, returns its occurrence in the text\n",
    "\n",
    "__3.__ Build a function that given a text, returns the English letters distribution (frequency) contained in a suitable data structure\n",
    "\n",
    "__4.__ Visualize the letters distribution by means of the most appropriate plot\n",
    "\n",
    "__5.__ Save the data structure as a .pkl (“pickle”) file\n"
   ]
  },
  {
   "cell_type": "code",
   "execution_count": null,
   "id": "682bc6fe-6f83-4ad7-b35f-af9a9b76285a",
   "metadata": {},
   "outputs": [],
   "source": []
  }
 ],
 "metadata": {
  "kernelspec": {
   "display_name": "Python 3 (ipykernel)",
   "language": "python",
   "name": "python3"
  },
  "language_info": {
   "codemirror_mode": {
    "name": "ipython",
    "version": 3
   },
   "file_extension": ".py",
   "mimetype": "text/x-python",
   "name": "python",
   "nbconvert_exporter": "python",
   "pygments_lexer": "ipython3",
   "version": "3.12.3"
  }
 },
 "nbformat": 4,
 "nbformat_minor": 5
}
