{
 "cells": [
  {
   "cell_type": "markdown",
   "id": "00172a96",
   "metadata": {},
   "source": [
    "# Substitution Ciphers"
   ]
  },
  {
   "cell_type": "code",
   "execution_count": 182,
   "id": "082b70d2-197b-4c55-9092-4c1cb02a6298",
   "metadata": {},
   "outputs": [],
   "source": [
    "# import modules\n",
    "import numpy as np\n",
    "import matplotlib.pyplot as plt\n",
    "import string\n",
    "import pickle"
   ]
  },
  {
   "cell_type": "markdown",
   "id": "c20a9001-f4fd-401f-922b-db8347ff36fe",
   "metadata": {},
   "source": [
    "## Introduction"
   ]
  },
  {
   "cell_type": "markdown",
   "id": "88c571e3-d03d-4506-a411-67663dc6ff9f",
   "metadata": {},
   "source": [
    "This report focuses on substitution ciphers, one of the simplest and oldest forms of encryption in cryptography, though considered vulnerable by modern standards. This simplicity comes from the fact that each letter is mapped to another letter by a pre-defined \"rule,\" and due to the size of the English alphabet and modern computation power, this rule can be exposed by the attacker with a simple set of operations.\n",
    "\n",
    "Substitution ciphers are essentially ciphers that substitute each letter in a message with a different one from a shifted or shuffled alphabet, based on a key or a rule. Specifically, our goal is to implement, analyze, and decrypt 3 types of substitution ciphers called the Caeser Cipher, the Simple Substitution Cipher and the Affine Cipher through the brute force and frequency analysis methods.  \n",
    "\n",
    "For the Caesar Cipher, we aim to find a key through the brute force technique, and for the Simple Substitution Cipher, the goal is to reconstruct the plaintext by matching the frequency of the letters in the English alphabet and the ciphertext, known as the frequency analysis technique, while in Affire Cipher the method is to use both multiplication and addition in modular arithmetic."
   ]
  },
  {
   "cell_type": "markdown",
   "id": "6a297866",
   "metadata": {},
   "source": [
    "## Caesar Cipher"
   ]
  },
  {
   "cell_type": "markdown",
   "id": "b53b1655",
   "metadata": {},
   "source": [
    "Gaius Julius Caesar was a Roman general and statesman. The Caesar Cipher, a simple encryption technique, was named after him, as he reportedly used this method in his private correspondence with his army (Singh, 1999).\n",
    "\n",
    "The Caesar Cipher is a type of substitution cipher in which each letter in the plaintext is shifted forward (or backward) by a fixed number of positions in the alphabet. The key determines how many positions each letter is moved. For example, if the key is 2 in the English alphabet, each letter in the text shifts by two positions, mapping the letter 'A' to 'C' . Since the English alphabet has only 26 possible keys, a brute-force attack remains a feasible method for decryption (Katz & Lindell, 2020).\n",
    "\n",
    "The decryption process mirrors the encryption process by reversing the shift and restoring the letters to their original positions. Following the previous example, the letter 'C' would shift back to 'A' after decryption . The following task demonstrates both encryption and decryption using the Caesar Cipher.(Menezes, van Oorschot, & Vanstone, 1996)"
   ]
  },
  {
   "cell_type": "markdown",
   "id": "b29aef0d-75ee-4da1-b058-09fea1bb9c0a",
   "metadata": {},
   "source": [
    "### Encryption"
   ]
  },
  {
   "cell_type": "code",
   "execution_count": 183,
   "id": "296e7951",
   "metadata": {},
   "outputs": [],
   "source": [
    "# encryption function for caesar cipher\n",
    "def caesar_encrypt(plaintext, shift=0):\n",
    "    ''' Encrypt `plaintext` (str) as a caesar cipher with a given `shift` (int) \n",
    "    '''\n",
    "    alphabet = string.ascii_lowercase\n",
    "    ciphertext = ''\n",
    "    for char in plaintext:\n",
    "            if char in alphabet:\n",
    "                ciphertext += alphabet[(alphabet.index(char) + shift) % 26]\n",
    "            else:\n",
    "                ciphertext += char  # non-alphabetic characters remain unchanged\n",
    "    return ciphertext"
   ]
  },
  {
   "cell_type": "code",
   "execution_count": 184,
   "id": "9eb77216-0505-4a29-a8e8-458e273a91f4",
   "metadata": {},
   "outputs": [
    {
     "name": "stdout",
     "output_type": "stream",
     "text": [
      "hello! -> lipps!\n"
     ]
    }
   ],
   "source": [
    "# code snippet to test the implementation of the encryption function\n",
    "plaintext = 'hello!' \n",
    "ciphertext = caesar_encrypt(plaintext, shift=4)\n",
    "\n",
    "print(plaintext, '->', ciphertext) # expected output 'hello! -> lipps!'\n"
   ]
  },
  {
   "cell_type": "markdown",
   "id": "d79da87f-6130-427e-9104-9619e3b7b5e4",
   "metadata": {},
   "source": [
    "### Decryption"
   ]
  },
  {
   "cell_type": "code",
   "execution_count": 185,
   "id": "a5b0d026",
   "metadata": {},
   "outputs": [],
   "source": [
    "# decryption function for caesar cipher\n",
    "def caesar_decrypt(ciphertext, shift=0):\n",
    "    ''' Decrypt `ciphertext` (str) as a caesar cipher with a given `shift` (int) \n",
    "    '''\n",
    "    # code here\n",
    "    alphabet = string.ascii_lowercase\n",
    "    plaintext = ''\n",
    "    for char in ciphertext:\n",
    "            if char in alphabet:\n",
    "                plaintext += alphabet[(alphabet.index(char) - shift) % 26]\n",
    "            else:\n",
    "                plaintext += char  # non-alphabetic characters remain unchanged\n",
    "                \n",
    "    return plaintext"
   ]
  },
  {
   "cell_type": "code",
   "execution_count": 186,
   "id": "4317bf77",
   "metadata": {},
   "outputs": [
    {
     "name": "stdout",
     "output_type": "stream",
     "text": [
      "lipps! -> hello!\n"
     ]
    }
   ],
   "source": [
    "# code snippet to test the implementation of the decryption function\n",
    "ciphertext = 'lipps!' # 'hello!' encoded with shift=4\n",
    "plaintext = caesar_decrypt(ciphertext, shift=4)\n",
    "\n",
    "print(ciphertext, '->', plaintext)  # expected output 'lipps! -> hello!'"
   ]
  },
  {
   "cell_type": "markdown",
   "id": "6bf38609",
   "metadata": {},
   "source": [
    "### Ciphertext"
   ]
  },
  {
   "cell_type": "code",
   "execution_count": 187,
   "id": "09746945-d53e-47eb-8bf2-0079a150ecdc",
   "metadata": {},
   "outputs": [],
   "source": [
    "# Load ciphertext\n",
    "with open('ciphertext_caesar.txt', 'r', encoding='utf-8') as file:\n",
    "    ciphertext = file.read()"
   ]
  },
  {
   "cell_type": "code",
   "execution_count": 188,
   "id": "19e5e0f4",
   "metadata": {},
   "outputs": [
    {
     "data": {
      "text/plain": [
       "'jgew (alsdasf sfv dslaf: jges, hjgfgmfuwv [ˈjgːes] ) ak lzw ushalsd ualq gx alsdq. al ak sdkg lzw us'"
      ]
     },
     "execution_count": 188,
     "metadata": {},
     "output_type": "execute_result"
    }
   ],
   "source": [
    "# Printing a part of the ciphertext\n",
    "ciphertext[:100]"
   ]
  },
  {
   "cell_type": "markdown",
   "id": "36d3498f",
   "metadata": {},
   "source": [
    "### Brute Force Attack"
   ]
  },
  {
   "cell_type": "markdown",
   "id": "1c3d1d7c-d12a-4104-8eae-c3ec454069ea",
   "metadata": {},
   "source": [
    "One of the major vulnerabilities of the Caesar Cipher is the limited number of possible keys—only 25 distinct shifts—making it highly susceptible to brute-force attacks. A brute-force attack involves systematically trying all possible shift values and analyzing the resulting plaintexts to identify the correct one (Katz & Lindell, 2020)."
   ]
  },
  {
   "cell_type": "code",
   "execution_count": 189,
   "id": "de080a59-7b09-44b7-82a3-ab3bfc76d0ca",
   "metadata": {},
   "outputs": [
    {
     "name": "stdout",
     "output_type": "stream",
     "text": [
      "Shift=0: jgew (alsdasf sfv dslaf: jges, hjgfgmfuwv [ˈjgːes] ) ak lzw ushalsd ualq gx alsdq. al ak sdkg lzw us \n",
      "\n",
      "Shift=1: ifdv (zkrczre reu crkze: ifdr, gifefletvu [ˈifːdr] ) zj kyv trgzkrc tzkp fw zkrcp. zk zj rcjf kyv tr \n",
      "\n",
      "Shift=2: hecu (yjqbyqd qdt bqjyd: hecq, fhedekdsut [ˈheːcq] ) yi jxu sqfyjqb syjo ev yjqbo. yj yi qbie jxu sq \n",
      "\n",
      "Shift=3: gdbt (xipaxpc pcs apixc: gdbp, egdcdjcrts [ˈgdːbp] ) xh iwt rpexipa rxin du xipan. xi xh pahd iwt rp \n",
      "\n",
      "Shift=4: fcas (whozwob obr zohwb: fcao, dfcbcibqsr [ˈfcːao] ) wg hvs qodwhoz qwhm ct whozm. wh wg ozgc hvs qo \n",
      "\n",
      "Shift=5: ebzr (vgnyvna naq yngva: ebzn, cebabhaprq [ˈebːzn] ) vf gur pncvgny pvgl bs vgnyl. vg vf nyfb gur pn \n",
      "\n",
      "Shift=6: dayq (ufmxumz mzp xmfuz: daym, bdazagzoqp [ˈdaːym] ) ue ftq ombufmx oufk ar ufmxk. uf ue mxea ftq om \n",
      "\n",
      "Shift=7: czxp (telwtly lyo wlety: czxl, aczyzfynpo [ˈczːxl] ) td esp nlatelw ntej zq telwj. te td lwdz esp nl \n",
      "\n",
      "Shift=8: bywo (sdkvskx kxn vkdsx: bywk, zbyxyexmon [ˈbyːwk] ) sc dro mkzsdkv msdi yp sdkvi. sd sc kvcy dro mk \n",
      "\n",
      "Shift=9: axvn (rcjurjw jwm ujcrw: axvj, yaxwxdwlnm [ˈaxːvj] ) rb cqn ljyrcju lrch xo rcjuh. rc rb jubx cqn lj \n",
      "\n",
      "Shift=10: zwum (qbitqiv ivl tibqv: zwui, xzwvwcvkml [ˈzwːui] ) qa bpm kixqbit kqbg wn qbitg. qb qa itaw bpm ki \n",
      "\n",
      "Shift=11: yvtl (pahsphu huk shapu: yvth, wyvuvbujlk [ˈyvːth] ) pz aol jhwpahs jpaf vm pahsf. pa pz hszv aol jh \n",
      "\n",
      "Shift=12: xusk (ozgrogt gtj rgzot: xusg, vxutuatikj [ˈxuːsg] ) oy znk igvozgr ioze ul ozgre. oz oy gryu znk ig \n",
      "\n",
      "Shift=13: wtrj (nyfqnfs fsi qfyns: wtrf, uwtstzshji [ˈwtːrf] ) nx ymj hfunyfq hnyd tk nyfqd. ny nx fqxt ymj hf \n",
      "\n",
      "Shift=14: vsqi (mxepmer erh pexmr: vsqe, tvsrsyrgih [ˈvsːqe] ) mw xli getmxep gmxc sj mxepc. mx mw epws xli ge \n",
      "\n",
      "Shift=15: urph (lwdoldq dqg odwlq: urpd, surqrxqfhg [ˈurːpd] ) lv wkh fdslwdo flwb ri lwdob. lw lv dovr wkh fd \n",
      "\n",
      "Shift=16: tqog (kvcnkcp cpf ncvkp: tqoc, rtqpqwpegf [ˈtqːoc] ) ku vjg ecrkvcn ekva qh kvcna. kv ku cnuq vjg ec \n",
      "\n",
      "Shift=17: spnf (jubmjbo boe mbujo: spnb, qspopvodfe [ˈspːnb] ) jt uif dbqjubm djuz pg jubmz. ju jt bmtp uif db \n",
      "\n",
      "Shift=18: rome (italian and latin: roma, pronounced [ˈroːma] ) is the capital city of italy. it is also the ca \n",
      "\n",
      "Shift=19: qnld (hszkhzm zmc kzshm: qnlz, oqnmntmbdc [ˈqnːlz] ) hr sgd bzohszk bhsx ne hszkx. hs hr zkrn sgd bz \n",
      "\n",
      "Shift=20: pmkc (gryjgyl ylb jyrgl: pmky, npmlmslacb [ˈpmːky] ) gq rfc ayngryj agrw md gryjw. gr gq yjqm rfc ay \n",
      "\n",
      "Shift=21: oljb (fqxifxk xka ixqfk: oljx, molklrkzba [ˈolːjx] ) fp qeb zxmfqxi zfqv lc fqxiv. fq fp xipl qeb zx \n",
      "\n",
      "Shift=22: nkia (epwhewj wjz hwpej: nkiw, lnkjkqjyaz [ˈnkːiw] ) eo pda ywlepwh yepu kb epwhu. ep eo whok pda yw \n",
      "\n",
      "Shift=23: mjhz (dovgdvi viy gvodi: mjhv, kmjijpixzy [ˈmjːhv] ) dn ocz xvkdovg xdot ja dovgt. do dn vgnj ocz xv \n",
      "\n",
      "Shift=24: ligy (cnufcuh uhx funch: ligu, jlihiohwyx [ˈliːgu] ) cm nby wujcnuf wcns iz cnufs. cn cm ufmi nby wu \n",
      "\n",
      "Shift=25: khfx (bmtebtg tgw etmbg: khft, ikhghngvxw [ˈkhːft] ) bl max vtibmte vbmr hy bmter. bm bl telh max vt \n",
      "\n"
     ]
    }
   ],
   "source": [
    "# code here the procedure that allows you to infer the shift value\n",
    "for shift in range(26):\n",
    "    plaintext = caesar_decrypt(ciphertext, shift)\n",
    "    print(f'Shift={shift}: {plaintext[:100]} \\n')"
   ]
  },
  {
   "cell_type": "code",
   "execution_count": 190,
   "id": "aeeb5386-91a3-405a-81c8-7a106a44f12c",
   "metadata": {},
   "outputs": [
    {
     "name": "stdout",
     "output_type": "stream",
     "text": [
      "Correct shift is 18.\n",
      "Decrypted message is: rome (italian and latin: roma, pronounced [ˈroːma] ) is the capital city of italy. it is also the capital of the lazio region, the centre of the metropolitan city of rome capital, and a special comune (municipality) named comune di roma capitale. with 2,860,009 residents in 1,285 km2 (496.1 sq mi), rome is the country's most populated comune and the third most populous city in the european union by population within city limits. the metropolitan city of rome, with a population of 4,355,725 residents, is the most populous metropolitan city in italy. its metropolitan area is the third-most populous within italy. rome is located in the central-western portion of the italian peninsula, within lazio (latium), along the shores of the tiber valley. vatican city (the smallest country in the world and headquarters of the worldwide catholic church under the governance of the holy see) is an independent country inside the city boundaries of rome, the only existing example of a country within a city. rome is often referred to as the city of seven hills due to its geographic location, and also as the \"eternal city\". rome is generally considered to be the cradle of western civilization and western christian culture, and the centre of the catholic church.\n",
      "rome's history spans 28 centuries. while roman mythology dates the founding of rome at around 753 bc, the site has been inhabited for much longer, making it a major human settlement for over three millennia and one of the oldest continuously occupied cities in europe. the city's early population originated from a mix of latins, etruscans, and sabines. eventually, the city successively became the capital of the roman kingdom, the roman republic and the roman empire, and is regarded by many as the first-ever imperial city and metropolis. it was first called the eternal city (latin: urbs aeterna; italian: la città eterna) by the roman poet tibullus in the 1st century bc, and the expression was also taken up by ovid, virgil, and livy. rome is also called caput mundi (capital of the world).\n",
      "after the fall of the empire in the west, which marked the beginning of the middle ages, rome slowly fell under the political control of the papacy, and in the 8th century, it became the capital of the papal states, which lasted until 1870. beginning with the renaissance, almost all popes since nicholas v (1447–1455) pursued a coherent architectural and urban programme over four hundred years, aimed at making the city the artistic and cultural centre of the world. in this way, rome first became one of the major centres of the renaissance and then became the birthplace of both the baroque style and neoclassicism. famous artists, painters, sculptors, and architects made rome the centre of their activity, creating masterpieces throughout the city. in 1871, rome became the capital of the kingdom of italy, which, in 1946, became the italian republic.\n",
      "in 2019, rome was the 14th most visited city in the world, with 8.6 million tourists, the third most visited city in the european union, and the most popular tourist destination in italy. its historic centre is listed by unesco as a world heritage site. the host city for the 1960 summer olympics, rome is also the seat of several specialised agencies of the united nations, such as the food and agriculture organization (fao), the world food programme (wfp), the international fund for agricultural development (ifad) and the un system network on rural development and food security. the city also hosts the european union (eu) delegation to the united nations (un) and the secretariat of the parliamentary assembly of the union for the mediterranean (ufm) as well as the headquarters of several italian multinational companies, such as eni, enel, tim, leonardo, and banks such as bnl. numerous companies are based within rome's eur business district, such as the luxury fashion house fendi located in the palazzo della civiltà italiana. the presence of renowned international brands in the city has made rome an important centre of fashion and design, and the cinecittà studios have been the set of many academy award–winning movies.\n"
     ]
    }
   ],
   "source": [
    "# select the right shift and print the decrypted ciphertext\n",
    "print(f'Correct shift is 18.\\nDecrypted message is: {caesar_decrypt(ciphertext, 18)}')"
   ]
  },
  {
   "cell_type": "markdown",
   "id": "9503d65c",
   "metadata": {},
   "source": [
    "## Simple Substitution Cipher"
   ]
  },
  {
   "cell_type": "markdown",
   "id": "1142538f-3869-4cde-b822-e75b386169ad",
   "metadata": {},
   "source": [
    "A Simple Substitution Cipher differs from the Caesar Cipher in that each letter in the plaintext is replaced with a unique letter from the alphabet. Because this mapping is random, rather than following a fixed shift as in the Caesar Cipher, there are 26! ∼ 10²⁶ ∼ 2⁸⁸ possible permutations. This makes brute-force decryption infeasible, as trying all combinations would take thousands of years, even with modern computational power. Therefore, an alternative technique, known as the frequency analysis method, is used to break the cipher (Stallings, 2017)."
   ]
  },
  {
   "cell_type": "markdown",
   "id": "1b6cc83d-e26d-49cc-8475-0789d2425df0",
   "metadata": {},
   "source": [
    "### Encryption"
   ]
  },
  {
   "cell_type": "code",
   "execution_count": 191,
   "id": "dd72620a-d955-4fba-872f-ebcd005d484d",
   "metadata": {},
   "outputs": [],
   "source": [
    "# encryption function for simple substitution cipher\n",
    "def substitution_encrypt(plaintext, mapping):\n",
    "    ''' Encrypt `ciphertext` (str) as a simple substitution cipher with a given \n",
    "        `mapping` (??) from plaintext letters to ciphertext letters '''\n",
    "    # code here\n",
    "    ciphertext = ''\n",
    "    for char in plaintext:\n",
    "        if char in mapping:\n",
    "            ciphertext += mapping[char]\n",
    "        else:\n",
    "            ciphertext += char\n",
    "    return ciphertext"
   ]
  },
  {
   "cell_type": "code",
   "execution_count": 192,
   "id": "177d186b-bc0a-4dca-a1b4-b1244cfb7bb1",
   "metadata": {},
   "outputs": [
    {
     "name": "stdout",
     "output_type": "stream",
     "text": [
      "hello! -> apwwq!\n"
     ]
    }
   ],
   "source": [
    "# code snippet to test the implementation of the encryption function\n",
    "plaintext = 'hello!'\n",
    "mapping = {'h': 'a', 'e': 'p', 'l': 'w', 'o': 'q'} \n",
    "\n",
    "ciphertext = substitution_encrypt(plaintext, mapping)\n",
    "\n",
    "print(plaintext, '->', ciphertext) # expected output 'hello! -> apwwq!'"
   ]
  },
  {
   "cell_type": "markdown",
   "id": "cd574022-82e0-4163-807a-aabb6bd4b86d",
   "metadata": {},
   "source": [
    "### Decryption"
   ]
  },
  {
   "cell_type": "code",
   "execution_count": 193,
   "id": "adb6fd3b",
   "metadata": {},
   "outputs": [],
   "source": [
    "# decryption function for simple substitution cipher, mapping is reversed for this process\n",
    "def substitution_decrypt(ciphertext, mapping):\n",
    "   ''' Decrypt `ciphertext` (str) as a simple substitution cipher with a given \n",
    "       `mapping` (dict) from plaintext letters to ciphertext letters '''\n",
    "\n",
    "   reverse_mapping = {v: k for k, v in mapping.items()}\n",
    "   return substitution_encrypt(ciphertext, reverse_mapping)"
   ]
  },
  {
   "cell_type": "code",
   "execution_count": 194,
   "id": "33b9b1e0-9132-4147-8d14-5b036f7a0658",
   "metadata": {},
   "outputs": [
    {
     "name": "stdout",
     "output_type": "stream",
     "text": [
      "apwwq! -> hello!\n"
     ]
    }
   ],
   "source": [
    "# code snippet to test the implementation of the decryption function\n",
    "mapping = {'h': 'a', 'e': 'p', 'l': 'w', 'o': 'q'}  # previous mapping \n",
    "ciphertext = 'apwwq!'\n",
    "\n",
    "plaintext = substitution_decrypt(ciphertext, mapping)\n",
    "\n",
    "print(ciphertext, '->', plaintext)  # expected output 'apwwq! -> hello!'"
   ]
  },
  {
   "cell_type": "markdown",
   "id": "a0a843fd-8f7d-4189-8a7c-d7015d9c2897",
   "metadata": {},
   "source": [
    "### Ciphertext"
   ]
  },
  {
   "cell_type": "code",
   "execution_count": 195,
   "id": "8d8aa5ee-a119-48c0-a9e8-3b4b8a3cb034",
   "metadata": {},
   "outputs": [
    {
     "data": {
      "text/plain": [
       "'vf pseygdtsbyce, b lxolgvgxgvdf pvycms vl b kmgcdj dr mfpseygvft vf ucvpc xfvgl dr ywbvfgmng bsm smy'"
      ]
     },
     "execution_count": 195,
     "metadata": {},
     "output_type": "execute_result"
    }
   ],
   "source": [
    "# Load ciphertext\n",
    "with open('ciphertext_simple.txt', 'r', encoding='utf-8') as file:\n",
    "    ciphertext = file.read()\n",
    "    \n",
    "# print the first 100 characters of the ciphertext\n",
    "ciphertext[:100]"
   ]
  },
  {
   "cell_type": "markdown",
   "id": "17025077-c0a2-4a1c-add8-a79897c1d4a0",
   "metadata": {},
   "source": [
    "### Frequency Analysis Attack"
   ]
  },
  {
   "cell_type": "markdown",
   "id": "abda6491-1fb9-4442-b3bc-69c403bfc413",
   "metadata": {},
   "source": [
    "While brute-force attacks are unfeasible, the English language retains its statistical properties even when encrypted using a substitution cipher. This means that English follows a predictable pattern of letter frequency distribution, where certain letters (such as 'e,' 't,' and 'a') and specific words appear more frequently than others. If the ciphertext is long enough to be statistically significant, a mapping can be established between the most frequently occurring characters in English and those in the ciphertext, enabling decryption through frequency analysis (Singh, 1999)."
   ]
  },
  {
   "cell_type": "markdown",
   "id": "59434d7e-a0c1-4d03-8c84-a1f9c948f935",
   "metadata": {},
   "source": [
    "#### English Letters Distribution"
   ]
  },
  {
   "cell_type": "code",
   "execution_count": 196,
   "id": "4e9a0d70-5652-4a5e-bb57-84ed8282b3da",
   "metadata": {},
   "outputs": [],
   "source": [
    "# function to infer the letter distribution from a text\n",
    "def letter_distribution(text):\n",
    "    ''' Return the `distribution` (??) of the letters in `text` (str) '''\n",
    "    # code here\n",
    "    sum_letters = sum([char.isalpha() for char in text])\n",
    "\n",
    "    distribution = {}\n",
    "    for char in string.ascii_lowercase:\n",
    "        if char in text:\n",
    "            distribution[char] = text.count(char)/sum_letters\n",
    "    return distribution   "
   ]
  },
  {
   "cell_type": "code",
   "execution_count": 197,
   "id": "b7131445-b0b8-44c7-8918-9fad5cb7475a",
   "metadata": {},
   "outputs": [
    {
     "data": {
      "text/plain": [
       "{'d': 0.1, 'e': 0.1, 'h': 0.1, 'l': 0.3, 'o': 0.2, 'r': 0.1, 'w': 0.1}"
      ]
     },
     "execution_count": 197,
     "metadata": {},
     "output_type": "execute_result"
    }
   ],
   "source": [
    "# code snippet to test the implementation of `letter_distribution`\n",
    "text = 'hello world!'\n",
    "\n",
    "letter_distribution(text)\n",
    "# expected ouput: \n",
    "# {'d': 0.1, 'e': 0.1, 'h': 0.1, 'l': 0.3, 'o': 0.2, 'r': 0.1, 'w': 0.1, ...}"
   ]
  },
  {
   "cell_type": "code",
   "execution_count": 198,
   "id": "0052ab81-e261-4660-ab34-f86582601c67",
   "metadata": {},
   "outputs": [
    {
     "data": {
      "text/plain": [
       "'Computer security (also cybersecurity, digital security, or information technology (IT) security) is'"
      ]
     },
     "execution_count": 198,
     "metadata": {},
     "output_type": "execute_result"
    }
   ],
   "source": [
    "# load text\n",
    "with open('wikipedia_cybersecurity.txt', 'r', encoding='utf-8') as file:\n",
    "    wiki_text = file.read()\n",
    "    \n",
    "wiki_text[:100]"
   ]
  },
  {
   "cell_type": "code",
   "execution_count": 199,
   "id": "eeae9160-8631-4d25-bbb9-79aac9547d23",
   "metadata": {},
   "outputs": [],
   "source": [
    "# estimate the English letters distribution\n",
    "english_distribution = letter_distribution(wiki_text)"
   ]
  },
  {
   "cell_type": "code",
   "execution_count": 200,
   "id": "266c71cd-20c3-4a53-9050-f380aef8eff4",
   "metadata": {},
   "outputs": [
    {
     "data": {
      "image/png": "[encoded data removed]",
      "text/plain": [
       "<Figure size 640x480 with 1 Axes>"
      ]
     },
     "metadata": {},
     "output_type": "display_data"
    }
   ],
   "source": [
    "# plot the English letter distribution\n",
    "plt.bar(english_distribution.keys(), english_distribution.values())\n",
    "plt.xlabel('Letters')\n",
    "plt.ylabel('Frequency')\n",
    "plt.title('English Letter Frequency Distribution')\n",
    "plt.show()"
   ]
  },
  {
   "cell_type": "code",
   "execution_count": 201,
   "id": "3c822a77",
   "metadata": {},
   "outputs": [
    {
     "data": {
      "image/png": "[encoded data removed]",
      "text/plain": [
       "<Figure size 640x480 with 1 Axes>"
      ]
     },
     "metadata": {},
     "output_type": "display_data"
    }
   ],
   "source": [
    "# plot the ciphertext letter distribution\n",
    "plt.bar(letter_distribution(ciphertext).keys(), letter_distribution(ciphertext).values())\n",
    "plt.xlabel('Letters')\n",
    "plt.ylabel('Frequency')\n",
    "plt.title('Ciphertext Letter Frequency Distribution')\n",
    "plt.show()"
   ]
  },
  {
   "cell_type": "code",
   "execution_count": 202,
   "id": "21a4a57f",
   "metadata": {},
   "outputs": [
    {
     "data": {
      "image/png": "[encoded data removed]",
      "text/plain": [
       "<Figure size 640x480 with 2 Axes>"
      ]
     },
     "metadata": {},
     "output_type": "display_data"
    }
   ],
   "source": [
    "# sort the distributions for better visualization\n",
    "sorted_ciphertext_distribution = dict(sorted(letter_distribution(ciphertext).items(), key=lambda item: item[1], reverse=True))\n",
    "sorted_english_distribution = dict(sorted(english_distribution.items(), key=lambda item: item[1], reverse=True))\n",
    "\n",
    "# Create subplots\n",
    "fig, axs = plt.subplots(2, 1)\n",
    "\n",
    "# plot sorted ciphertext letter distribution\n",
    "axs[0].bar(sorted_ciphertext_distribution.keys(), sorted_ciphertext_distribution.values())\n",
    "axs[0].set_xlabel('Letters')\n",
    "axs[0].set_ylabel('Frequency')\n",
    "axs[0].set_title('Sorted Ciphertext Letter Frequency Distribution')\n",
    "\n",
    "# plot sorted English letter distribution\n",
    "axs[1].bar(sorted_english_distribution.keys(), sorted_english_distribution.values())\n",
    "axs[1].set_xlabel('Letters')\n",
    "axs[1].set_ylabel('Frequency')\n",
    "axs[1].set_title('Sorted English Letter Frequency Distribution')\n",
    "\n",
    "plt.tight_layout()\n",
    "plt.show()"
   ]
  },
  {
   "cell_type": "code",
   "execution_count": 203,
   "id": "862cf0c3-d828-4e1c-a10c-485d7f7c5a5d",
   "metadata": {},
   "outputs": [
    {
     "name": "stdout",
     "output_type": "stream",
     "text": [
      "Letter distribution saved as 'letter_distribution.pkl'\n"
     ]
    }
   ],
   "source": [
    "# store the distribution as a pickle file, check to see if it works\n",
    "with open('letter_distribution.pkl', 'wb') as pickle_file:\n",
    "    pickle.dump(english_distribution, pickle_file)\n",
    "\n",
    "print(\"Letter distribution saved as 'letter_distribution.pkl'\")\n"
   ]
  },
  {
   "cell_type": "code",
   "execution_count": 204,
   "id": "093b4dcc",
   "metadata": {},
   "outputs": [],
   "source": [
    "with open(file='letter_distribution.pkl', mode='rb') as f:\n",
    "    english_distribution = pickle.load(f)"
   ]
  },
  {
   "cell_type": "markdown",
   "id": "843e03cd",
   "metadata": {},
   "source": [
    "#### Perform attack"
   ]
  },
  {
   "cell_type": "code",
   "execution_count": 205,
   "id": "af14a82e-0202-4d9f-abb3-e1feba2c439c",
   "metadata": {},
   "outputs": [
    {
     "name": "stdout",
     "output_type": "stream",
     "text": [
      "vf pseygdtsbyce, b lxolgvgxgvdf pvycms vl b kmgcdj dr mfpseygvft vf ucvpc xfvgl dr ywbvfgmng bsm smy\n"
     ]
    }
   ],
   "source": [
    "# perform Frequency analysis attack \n",
    "print(ciphertext[:100])"
   ]
  },
  {
   "cell_type": "code",
   "execution_count": 206,
   "id": "50eab8c2",
   "metadata": {},
   "outputs": [],
   "source": [
    "# function here gives you one letter, two letter, and three letter words in your text to help you infer the mapping\n",
    "def one_two_three_letter_words(ciphertext):\n",
    "    words = ciphertext.replace('\\n', ' ').replace('\\t', ' ').split(' ')\n",
    "    one_letter_words = [word for word in words if len(word) == 1 and word.isalpha()]\n",
    "    two_letter_words = [word for word in words if len(word) == 2 and word.isalpha()]\n",
    "    three_letter_words = [word for word in words if len(word) == 3 and word.isalpha()]\n",
    "\n",
    "    set_one_letter_words = {word: one_letter_words.count(word) for word in set(one_letter_words)}\n",
    "    set_one_letter_words = dict(sorted(set_one_letter_words.items(), key=lambda item: item[1], reverse=True))\n",
    "    set_two_letter_words = {word: two_letter_words.count(word) for word in set(two_letter_words)}\n",
    "    set_two_letter_words = dict(sorted(set_two_letter_words.items(), key=lambda item: item[1], reverse=True))\n",
    "    set_three_letter_words = {word: three_letter_words.count(word) for word in set(three_letter_words)}\n",
    "    set_three_letter_words = dict(sorted(set_three_letter_words.items(), key=lambda item: item[1], reverse=True))\n",
    "    print(\"Set of one-letter words:\", set_one_letter_words)\n",
    "    print(\"Set of two-letter words:\", set_two_letter_words)\n",
    "    print(\"Set of three-letter words:\", set_three_letter_words)"
   ]
  },
  {
   "cell_type": "code",
   "execution_count": 207,
   "id": "a06b8c4e",
   "metadata": {},
   "outputs": [
    {
     "name": "stdout",
     "output_type": "stream",
     "text": [
      "Set of one-letter words: {'b': 115, 'f': 5, 'n': 5, 'v': 4, 'o': 1, 'i': 1, 'h': 1}\n",
      "Set of two-letter words: {'dr': 138, 'vf': 110, 'vl': 74, 'gd': 61, 'oe': 50, 'om': 32, 'bl': 32, 'vg': 17, 'ds': 14, 'ld': 11, 'bg': 11, 'vr': 9, 'df': 9, 'bf': 7, 'xl': 5, 'fd': 5, 'jm': 5, 'cm': 2, 'bw': 2, 'um': 2, 'tl': 1, 'vv': 1, 'wm': 1, 'uj': 1, 'xy': 1, 'ab': 1, 'ih': 1, 'bj': 1}\n",
      "Set of three-letter words: {'gcm': 297, 'bfj': 74, 'bsm': 38, 'ubl': 36, 'rds': 29, 'pbf': 15, 'dfm': 14, 'bww': 11, 'fdg': 10, 'qme': 9, 'dxg': 7, 'ubs': 7, 'ybj': 6, 'oxg': 6, 'cbj': 5, 'mfj': 4, 'xlm': 4, 'lmg': 3, 'cvl': 3, 'vgl': 3, 'ube': 3, 'bfe': 3, 'kbe': 3, 'sdu': 2, 'gud': 2, 'lmm': 2, 'fdu': 2, 'jvm': 2, 'kby': 1, 'ucd': 1, 'jvj': 1, 'cdg': 1, 'nva': 1, 'rbs': 1, 'rmu': 1, 'vof': 1, 'tyj': 1, 'lvs': 1, 'lvl': 1, 'cdu': 1, 'ngc': 1, 'cms': 1, 'sxf': 1, 'kbg': 1, 'idb': 1, 'jxm': 1, 'obf': 1, 'wdu': 1, 'cbl': 1}\n"
     ]
    }
   ],
   "source": [
    "# try to find the frequent words\n",
    "one_two_three_letter_words(ciphertext)"
   ]
  },
  {
   "cell_type": "code",
   "execution_count": 208,
   "id": "0a91eb32",
   "metadata": {},
   "outputs": [
    {
     "name": "stdout",
     "output_type": "stream",
     "text": [
      "{'e': 'm', 't': 'g', 'a': 'b', 'i': 'v', 'n': 'l'}\n"
     ]
    }
   ],
   "source": [
    "english_letters = list(sorted_english_distribution.keys())\n",
    "cipher_letters = list(sorted_ciphertext_distribution.keys())\n",
    "\n",
    "# initialize mapping for the most frequent 5 letters\n",
    "partial_mapping = {english_letters[i]: cipher_letters[i] for i in range(5)}\n",
    "print(partial_mapping)"
   ]
  },
  {
   "cell_type": "code",
   "execution_count": 209,
   "id": "5e4557b6",
   "metadata": {},
   "outputs": [
    {
     "name": "stdout",
     "output_type": "stream",
     "text": [
      "{'e': 'm', 't': 'g', 'a': 'b', 'i': 'v', 'n': 'l'} \n",
      "\n",
      "Set of one-letter words: {'a': 115, 'f': 5, 'i': 5, 'n': 5, 'o': 1, 'h': 1}\n",
      "Set of two-letter words: {'dr': 138, 'if': 110, 'oe': 82, 'in': 74, 'td': 61, 'an': 32, 'it': 17, 'ds': 14, 'nd': 11, 'at': 11, 'ir': 9, 'df': 9, 'af': 7, 'je': 5, 'xn': 5, 'fd': 5, 'ue': 2, 'ce': 2, 'aw': 2, 'tn': 1, 'we': 1, 'uj': 1, 'aa': 1, 'xy': 1, 'ih': 1, 'aj': 1, 'ii': 1}\n",
      "Set of three-letter words: {'tce': 297, 'afj': 74, 'ase': 38, 'uan': 36, 'rds': 29, 'paf': 15, 'dfe': 14, 'aww': 11, 'fdt': 10, 'qee': 9, 'uas': 7, 'dxt': 7, 'yaj': 6, 'oxt': 6, 'caj': 5, 'efj': 4, 'xne': 4, 'net': 3, 'uae': 3, 'itn': 3, 'kae': 3, 'afe': 3, 'cin': 3, 'sdu': 2, 'tud': 2, 'nee': 2, 'jie': 2, 'fdu': 2, 'ces': 1, 'can': 1, 'ida': 1, 'kat': 1, 'iof': 1, 'oaf': 1, 'ucd': 1, 'cdt': 1, 'ras': 1, 'tyj': 1, 'kay': 1, 'ntc': 1, 'reu': 1, 'cdu': 1, 'sxf': 1, 'jxe': 1, 'jij': 1, 'nia': 1, 'nis': 1, 'wdu': 1, 'nin': 1}\n"
     ]
    }
   ],
   "source": [
    "# decrypt the ciphertext using the partial mapping and try to infer the most common words\n",
    "partially_decrypted_ciphertext = substitution_decrypt(ciphertext, partial_mapping)\n",
    "print(partial_mapping, '\\n')\n",
    "one_two_three_letter_words(partially_decrypted_ciphertext)"
   ]
  },
  {
   "cell_type": "code",
   "execution_count": 210,
   "id": "6df41672",
   "metadata": {},
   "outputs": [
    {
     "name": "stdout",
     "output_type": "stream",
     "text": [
      "vf pseygdtsbyce, b lxolgvgxgvdf pvycms vl b kmgcdj dr mfpseygvft vf ucvpc xfvgl dr ywbvfgmng bsm smy\n",
      "{'e': 'm', 't': 'g', 'a': 'b', 'i': 'v', 'n': 'l', 'o': 'd', 'f': 'r'} \n",
      "\n",
      "Set of one-letter words: {'a': 115, 'f': 5, 'i': 5, 'n': 5, 'o': 1, 'h': 1}\n",
      "Set of two-letter words: {'of': 147, 'if': 119, 'oe': 82, 'in': 74, 'to': 61, 'an': 32, 'it': 17, 'os': 14, 'at': 11, 'no': 11, 'af': 7, 'fo': 5, 'je': 5, 'xn': 5, 'ue': 2, 'ce': 2, 'aw': 2, 'tn': 1, 'we': 1, 'uj': 1, 'aa': 1, 'xy': 1, 'ih': 1, 'aj': 1, 'ii': 1}\n",
      "Set of three-letter words: {'tce': 297, 'afj': 74, 'ase': 38, 'uan': 36, 'fos': 29, 'paf': 15, 'ofe': 14, 'oxt': 13, 'aww': 11, 'fot': 10, 'qee': 9, 'uas': 7, 'yaj': 6, 'caj': 5, 'efj': 4, 'xne': 4, 'net': 3, 'uae': 3, 'itn': 3, 'kae': 3, 'afe': 3, 'cin': 3, 'nee': 2, 'sou': 2, 'jie': 2, 'tuo': 2, 'fou': 2, 'ces': 1, 'can': 1, 'kat': 1, 'cot': 1, 'iof': 1, 'oaf': 1, 'wou': 1, 'tyj': 1, 'kay': 1, 'ntc': 1, 'fas': 1, 'sxf': 1, 'jxe': 1, 'feu': 1, 'cou': 1, 'jij': 1, 'nia': 1, 'nis': 1, 'ioa': 1, 'uco': 1, 'nin': 1}\n"
     ]
    }
   ],
   "source": [
    "# because 'dr' does not contain letter a or i, it is likely that 'dr' is 'of'\n",
    "partial_mapping['o'] = 'd'\n",
    "partial_mapping['f'] = 'r'\n",
    "partially_decrypted_ciphertext = substitution_decrypt(ciphertext, partial_mapping)\n",
    "\n",
    "print(ciphertext[:100])\n",
    "print(partial_mapping, '\\n')\n",
    "one_two_three_letter_words(partially_decrypted_ciphertext)"
   ]
  },
  {
   "cell_type": "code",
   "execution_count": 211,
   "id": "182b49ae",
   "metadata": {},
   "outputs": [
    {
     "name": "stdout",
     "output_type": "stream",
     "text": [
      "if pseytotsayhe, a nxontitxtiof piyhes in a kethoj of efpseytift if uhiph xfitn of ywaiftent ase seywapej uith the piyhestent, if a jefifej kaffes, uith the hewy of a qee; the \"xfitn\" kae oe niftwe we\n",
      "{'e': 'm', 't': 'g', 'a': 'b', 'i': 'v', 'n': 'l', 'o': 'd', 'f': 'r', 'h': 'c'} \n",
      "\n",
      "Set of one-letter words: {'a': 115, 'f': 5, 'i': 5, 'n': 5, 'o': 1, 'h': 1}\n",
      "Set of two-letter words: {'of': 147, 'if': 119, 'oe': 82, 'in': 74, 'to': 61, 'an': 32, 'it': 17, 'os': 14, 'at': 11, 'no': 11, 'af': 7, 'fo': 5, 'je': 5, 'xn': 5, 'ue': 2, 'he': 2, 'aw': 2, 'tn': 1, 'we': 1, 'uj': 1, 'aa': 1, 'xy': 1, 'ih': 1, 'aj': 1, 'ii': 1}\n",
      "Set of three-letter words: {'the': 297, 'afj': 74, 'ase': 38, 'uan': 36, 'fos': 29, 'paf': 15, 'ofe': 14, 'oxt': 13, 'aww': 11, 'fot': 10, 'qee': 9, 'uas': 7, 'yaj': 6, 'haj': 5, 'efj': 4, 'xne': 4, 'net': 3, 'hin': 3, 'uae': 3, 'itn': 3, 'kae': 3, 'afe': 3, 'nee': 2, 'sou': 2, 'jie': 2, 'tuo': 2, 'fou': 2, 'kat': 1, 'oaf': 1, 'iof': 1, 'wou': 1, 'hou': 1, 'hot': 1, 'tyj': 1, 'kay': 1, 'fas': 1, 'uho': 1, 'nth': 1, 'sxf': 1, 'jxe': 1, 'feu': 1, 'jij': 1, 'nia': 1, 'nis': 1, 'han': 1, 'hes': 1, 'ioa': 1, 'nin': 1}\n"
     ]
    }
   ],
   "source": [
    "# 'tce' is likely 'the'\n",
    "partial_mapping['h'] = 'c'\n",
    "partially_decrypted_ciphertext = substitution_decrypt(ciphertext, partial_mapping)\n",
    "print(partially_decrypted_ciphertext[:200])\n",
    "print(partial_mapping, '\\n')\n",
    "\n",
    "one_two_three_letter_words(partially_decrypted_ciphertext)"
   ]
  },
  {
   "cell_type": "code",
   "execution_count": 212,
   "id": "a23c5d8e",
   "metadata": {},
   "outputs": [
    {
     "name": "stdout",
     "output_type": "stream",
     "text": [
      "in pseytotsayhe, a lxoltitxtion piyhes il a kethod of enpseytint in uhiph xnitl of ywaintent ase seywaped uith the piyhestent, in a defined kannes, uith the hewy of a qee; the \"xnitl\" kae oe lintwe we\n",
      "{'e': 'm', 't': 'g', 'a': 'b', 'i': 'v', 'n': 'f', 'o': 'd', 'f': 'r', 'h': 'c', 'd': 'j'} \n",
      "\n",
      "Set of one-letter words: {'a': 115, 'n': 10, 'i': 5, 'o': 1, 'h': 1}\n",
      "Set of two-letter words: {'of': 138, 'in': 110, 'oe': 82, 'il': 74, 'to': 61, 'al': 32, 'it': 17, 'os': 14, 'at': 11, 'lo': 11, 'on': 9, 'if': 9, 'an': 7, 'no': 5, 'de': 5, 'xl': 5, 'ue': 2, 'he': 2, 'aw': 2, 'ad': 1, 'tl': 1, 'we': 1, 'aa': 1, 'xy': 1, 'ud': 1, 'ih': 1, 'ii': 1}\n",
      "Set of three-letter words: {'the': 297, 'and': 74, 'ase': 38, 'ual': 36, 'fos': 29, 'pan': 15, 'one': 14, 'oxt': 13, 'aww': 11, 'not': 10, 'qee': 9, 'uas': 7, 'yad': 6, 'had': 5, 'xle': 4, 'end': 4, 'ane': 3, 'let': 3, 'uae': 3, 'itl': 3, 'kae': 3, 'hil': 3, 'die': 2, 'nou': 2, 'lee': 2, 'sou': 2, 'tuo': 2, 'ion': 1, 'hal': 1, 'kat': 1, 'wou': 1, 'hou': 1, 'hot': 1, 'kay': 1, 'fas': 1, 'sxn': 1, 'oan': 1, 'uho': 1, 'nth': 1, 'feu': 1, 'did': 1, 'tyd': 1, 'nia': 1, 'lil': 1, 'hes': 1, 'lis': 1, 'ioa': 1, 'dxe': 1}\n"
     ]
    }
   ],
   "source": [
    "# 'afj' is likely 'and'\n",
    "partial_mapping['n'] = 'f'\n",
    "partial_mapping['d'] = 'j'\n",
    "partially_decrypted_ciphertext = substitution_decrypt(ciphertext, partial_mapping)\n",
    "print(partially_decrypted_ciphertext[:200])\n",
    "print(partial_mapping, '\\n')\n",
    "\n",
    "one_two_three_letter_words(partially_decrypted_ciphertext)"
   ]
  },
  {
   "cell_type": "code",
   "execution_count": 213,
   "id": "d5b97392",
   "metadata": {},
   "outputs": [
    {
     "name": "stdout",
     "output_type": "stream",
     "text": [
      "in preytotrayhe, a lxoltitxtion piyher il a kethod of enpreytint in uhiph xnitl of ywaintent are reywaped uith the piyhertent, in a defined kanner, uith the hewy of a qee; the \"xnitl\" kae oe lintwe we\n",
      "{'e': 'm', 't': 'g', 'a': 'b', 'i': 'v', 'n': 'f', 'o': 'd', 'f': 'r', 'h': 'c', 'd': 'j', 'r': 's'} \n",
      "\n",
      "Set of one-letter words: {'a': 115, 'n': 10, 'i': 5, 'o': 1, 'h': 1}\n",
      "Set of two-letter words: {'of': 138, 'in': 110, 'oe': 82, 'il': 74, 'to': 61, 'al': 32, 'it': 17, 'or': 14, 'at': 11, 'lo': 11, 'on': 9, 'if': 9, 'an': 7, 'no': 5, 'de': 5, 'xl': 5, 'ue': 2, 'he': 2, 'aw': 2, 'ad': 1, 'tl': 1, 'we': 1, 'aa': 1, 'xy': 1, 'ud': 1, 'ih': 1, 'ii': 1}\n",
      "Set of three-letter words: {'the': 297, 'and': 74, 'are': 38, 'ual': 36, 'for': 29, 'pan': 15, 'one': 14, 'oxt': 13, 'aww': 11, 'not': 10, 'qee': 9, 'uar': 7, 'yad': 6, 'had': 5, 'xle': 4, 'end': 4, 'ane': 3, 'let': 3, 'uae': 3, 'itl': 3, 'kae': 3, 'hil': 3, 'die': 2, 'nou': 2, 'lee': 2, 'rou': 2, 'tuo': 2, 'ion': 1, 'hal': 1, 'kat': 1, 'rxn': 1, 'wou': 1, 'hou': 1, 'her': 1, 'hot': 1, 'kay': 1, 'far': 1, 'oan': 1, 'uho': 1, 'nth': 1, 'feu': 1, 'did': 1, 'tyd': 1, 'nia': 1, 'lil': 1, 'lir': 1, 'ioa': 1, 'dxe': 1}\n"
     ]
    }
   ],
   "source": [
    "# 'ase' is likely 'are'\n",
    "partial_mapping['r'] = 's'\n",
    "partially_decrypted_ciphertext = substitution_decrypt(ciphertext, partial_mapping)\n",
    "print(partially_decrypted_ciphertext[:200])\n",
    "print(partial_mapping, '\\n')\n",
    "one_two_three_letter_words(partially_decrypted_ciphertext)"
   ]
  },
  {
   "cell_type": "code",
   "execution_count": 214,
   "id": "d4c77941",
   "metadata": {},
   "outputs": [
    {
     "name": "stdout",
     "output_type": "stream",
     "text": [
      "in preytotrayhe, a sxostitxtion piyher is a kethod of enpreytint in uhiph xnits of ywaintent are reywaped uith the piyhertent, in a defined kanner, uith the hewy of a qee; the \"xnits\" kae oe sintwe we\n",
      "{'e': 'm', 't': 'g', 'a': 'b', 'i': 'v', 'n': 'f', 'o': 'd', 'f': 'r', 'h': 'c', 'd': 'j', 'r': 's', 's': 'l'} \n",
      "\n",
      "Set of one-letter words: {'a': 115, 'n': 10, 'i': 5, 'o': 1, 'h': 1}\n",
      "Set of two-letter words: {'of': 138, 'in': 110, 'oe': 82, 'is': 74, 'to': 61, 'as': 32, 'it': 17, 'or': 14, 'so': 11, 'at': 11, 'on': 9, 'if': 9, 'an': 7, 'xs': 5, 'no': 5, 'de': 5, 'ue': 2, 'he': 2, 'aw': 2, 'ad': 1, 'we': 1, 'aa': 1, 'xy': 1, 'ud': 1, 'ih': 1, 'ts': 1, 'ii': 1}\n",
      "Set of three-letter words: {'the': 297, 'and': 74, 'are': 38, 'uas': 36, 'for': 29, 'pan': 15, 'one': 14, 'oxt': 13, 'aww': 11, 'not': 10, 'qee': 9, 'uar': 7, 'yad': 6, 'had': 5, 'xse': 4, 'end': 4, 'ane': 3, 'his': 3, 'set': 3, 'uae': 3, 'kae': 3, 'its': 3, 'die': 2, 'nou': 2, 'rou': 2, 'tuo': 2, 'see': 2, 'ion': 1, 'kat': 1, 'has': 1, 'rxn': 1, 'wou': 1, 'hou': 1, 'sis': 1, 'her': 1, 'hot': 1, 'kay': 1, 'far': 1, 'oan': 1, 'uho': 1, 'nth': 1, 'feu': 1, 'did': 1, 'tyd': 1, 'sir': 1, 'nia': 1, 'ioa': 1, 'dxe': 1}\n"
     ]
    }
   ],
   "source": [
    "# 'il' is likely 'is'\n",
    "partial_mapping['s'] = 'l'\n",
    "partially_decrypted_ciphertext = substitution_decrypt(ciphertext, partial_mapping)\n",
    "print(partially_decrypted_ciphertext[:200])\n",
    "print(partial_mapping, '\\n')\n",
    "one_two_three_letter_words(partially_decrypted_ciphertext)"
   ]
  },
  {
   "cell_type": "code",
   "execution_count": 215,
   "id": "f39238bd",
   "metadata": {},
   "outputs": [
    {
     "name": "stdout",
     "output_type": "stream",
     "text": [
      "in creytotrayhe, a sxostitxtion ciyher is a kethod of encreytint in uhich xnits of ywaintent are reywaced uith the ciyhertent, in a defined kanner, uith the hewy of a qee; the \"xnits\" kae oe sintwe we\n",
      "{'e': 'm', 't': 'g', 'a': 'b', 'i': 'v', 'n': 'f', 'o': 'd', 'f': 'r', 'h': 'c', 'd': 'j', 'r': 's', 's': 'l', 'c': 'p'} \n",
      "\n",
      "Set of one-letter words: {'a': 115, 'n': 10, 'i': 5, 'o': 1, 'h': 1}\n",
      "Set of two-letter words: {'of': 138, 'in': 110, 'oe': 82, 'is': 74, 'to': 61, 'as': 32, 'it': 17, 'or': 14, 'so': 11, 'at': 11, 'on': 9, 'if': 9, 'an': 7, 'xs': 5, 'no': 5, 'de': 5, 'ue': 2, 'he': 2, 'aw': 2, 'ad': 1, 'we': 1, 'aa': 1, 'xy': 1, 'ud': 1, 'ih': 1, 'ts': 1, 'ii': 1}\n",
      "Set of three-letter words: {'the': 297, 'and': 74, 'are': 38, 'uas': 36, 'for': 29, 'can': 15, 'one': 14, 'oxt': 13, 'aww': 11, 'not': 10, 'qee': 9, 'uar': 7, 'yad': 6, 'had': 5, 'xse': 4, 'end': 4, 'ane': 3, 'his': 3, 'set': 3, 'uae': 3, 'kae': 3, 'its': 3, 'die': 2, 'nou': 2, 'rou': 2, 'tuo': 2, 'see': 2, 'ion': 1, 'kat': 1, 'has': 1, 'rxn': 1, 'wou': 1, 'hou': 1, 'sis': 1, 'her': 1, 'hot': 1, 'kay': 1, 'far': 1, 'oan': 1, 'uho': 1, 'nth': 1, 'feu': 1, 'did': 1, 'tyd': 1, 'sir': 1, 'nia': 1, 'ioa': 1, 'dxe': 1}\n"
     ]
    }
   ],
   "source": [
    "# 'pan' is likely 'can'\n",
    "partial_mapping['c'] = 'p'\n",
    "partially_decrypted_ciphertext = substitution_decrypt(ciphertext, partial_mapping)\n",
    "print(partially_decrypted_ciphertext[:200])\n",
    "print(partial_mapping, '\\n')\n",
    "one_two_three_letter_words(partially_decrypted_ciphertext)"
   ]
  },
  {
   "cell_type": "code",
   "execution_count": 216,
   "id": "2f7d3ec2",
   "metadata": {},
   "outputs": [
    {
     "name": "stdout",
     "output_type": "stream",
     "text": [
      "in cryptography, a substitution cipher is a method of encrypting in which units of plaintext are replaced with the ciphertext, in a defined manner, with the help of a key; the \"units\" may be single le\n",
      "{'e': 'm', 't': 'g', 'a': 'b', 'i': 'v', 'n': 'f', 'o': 'd', 'f': 'r', 'h': 'c', 'd': 'j', 'r': 's', 's': 'l', 'c': 'p', 'y': 'e', 'p': 'y', 'u': 'x', 'b': 'o', 'm': 'k', 'g': 't', 'w': 'u', 'l': 'w', 'x': 'n', 'k': 'q'} \n",
      "\n",
      "Set of one-letter words: {'a': 115, 'x': 5, 'i': 5, 'n': 5, 'h': 1, 'b': 1}\n",
      "Set of two-letter words: {'of': 138, 'in': 110, 'is': 74, 'to': 61, 'by': 50, 'as': 32, 'be': 32, 'it': 17, 'or': 14, 'so': 11, 'at': 11, 'on': 9, 'if': 9, 'an': 7, 'no': 5, 'de': 5, 'us': 5, 'al': 2, 'we': 2, 'he': 2, 'le': 1, 'up': 1, 'ad': 1, 'wd': 1, 'aa': 1, 'gs': 1, 'ih': 1, 'ii': 1}\n",
      "Set of three-letter words: {'the': 297, 'and': 74, 'are': 38, 'was': 36, 'for': 29, 'can': 15, 'one': 14, 'all': 11, 'not': 10, 'key': 9, 'out': 7, 'war': 7, 'pad': 6, 'but': 6, 'had': 5, 'use': 4, 'end': 4, 'may': 3, 'way': 3, 'set': 3, 'his': 3, 'any': 3, 'its': 3, 'die': 2, 'two': 2, 'see': 2, 'now': 2, 'row': 2, 'run': 1, 'ibn': 1, 'has': 1, 'few': 1, 'sis': 1, 'her': 1, 'low': 1, 'hot': 1, 'xia': 1, 'mat': 1, 'how': 1, 'far': 1, 'ban': 1, 'due': 1, 'gpd': 1, 'did': 1, 'sir': 1, 'map': 1, 'ioa': 1, 'xth': 1, 'who': 1}\n"
     ]
    }
   ],
   "source": [
    "# plaintext is mostly revealed, let's try to infer the remaining letters\n",
    "partial_mapping['y'] = 'e'\n",
    "partial_mapping['p'] = 'y'\n",
    "partial_mapping['u'] = 'x'\n",
    "partial_mapping['b'] = 'o'\n",
    "partial_mapping['m'] = 'k'\n",
    "partial_mapping['g'] = 't'\n",
    "partial_mapping['w'] = 'u'\n",
    "partial_mapping['l'] = 'w'\n",
    "partial_mapping['x'] = 'n'\n",
    "partial_mapping['k'] = 'q'\n",
    "partially_decrypted_ciphertext = substitution_decrypt(ciphertext, partial_mapping)\n",
    "print(partially_decrypted_ciphertext[:200])\n",
    "print(partial_mapping, '\\n')\n",
    "one_two_three_letter_words(partially_decrypted_ciphertext)"
   ]
  },
  {
   "cell_type": "code",
   "execution_count": 217,
   "id": "de99f858",
   "metadata": {},
   "outputs": [
    {
     "name": "stdout",
     "output_type": "stream",
     "text": [
      "in cryptography, a substitution cipher is a method of encrypting in which units of plaintext are replaced with the ciphertext, in a defined manner, with the help of a key; the \"units\" may be single letters (the most common), pairs of letters, triplets of letters, mixtures of the aboae, and so forth. the receiaer deciphers the text by performing the inaerse substitution process to extract the original message.\n",
      "substitution ciphers can be compared with transposition ciphers. in a transposition cipher, the units of the plaintext are rearranged in a different and usually huite complex order, but the units themselaes are left unchanged. by contrast, in a substitution cipher, the units of the plaintext are retained in the same sehuence in the ciphertext, but the units themselaes are altered.\n",
      "the\n"
     ]
    }
   ],
   "source": [
    "print(partially_decrypted_ciphertext[:800])"
   ]
  },
  {
   "cell_type": "code",
   "execution_count": 218,
   "id": "370346bf",
   "metadata": {},
   "outputs": [
    {
     "name": "stdout",
     "output_type": "stream",
     "text": [
      "in cryptography, a substitution cipher is a method of encrypting in which units of plaintext are replaced with the ciphertext, in a defined manner, with the help of a key; the \"units\" may be single letters (the most common), pairs of letters, triplets of letters, mixtures of the above, and so forth. the receiver deciphers the text by performing the inverse substitution process to extract the original message.\n",
      "substitution ciphers can be compared with transposition ciphers. in a transposition cipher, the units of the plaintext are rearranged in a different and usually quite complex order, but the units themselves are left unchanged. by contrast, in a substitution cipher, the units of the plaintext are retained in the same sequence in the ciphertext, but the units themselves are altered.\n",
      "there are a number of different types of substitution cipher. if the cipher operates on single letters, it is termed a simple substitution cipher; a cipher that operates on larger groups of letters is te\n",
      "{'e': 'm', 't': 'g', 'a': 'b', 'i': 'v', 'n': 'f', 'o': 'd', 'f': 'r', 'h': 'c', 'd': 'j', 'r': 's', 's': 'l', 'c': 'p', 'y': 'e', 'p': 'y', 'u': 'x', 'b': 'o', 'm': 'k', 'g': 't', 'w': 'u', 'l': 'w', 'x': 'n', 'k': 'q', 'v': 'a', 'q': 'h', 'z': 'i'} \n",
      "\n",
      "Set of one-letter words: {'a': 115, 'x': 5, 'n': 5, 'i': 4, 'q': 1, 'z': 1, 'b': 1}\n",
      "Set of two-letter words: {'of': 138, 'in': 110, 'is': 74, 'to': 61, 'by': 50, 'as': 32, 'be': 32, 'it': 17, 'or': 14, 'so': 11, 'at': 11, 'on': 9, 'if': 9, 'an': 7, 'no': 5, 'de': 5, 'us': 5, 'al': 2, 'we': 2, 'he': 2, 'le': 1, 'up': 1, 'va': 1, 'ad': 1, 'wd': 1, 'gs': 1, 'zq': 1, 'ii': 1}\n",
      "Set of three-letter words: {'the': 297, 'and': 74, 'are': 38, 'was': 36, 'for': 29, 'can': 15, 'one': 14, 'all': 11, 'not': 10, 'key': 9, 'out': 7, 'war': 7, 'pad': 6, 'but': 6, 'had': 5, 'use': 4, 'end': 4, 'may': 3, 'set': 3, 'way': 3, 'his': 3, 'any': 3, 'its': 3, 'die': 2, 'two': 2, 'see': 2, 'now': 2, 'row': 2, 'run': 1, 'ibn': 1, 'has': 1, 'few': 1, 'sis': 1, 'her': 1, 'low': 1, 'hot': 1, 'zoa': 1, 'mat': 1, 'how': 1, 'far': 1, 'ban': 1, 'due': 1, 'gpd': 1, 'did': 1, 'sir': 1, 'map': 1, 'xiv': 1, 'xth': 1, 'who': 1}\n"
     ]
    }
   ],
   "source": [
    "partial_mapping['v'] = 'a'\n",
    "partial_mapping['q'] = 'h'\n",
    "partial_mapping['z'] = 'i'\n",
    "partially_decrypted_ciphertext = substitution_decrypt(ciphertext, partial_mapping)\n",
    "print(partially_decrypted_ciphertext[:1000])\n",
    "print(partial_mapping, '\\n')\n",
    "one_two_three_letter_words(partially_decrypted_ciphertext)"
   ]
  },
  {
   "cell_type": "code",
   "execution_count": 219,
   "id": "ee37a53c",
   "metadata": {},
   "outputs": [],
   "source": [
    "# remaining letters are 'j' and 'z'\n",
    "partial_mapping['j'] = 'z'"
   ]
  },
  {
   "cell_type": "code",
   "execution_count": 220,
   "id": "ea587e65",
   "metadata": {},
   "outputs": [
    {
     "name": "stdout",
     "output_type": "stream",
     "text": [
      "{'a': 'b', 'b': 'o', 'c': 'p', 'd': 'j', 'e': 'm', 'f': 'r', 'g': 't', 'h': 'c', 'i': 'v', 'j': 'z', 'k': 'q', 'l': 'w', 'm': 'k', 'n': 'f', 'o': 'd', 'p': 'y', 'q': 'h', 'r': 's', 's': 'l', 't': 'g', 'u': 'x', 'v': 'a', 'w': 'u', 'x': 'n', 'y': 'e', 'z': 'i'}\n"
     ]
    }
   ],
   "source": [
    "# Print the mapping with keys in alphabetical order\n",
    "mapping = {sorted(partial_mapping.keys())[i]: partial_mapping[sorted(partial_mapping.keys())[i]] for i in range(26)}\n",
    "print(mapping)\n"
   ]
  },
  {
   "cell_type": "code",
   "execution_count": 221,
   "id": "c529b8c6",
   "metadata": {},
   "outputs": [
    {
     "name": "stdout",
     "output_type": "stream",
     "text": [
      "in cryptography, a substitution cipher is a method of encrypting in which units of plaintext are replaced with the ciphertext, in a defined manner, with the help of a key; the \"units\" may be single letters (the most common), pairs of letters, triplets of letters, mixtures of the above, and so forth. the receiver deciphers the text by performing the inverse substitution process to extract the original message.\n",
      "substitution ciphers can be compared with transposition ciphers. in a transposition cipher, the units of the plaintext are rearranged in a different and usually quite complex order, but the units themselves are left unchanged. by contrast, in a substitution cipher, the units of the plaintext are retained in the same sequence in the ciphertext, but the units themselves are altered.\n",
      "there are a number of different types of substitution cipher. if the cipher operates on single letters, it is termed a simple substitution cipher; a cipher that operates on larger groups of letters is termed polygraphic. a monoalphabetic cipher uses fixed substitution over the entire message, whereas a polyalphabetic cipher uses a number of substitutions at different positions in the message, where a unit from the plaintext is mapped to one of several possibilities in the ciphertext and vice versa.\n",
      "the first ever published description of how to crack simple substitution ciphers was given by al-kindi in a manuscript on deciphering cryptographic messages written around 850 ce. the method he described is now known as frequency analysis.\n",
      "\n",
      "\n",
      "== types ==\n",
      "\n",
      "\n",
      "=== simple ===\n",
      "\n",
      "the simplest substitution ciphers are the caesar cipher and atbash cipher. here single letters are substituted (referred to as simple substitution). it can be demonstrated by writing out the alphabet twice, once in regular order and again with the letters shifted by some number of steps or reversed to represent the ciphertext alphabet (or substitution alphabet).\n",
      "the substitution alphabet could also be scrambled in a more complex fashion, in which case it is called a mixed alphabet or deranged alphabet. traditionally, mixed alphabets may be created by first writing out a keyword, removing repeated letters in it, then writing all the remaining letters in the alphabet in the usual order.\n",
      "using this system, the keyword \"zebras\" gives us the following alphabets:\n",
      "\n",
      "a message \n",
      "\n",
      "flee at once. we are discovered!\n",
      "\n",
      "enciphers to\n",
      "\n",
      "siaa zq lkba. va zoa rfpbluaoar!\n",
      "\n",
      "and the keyword \"grandmother\" gives us the following alphabets:\n",
      "\n",
      "the same message \n",
      "\n",
      "flee at once. we are discovered!\n",
      "\n",
      "enciphers to\n",
      "\n",
      "mcdd gs jiad. wd gpd nhqajvdpdn!\n",
      "\n",
      "usually the ciphertext is written out in blocks of fixed length, omitting punctuation and spaces; this is done to disguise word boundaries from the plaintext and to help avoid transmission errors. these blocks are called \"groups\", and sometimes a \"group count\" (i.e. the number of groups) is given as an additional check. five-letter groups are often used, dating from when messages used to be transmitted by telegraph:\n",
      "\n",
      "siaaz qlkba vazoa rfpbl uaoar\n",
      "\n",
      "if the length of the message happens not to be divisible by five, it may be padded at the end with \"nulls\". these can be any characters that decrypt to obvious nonsense, so that the receiver can easily spot them and discard them.\n",
      "the ciphertext alphabet is sometimes different from the plaintext alphabet; for example, in the pigpen cipher, the ciphertext consists of a set of symbols derived from a grid. for example:\n",
      "\n",
      "such features make little difference to the security of a scheme, however – at the very least, any set of strange symbols can be transcribed back into an a-z alphabet and dealt with as normal.\n",
      "in lists and catalogues for salespeople, a very simple encryption is sometimes used to replace numeric digits by letters.\n",
      "\n",
      "examples: mat would be used to represent 120, papr would be used for 5256, and oftk would be used for 7803.\n",
      "\n",
      "\n",
      "==== security ====\n",
      "although the traditional keyword method for creating a mixed substitution alphabet is simple, a serious disadvantage is that the last letters of the alphabet (which are mostly low frequency) tend to stay at the end. a stronger way of constructing a mixed alphabet is to generate the substitution alphabet completely randomly.\n",
      "although the number of possible substitution alphabets is very large (26! ≈ 288.4, or about 88 bits), this cipher is not very strong, and is easily broken. provided the message is of reasonable length (see below), the cryptanalyst can deduce the probable meaning of the most common symbols by analyzing the frequency distribution of the ciphertext. this allows formation of partial words, which can be tentatively filled in, progressively expanding the (partial) solution (see frequency analysis for a demonstration of this). in some cases, underlying words can also be determined from the pattern of their letters; for example, the english words tater, ninth, and paper all have the pattern abacd. many people solve such ciphers for recreation, as with cryptogram puzzles in the newspaper.\n",
      "according to the unicity distance of english, 27.6 letters of ciphertext are required to crack a mixed alphabet simple substitution. in practice, typically about 50 letters are needed, although some messages can be broken with fewer if unusual patterns are found. in other cases, the plaintext can be contrived to have a nearly flat frequency distribution, and much longer plaintexts will then be required by the cryptanalyst.\n",
      "\n",
      "\n",
      "=== nomenclator ===\n",
      "\n",
      "one once-common variant of the substitution cipher is the nomenclator. named after the public official who announced the titles of visiting dignitaries, this cipher uses a small code sheet containing letter, syllable and word substitution tables, sometimes homophonic, that typically converted symbols into numbers. originally the code portion was restricted to the names of important people, hence the name of the cipher; in later years, it covered many common words and place names as well. the symbols for whole words (codewords in modern parlance) and letters (cipher in modern parlance) were not distinguished in the ciphertext. the rossignols' great cipher used by louis xiv of france was one.\n",
      "nomenclators were the standard fare of diplomatic correspondence, espionage, and advanced political conspiracy from the early fifteenth century to the late eighteenth century; most conspirators were and have remained less cryptographically sophisticated. although government intelligence cryptanalysts were systematically breaking nomenclators by the mid-sixteenth century, and superior systems had been available since 1467, the usual response to cryptanalysis was simply to make the tables larger. by the late eighteenth century, when the system was beginning to die out, some nomenclators had 50,000 symbols.\n",
      "nevertheless, not all nomenclators were broken; today, cryptanalysis of archived ciphertexts remains a fruitful area of historical research.\n",
      "\n",
      "\n",
      "=== homophonic ===\n",
      "an early attempt to increase the difficulty of frequency analysis attacks on substitution ciphers was to disguise plaintext letter frequencies by homophony. in these ciphers, plaintext letters map to more than one ciphertext symbol. usually, the highest-frequency plaintext symbols are given more equivalents than lower frequency letters. in this way, the frequency distribution is flattened, making analysis more difficult.\n",
      "since more than 26 characters will be required in the ciphertext alphabet, various solutions are employed to invent larger alphabets. perhaps the simplest is to use a numeric substitution 'alphabet'. another method consists of simple variations on the existing alphabet; uppercase, lowercase, upside down, etc. more artistically, though not necessarily more securely, some homophonic ciphers employed wholly invented alphabets of fanciful symbols.\n",
      "the book cipher is a type of homophonic cipher, one example being the beale ciphers. this is a story of buried treasure that was described in 1819–21 by use of a ciphered text that was keyed to the declaration of independence. here each ciphertext character was represented by a number.  the number was determined by taking the plaintext character and finding a word in the declaration of independence that started with that character and using the numerical position of that word in the declaration of independence as the encrypted form of that letter.  since many words in the declaration of independence start with the same letter, the encryption of that character could be any of the numbers associated with the words in the declaration of independence that start with that letter. deciphering the encrypted text character x (which is a number) is as simple as looking up the xth word of the declaration of independence and using the first letter of that word as the decrypted character.\n",
      "another homophonic cipher was described by stahl and was one of the first attempts to provide for computer security of data systems in computers through encryption. stahl constructed the cipher in such a way that the number of homophones for a given character was in proportion to the frequency of the character, thus making frequency analysis much more difficult.\n",
      "francesco i gonzaga, duke of mantua, used the earliest known example of a homophonic substitution cipher in 1401 for correspondence with one simone de crema.\n",
      "mary, queen of scots, while imprisoned by elizabeth i, during the years from 1578 to 1584 used homophonic ciphers with additional encryption using a nomenclator for frequent prefixes, suffixes, and proper names while communicating with her allies including michel de castelnau.\n",
      "\n",
      "\n",
      "=== polyalphabetic ===\n",
      "\n",
      "the work of al-qalqashandi (1355-1418), based on the earlier work of ibn al-durayhim (1312–1359), contained the first published discussion of the substitution and transposition of ciphers, as well as the first description of a polyalphabetic cipher, in which each plaintext letter is assigned more than one substitute. polyalphabetic substitution ciphers were later described in 1467 by leone battista alberti in the form of disks. johannes trithemius, in his book steganographia (ancient greek for \"hidden writing\") introduced the now more standard form of a tableau (see below; ca. 1500 but not published until much later). a more sophisticated version using mixed alphabets was described in 1563 by giovanni battista della porta in his book, de furtivis literarum notis (latin for \"on concealed characters in writing\").\n",
      "in a polyalphabetic cipher, multiple cipher alphabets are used. to facilitate encryption, all the alphabets are usually written out in a large table, traditionally called a tableau. the tableau is usually 26×26, so that 26 full ciphertext alphabets are available. the method of filling the tableau, and of choosing which alphabet to use next, defines the particular polyalphabetic cipher. all such ciphers are easier to break than once believed, as substitution alphabets are repeated for sufficiently large plaintexts.\n",
      "one of the most popular was that of blaise de vigenère. first published in 1585, it was considered unbreakable until 1863, and indeed was commonly called le chiffre indéchiffrable (french for \"indecipherable cipher\").\n",
      "in the vigenère cipher, the first row of the tableau is filled out with a copy of the plaintext alphabet, and successive rows are simply shifted one place to the left. (such a simple tableau is called a tabula recta, and mathematically corresponds to adding the plaintext and key letters, modulo 26.) a keyword is then used to choose which ciphertext alphabet to use. each letter of the keyword is used in turn, and then they are repeated again from the beginning. so if the keyword is 'cat', the first letter of plaintext is enciphered under alphabet 'c', the second under 'a', the third under 't', the fourth under 'c' again, and so on, or if the keyword is 'rise', the first letter of plaintext is enciphered under alphabet 'r', the second under 'i', the third under 's', the fourth under 'e', and so on. in practice, vigenère keys were often phrases several words long.\n",
      "in 1863, friedrich kasiski published a method (probably discovered secretly and independently before the crimean war by charles babbage) which enabled the calculation of the length of the keyword in a vigenère ciphered message. once this was done, ciphertext letters that had been enciphered under the same alphabet could be picked out and attacked separately as a number of semi-independent simple substitutions - complicated by the fact that within one alphabet letters were separated and did not form complete words, but simplified by the fact that usually a tabula recta had been employed.\n",
      "as such, even today a vigenère type cipher should theoretically be difficult to break if mixed alphabets are used in the tableau, if the keyword is random, and if the total length of ciphertext is less than 27.67 times the length of the keyword. these requirements are rarely understood in practice, and so vigenère enciphered message security is usually less than might have been.\n",
      "other notable polyalphabetics include:\n",
      "\n",
      "the gronsfeld cipher. this is identical to the vigenère except that only 10 alphabets are used, and so the \"keyword\" is numerical.\n",
      "the beaufort cipher. this is practically the same as the vigenère, except the tabula recta is replaced by a backwards one, mathematically equivalent to ciphertext = key - plaintext. this operation is self-inverse, whereby the same table is used for both encryption and decryption.\n",
      "the autokey cipher, which mixes plaintext with a key to avoid periodicity.\n",
      "the running key cipher, where the key is made very long by using a passage from a book or similar text.\n",
      "modern stream ciphers can also be seen, from a sufficiently abstract perspective, to be a form of polyalphabetic cipher in which all the effort has gone into making the keystream as long and unpredictable as possible.\n",
      "\n",
      "\n",
      "=== polygraphic ===\n",
      "in a polygraphic substitution cipher, plaintext letters are substituted in larger groups, instead of substituting letters individually. the first advantage is that the frequency distribution is much flatter than that of individual letters (though not actually flat in real languages; for example, 'os' is much more common than 'rñ' in spanish). second, the larger number of symbols requires correspondingly more ciphertext to productively analyze letter frequencies.\n",
      "to substitute pairs of letters would take a substitution alphabet 676 symbols long (\n",
      "  \n",
      "    \n",
      "      \n",
      "        \n",
      "          26\n",
      "          \n",
      "            2\n",
      "          \n",
      "        \n",
      "      \n",
      "    \n",
      "    {\\displaystyle 26^{2}}\n",
      "  \n",
      "). in the same de furtivis literarum notis mentioned above, della porta actually proposed such a system, with a 20 x 20 tableau (for the 20 letters of the italian/latin alphabet he was using) filled with 400 unique glyphs. however the system was impractical and probably never actually used.\n",
      "the earliest practical digraphic cipher (pairwise substitution), was the so-called playfair cipher, invented by sir charles wheatstone in 1854. in this cipher, a 5 x 5 grid is filled with the letters of a mixed alphabet (two letters, usually i and j, are combined). a digraphic substitution is then simulated by taking pairs of letters as two corners of a rectangle, and using the other two corners as the ciphertext (see the playfair cipher main article for a diagram). special rules handle double letters and pairs falling in the same row or column. playfair was in military use from the boer war through world war ii.\n",
      "several other practical polygraphics were introduced in 1901 by felix delastelle, including the bifid and four-square ciphers (both digraphic) and the trifid cipher (probably the first practical trigraphic).\n",
      "the hill cipher, invented in 1929 by lester s. hill, is a polygraphic substitution which can combine much larger groups of letters simultaneously using linear algebra. each letter is treated as a digit in base 26: a = 0, b =1, and so on. (in a variation, 3 extra symbols are added to make the basis prime.) a block of n letters is then considered as a vector of n dimensions, and multiplied by a n x n matrix, modulo 26. the components of the matrix are the key, and should be random provided that the matrix is invertible in \n",
      "  \n",
      "    \n",
      "      \n",
      "        \n",
      "          \n",
      "            z\n",
      "          \n",
      "          \n",
      "            26\n",
      "          \n",
      "          \n",
      "            n\n",
      "          \n",
      "        \n",
      "      \n",
      "    \n",
      "    {\\displaystyle \\mathbb {z} _{26}^{n}}\n",
      "  \n",
      " (to ensure decryption is possible). a mechanical version of the hill cipher of dimension 6 was patented in 1929.\n",
      "the hill cipher is vulnerable to a known-plaintext attack because it is completely linear, so it must be combined with some non-linear step to defeat this attack. the combination of wider and wider weak, linear diffusive steps like a hill cipher, with non-linear substitution steps, ultimately leads to a substitution–permutation network (e.g. a feistel cipher), so it is possible – from this extreme perspective – to consider modern block ciphers as a type of polygraphic substitution.\n",
      "\n",
      "\n",
      "=== mechanical ===\n",
      "\n",
      "between around world war i and the widespread availability of computers (for some governments this was approximately the 1950s or 1960s; for other organizations it was a decade or more later; for individuals it was no earlier than 1975), mechanical implementations of polyalphabetic substitution ciphers were widely used. several inventors had similar ideas about the same time, and rotor cipher machines were patented four times in 1919. the most important of the resulting machines was the enigma, especially in the versions used by the german military from approximately 1930. the allies also developed and used rotor machines (e.g., sigaba and typex).\n",
      "all of these were similar in that the substituted letter was chosen electrically from amongst the huge number of possible combinations resulting from the rotation of several letter disks. since one or more of the disks rotated mechanically with each plaintext letter enciphered, the number of alphabets used was astronomical. early versions of these machine were, nevertheless, breakable. william f. friedman of the us army's sis early found vulnerabilities in hebern's rotor machine, and gc&cs's dillwyn knox solved versions of the enigma machine (those without the \"plugboard\") well before wwii began. traffic protected by essentially all of the german military enigmas was broken by allied cryptanalysts, most notably those at bletchley park, beginning with the german army variant used in the early 1930s. this version was broken by inspired mathematical insight by marian rejewski in poland.\n",
      "as far as is publicly known, no messages protected by the sigaba and typex machines were ever broken during or near the time when these systems were in service.\n",
      "\n",
      "\n",
      "=== one-time pad ===\n",
      "\n",
      "one type of substitution cipher, the one-time pad, is unique. it was invented near the end of world war i by gilbert vernam and joseph mauborgne in the us. it was mathematically proven unbreakable by claude shannon, probably during world war ii; his work was first published in the late 1940s. in its most common implementation, the one-time pad can be called a substitution cipher only from an unusual perspective; typically, the plaintext letter is combined (not substituted) in some manner (e.g., xor) with the key material character at that position.\n",
      "the one-time pad is, in most cases, impractical as it requires that the key material be as long as the plaintext, actually random, used once and only once, and kept entirely secret from all except the sender and intended receiver. when these conditions are violated, even marginally, the one-time pad is no longer unbreakable. soviet one-time pad messages sent from the us for a brief time during world war ii used non-random key material. us cryptanalysts, beginning in the late 40s, were able to, entirely or partially, break a few thousand messages out of several hundred thousand. (see venona project)\n",
      "in a mechanical implementation, rather like the rockex equipment, the one-time pad was used for messages sent on the moscow-washington hot line established after the cuban missile crisis.\n",
      "\n",
      "\n",
      "== in modern cryptography ==\n",
      "substitution ciphers as discussed above, especially the older pencil-and-paper hand ciphers, are no longer in serious use. however, the cryptographic concept of substitution carries on even today. from an abstract perspective, modern bit-oriented block ciphers (e.g., des, or aes) can be viewed as substitution ciphers on a large binary alphabet. in addition, block ciphers often include smaller substitution tables called s-boxes. see also substitution–permutation network.\n",
      "\n",
      "\n",
      "== in popular culture ==\n",
      "sherlock holmes breaks a substitution cipher in \"the adventure of the dancing men\". there, the cipher remained undeciphered for years if not decades; not due to its difficulty, but because no one suspected it to be a code, instead considering it childish scribblings.\n",
      "the  standard galactic alphabet, the writing system in the commander keen video games and in minecraft.\n",
      "the al bhed language in final fantasy x is actually a substitution cipher, although it is pronounced phonetically (i.e. \"you\" in english is translated to \"oui\" in al bhed, but is pronounced the same way that \"oui\" is pronounced in french).\n",
      "the minbari's alphabet from the babylon 5 series is a substitution cipher from english.\n",
      "the language in starfox adventures: dinosaur planet spoken by native saurians and krystal is also a substitution cipher of the english alphabet.\n",
      "the television program futurama contained a substitution cipher in which all 26 letters were replaced by symbols and called \"alien language\" archived 2022-12-25 at the wayback machine. this was deciphered rather quickly by the die hard viewers by showing a \"slurm\" ad with the word \"drink\" in both plain english and the alien language thus giving the key. later, the producers created a second alien language that used a combination of replacement and mathematical ciphers. once the english letter of the alien language is deciphered, then the numerical value of that letter (0 for \"a\" through 25 for \"z\" respectively) is then added (modulo 26) to the value of the previous letter showing the actual intended letter. these messages can be seen throughout every episode of the series and the subsequent movies.\n",
      "at the end of every season 1 episode of the cartoon series gravity falls, during the credit roll, there is one of three simple substitution ciphers: a -3 caesar cipher (hinted by \"3 letters back\" at the end of the opening sequence), an atbash cipher, or a letter-to-number simple substitution cipher. the season 1 finale encodes a message with all three. in the second season, vigenère ciphers are used in place of the various monoalphabetic ciphers, each using a key hidden within its episode.\n",
      "in the artemis fowl series by eoin colfer there are three substitution ciphers; gnommish, centaurean and eternean, which run along the bottom of the pages or are somewhere else within the books.\n",
      "in bitterblue, the third novel by kristin cashore, substitution ciphers serve as an important form of coded communication.\n",
      "in the 2013 video game bioshock infinite, there are substitution ciphers hidden throughout the game in which the player must find code books to help decipher them and gain access to a surplus of supplies.\n",
      "in the anime adaptation of the devil is a part-timer!, the language of ente isla, called entean, uses a substitution cipher with the ciphertext alphabet azyxewvtisrlpnomqkjhugfdcb, leaving only a, e, i, o, u, l, n, and q in their original positions.\n",
      "\n",
      "\n",
      "== see also ==\n",
      "ban (unit) with centiban table\n",
      "copiale cipher\n",
      "dictionary coder – lossless data compression algorithms which operate by looking for matches between the text to be compressed and a set of strings (“dictionary”) maintained by the encoder; such a match is substituted by a reference to the string’s position in the setpages displaying wikidata descriptions as a fallback\n",
      "leet\n",
      "vigenère cipher\n",
      "topics in cryptography\n",
      "musical substitution ciphers\n",
      "\n",
      "\n",
      "== references ==\n",
      "\n",
      "\n",
      "== external links ==\n",
      "monoalphabetic substitution breaking a monoalphabetic encryption system using a known plaintext attack\n"
     ]
    }
   ],
   "source": [
    "# print the decrypted ciphertext\n",
    "print(substitution_decrypt(ciphertext, mapping))"
   ]
  },
  {
   "cell_type": "markdown",
   "id": "fc751958",
   "metadata": {},
   "source": [
    "## Affine cipher"
   ]
  },
  {
   "cell_type": "markdown",
   "id": "2f6c01cf",
   "metadata": {},
   "source": [
    "The Affine Cipher is a type of substitution cipher used for encryption and decryption in cryptography. In this technique, each letter in the alphabet is mapped to its numeric equivalent, and a mathematical function is applied to transform plaintext into ciphertext. The encryption function follows a linear transformation: (ax + b) mod m, where a and b are keys, and m represents the length of the alphabet (26). The decryption function is similar, using the formula a⁻¹ * (y - b) mod m, where a⁻¹ is the modular inverse of a (Stallings, 2017)."
   ]
  },
  {
   "cell_type": "markdown",
   "id": "53ebd639",
   "metadata": {},
   "source": [
    "### Encryption"
   ]
  },
  {
   "cell_type": "code",
   "execution_count": 33,
   "id": "fed6453f",
   "metadata": {},
   "outputs": [],
   "source": [
    "from math import gcd"
   ]
  },
  {
   "cell_type": "code",
   "execution_count": 101,
   "id": "8e4462d4",
   "metadata": {},
   "outputs": [],
   "source": [
    "def affine_encrypt(plaintext, a, b):\n",
    "    ''' Encrypt `plaintext` (str) as an affine cipher with given `a` and `b` \n",
    "    '''\n",
    "    alphabet = string.ascii_lowercase\n",
    "    ciphertext = ''\n",
    "    for char in plaintext:\n",
    "        if char in alphabet:\n",
    "            ciphertext += alphabet[(a * alphabet.index(char) + b) % 26]\n",
    "        else:\n",
    "            ciphertext += char  # non-alphabetic    \n",
    "    \n",
    "    return ciphertext"
   ]
  },
  {
   "cell_type": "code",
   "execution_count": 39,
   "id": "318af9dc",
   "metadata": {},
   "outputs": [
    {
     "name": "stdout",
     "output_type": "stream",
     "text": [
      "hello world! -> wniir praik!\n"
     ]
    }
   ],
   "source": [
    "plaintext = 'hello world!'\n",
    "a, b = 3, 1\n",
    "\n",
    "ciphertext = affine_encrypt(plaintext, a, b)\n",
    "print(plaintext, '->', ciphertext) # expected output 'hello world! -> wniir praik!'"
   ]
  },
  {
   "cell_type": "markdown",
   "id": "6b575792",
   "metadata": {},
   "source": [
    "### Decryption"
   ]
  },
  {
   "cell_type": "code",
   "execution_count": 103,
   "id": "722722b6",
   "metadata": {},
   "outputs": [],
   "source": [
    "def mod_inverse(a, m):\n",
    "    ''' Return the modular inverse of `a` (int) modulo `m` (int) \n",
    "    '''\n",
    "    if gcd(a, m) != 1:\n",
    "        return None\n",
    "    for i in range(1, m):\n",
    "        if (a * i) % m == 1:\n",
    "            return i   "
   ]
  },
  {
   "cell_type": "code",
   "execution_count": 104,
   "id": "6bd1e1ad",
   "metadata": {},
   "outputs": [],
   "source": [
    "def affine_decrypt(ciphertext, a, b):\n",
    "    ''' Decrypt `ciphertext` (str) as an affine cipher with given `a` and `b` \n",
    "    '''\n",
    "    inverse_a = mod_inverse(a, 26)\n",
    "    if inverse_a is None:\n",
    "        return \"Error: a is not invertible\"\n",
    "    \n",
    "    inverse_a = [i for i in range(26) if (a * i) % 26 == 1][0]\n",
    "    alphabet = string.ascii_lowercase\n",
    "    plaintext = ''\n",
    "    \n",
    "    for char in ciphertext:\n",
    "        if char in alphabet:\n",
    "            plaintext += alphabet[(inverse_a * (alphabet.index(char) - b)) % 26]\n",
    "        else:\n",
    "            plaintext += char\n",
    "            \n",
    "    return plaintext"
   ]
  },
  {
   "cell_type": "code",
   "execution_count": 105,
   "id": "56d22e76",
   "metadata": {},
   "outputs": [
    {
     "name": "stdout",
     "output_type": "stream",
     "text": [
      "wniir praik! -> hello world!\n"
     ]
    }
   ],
   "source": [
    "ciphertext = 'wniir praik!'\n",
    "a, b = 3, 1\n",
    "\n",
    "plaintext = affine_decrypt(ciphertext, a, b)\n",
    "print(ciphertext, '->', plaintext) # expected output 'wniir praik! -> hello world!'"
   ]
  },
  {
   "cell_type": "markdown",
   "id": "c69be4ca",
   "metadata": {},
   "source": [
    "### Ciphertext"
   ]
  },
  {
   "cell_type": "code",
   "execution_count": 106,
   "id": "eea4b5c6",
   "metadata": {},
   "outputs": [
    {
     "data": {
      "text/plain": [
       "'yir doofqr xfkire fb d yjkr no tnqndwkidaryfx bvabyfyvyfnq xfkire, pirer rdxi wryyre fq dq dwkidary fb tdkkru yn fyb qvtrefx rhvfsdwrqy, rqxejkyru vbfql d bftkwr tdyirtdyfxdw ovqxyfnq, dqu xnqsreyru adxz yn d wryyre. yir onetvwd vbru trdqb yidy rdxi wryyre rqxejkyb yn nqr nyire wryyre, dqu adxz dldfq, trdqfql yir xfkire fb rbbrqyfdwwj d bydqudeu bvabyfyvyfnq xfkire pfyi d evwr lnsreqfql pifxi wryyre lnrb yn pifxi. db bvxi, fy idb yir prdzqrbbrb no dww bvabyfyvyfnq xfkireb. rdxi wryyre fb rqxfkireru pfyi yir ovqxyfnq (dm + a) tnu 26, pirer a fb yir tdlqfyvur no yir bifoy.\\n\\n\\n== urbxefkyfnq ==\\nirer, yir wryyreb no dq dwkidary no bfgr t der ofeby tdkkru yn yir fqyrlreb fq yir edqlr 0 ... t  1. fy yirq vbrb tnuvwde defyitryfx yn yedqbonet yir fqyrlre yidy rdxi kwdfqyrmy wryyre xneerbknqub yn fqyn dqnyire fqyrlre yidy xneerbknqu yn d xfkireyrmy wryyre.\\nyir rqxejkyfnq ovqxyfnq one d bfqlwr wryyre fb \\n\\n  \\n    \\n      \\n        r\\n        (\\n        m\\n        )\\n        =\\n        (\\n        d\\n        m\\n        +\\n        a\\n        )\\n        \\n          tnu\\n          \\n            t\\n          \\n        \\n      \\n    \\n    {\\\\ufbkwdjbyjwr r(m)=(dm+a){\\\\atnu {t}}}\\n  \\n\\npirer tnuvwvb t fb yir bfgr no yir dwkidary dqu d dqu a der yir zrjb no yir xfkire. yir sdwvr d tvby ar xinbrq bvxi yidy d dqu t der xnkeftr. yir urxejkyfnq ovqxyfnq fb \\n\\n  \\n    \\n      \\n        u\\n        (\\n        m\\n        )\\n        =\\n        \\n          d\\n          \\n            \\n            1\\n          \\n        \\n        (\\n        m\\n        \\n        a\\n        )\\n        \\n          tnu\\n          \\n            t\\n          \\n        \\n      \\n    \\n    {\\\\ufbkwdjbyjwr u(m)=d^{-1}(m-a){\\\\atnu {t}}}\\n  \\n\\npirer d1 fb yir tnuvwde tvwyfkwfxdyfsr fqsrebr no d tnuvwn t. f.r., fy bdyfbofrb yir rhvdyfnq \\n\\n  \\n    \\n      \\n        1\\n        =\\n        d\\n        \\n          d\\n          \\n            \\n            1\\n          \\n        \\n        \\n          tnu\\n          \\n            t\\n          \\n        \\n      \\n    \\n    {\\\\ufbkwdjbyjwr 1=dd^{-1}{\\\\atnu {t}}}\\n  \\n\\nyir tvwyfkwfxdyfsr fqsrebr no d nqwj rmfbyb fo d dqu t der xnkeftr. irqxr pfyinvy yir erbyefxyfnq nq d, urxejkyfnq tfliy qny ar knbbfawr.\\nfy xdq ar binpq db onwwnpb yidy urxejkyfnq ovqxyfnq fb yir fqsrebr no yir rqxejkyfnq ovqxyfnq,\\n\\n  \\n    \\n      \\n        \\n          \\n            \\n              \\n                u\\n                (\\n                r\\n                (\\n                m\\n                )\\n                )\\n              \\n              \\n                \\n                =\\n                \\n                  d\\n                  \\n                    \\n                    1\\n                  \\n                \\n                (\\n                r\\n                (\\n                m\\n                )\\n                \\n                a\\n                )\\n                \\n                  tnu\\n                  \\n                    t\\n                  \\n                \\n              \\n            \\n            \\n              \\n              \\n                \\n                =\\n                \\n                  d\\n                  \\n                    \\n                    1\\n                  \\n                \\n                (\\n                (\\n                (\\n                d\\n                m\\n                +\\n                a\\n                )\\n                \\n                  tnu\\n                  \\n                    t\\n                  \\n                \\n                )\\n                \\n                a\\n                )\\n                \\n                  tnu\\n                  \\n                    t\\n                  \\n                \\n              \\n            \\n            \\n              \\n              \\n                \\n                =\\n                \\n                  d\\n                  \\n                    \\n                    1\\n                  \\n                \\n                (\\n                d\\n                m\\n                +\\n                a\\n                \\n                a\\n                )\\n                \\n                  tnu\\n                  \\n                    t\\n                  \\n                \\n              \\n            \\n            \\n              \\n              \\n                \\n                =\\n                \\n                  d\\n                  \\n                    \\n                    1\\n                  \\n                \\n                d\\n                m\\n                \\n                  tnu\\n                  \\n                    t\\n                  \\n                \\n              \\n            \\n            \\n              \\n              \\n                \\n                =\\n                m\\n                \\n                  tnu\\n                  \\n                    t\\n                  \\n                \\n              \\n            \\n          \\n        \\n      \\n    \\n    {\\\\ufbkwdjbyjwr {\\\\arlfq{dwflqru}u(r(m))&=d^{-1}(r(m)-a){\\\\atnu {t}}\\\\\\\\&=d^{-1}(((dm+a){\\\\atnu {t}})-a){\\\\atnu {t}}\\\\\\\\&=d^{-1}(dm+a-a){\\\\atnu {t}}\\\\\\\\&=d^{-1}dm{\\\\atnu {t}}\\\\\\\\&=m{\\\\atnu {t}}\\\\rqu{dwflqru}}}\\n  \\n\\n\\n== prdzqrbbrb ==\\nbfqxr yir doofqr xfkire fb byfww d tnqndwkidaryfx bvabyfyvyfnq xfkire, fy fqirefyb yir prdzqrbbrb no yidy xwdbb no xfkireb. yir xdrbde xfkire fb dq doofqr xfkire pfyi d = 1 bfqxr yir rqxejkyfql ovqxyfnq bftkwj eruvxrb yn d wfqrde bifoy. yir dyadbi xfkire vbrb d = 1.\\nxnqbfurefql yir bkrxfofx xdbr no rqxejkyfql trbbdlrb fq rqlwfbi (f.r. t = 26), yirer der d ynydw no 286 qnq-yefsfdw doofqr xfkireb, qny xnvqyfql yir 26 yefsfdw xdrbde xfkireb. yifb qvtare xntrb oent yir odxy yirer der 12 qvtareb yidy der xnkeftr pfyi 26 yidy der wrbb yidq 26 (yirbr der yir knbbfawr sdwvrb no d). rdxi sdwvr no d xdq idsr 26 ufoorerqy duufyfnq bifoyb (yir a sdwvr); yireroner, yirer der 12  26 ne 312 knbbfawr zrjb. yifb wdxz no sdefryj erqureb yir bjbyrt db ifliwj fqbrxver pirq xnqbfureru fq wfliy no zrexzinoob\\' kefqxfkwr.\\nyir xfkire\\'b keftdej prdzqrbb xntrb oent yir odxy yidy fo yir xejkydqdwjby xdq ufbxnsre (aj trdqb no oerhvrqxj dqdwjbfb, aevyr onexr, lvrbbfql ne nyirepfbr) yir kwdfqyrmy no ypn xfkireyrmy xidedxyreb yirq yir zrj xdq ar naydfqru aj bnwsfql d bftvwydqrnvb rhvdyfnq. bfqxr pr zqnp d dqu t der erwdyfsrwj keftr yifb xdq ar vbru yn edkfuwj ufbxdeu tdqj \"odwbr\" zrjb fq dq dvyntdyru bjbyrt.\\nyir bdtr yjkr no yedqbonetdyfnq vbru fq doofqr xfkireb fb vbru fq wfqrde xnqlevrqyfdw lrqredyneb, d yjkr no kbrvunedqunt qvtare lrqredyne. yifb lrqredyne fb qny d xejkynledkifxdwwj brxver kbrvunedqunt qvtare lrqredyne one yir bdtr erdbnq yidy yir doofqr xfkire fb qny brxver.\\n\\n\\n== rmdtkwr ==\\nfq yifb rmdtkwr binpfql rqxejkyfnq dqu urxejkyfnq, yir dwkidary fb lnfql yn ar yir wryyreb d yienvli g, dqu pfww idsr yir xneerbknqufql sdwvrb onvqu fq yir onwwnpfql ydawr.\\n\\n\\n=== rqxejkyfnq ===\\nfq yifb rqxejkyfql rmdtkwr, yir kwdfqyrmy yn ar rqxejkyru fb \"doofqr xfkire\" vbfql yir ydawr trqyfnqru dansr one yir qvtrefx sdwvrb no rdxi wryyre, ydzfql d yn ar 5, a yn ar 8, dqu t yn ar 26 bfqxr yirer der 26 xidedxyreb fq yir dwkidary arfql vbru. nqwj yir sdwvr no d idb d erbyefxyfnq bfqxr fy idb yn ar xnkeftr pfyi 26. yir knbbfawr sdwvrb yidy d xnvwu ar der 1, 3, 5, 7, 9, 11, 15, 17, 19, 21, 23, dqu 25. yir sdwvr one a xdq ar deafyedej db wnql db d unrb qny rhvdw 1 bfqxr yifb fb yir bifoy no yir xfkire. yivb, yir rqxejkyfnq ovqxyfnq one yifb rmdtkwr pfww ar j = r(m) = (5m + 8) tnu 26. yir ofeby byrk fq rqxejkyfql yir trbbdlr fb yn pefyr yir qvtrefx sdwvrb no rdxi wryyre. \\n\\nqnp, ydzr rdxi sdwvr no m, dqu bnwsr yir ofeby kdey no yir rhvdyfnq, (5m + 8). doyre ofqufql yir sdwvr no (5m + 8) one rdxi xidedxyre, ydzr yir ertdfqure pirq ufsfufql yir erbvwy no (5m + 8) aj 26. yir onwwnpfql ydawr binpb yir ofeby onve byrkb no yir rqxejkyfql kenxrbb.\\n\\nyir ofqdw byrk fq rqxejkyfql yir trbbdlr fb yn wnnz vk rdxi qvtrefx sdwvr fq yir ydawr one yir xneerbknqufql wryyreb. fq yifb rmdtkwr, yir rqxejkyru yrmy pnvwu ar fiipsxbpoexk. yir ydawr arwnp binpb yir xntkwryru ydawr one rqxejkyfql d trbbdlr fq yir doofqr xfkire.\\n\\n\\n=== urxejkyfnq ===\\nfq yifb urxejkyfnq rmdtkwr, yir xfkireyrmy yidy pfww ar urxejkyru fb yir xfkireyrmy oent yir rqxejkyfnq rmdtkwr. yir xneerbknqufql urxejkyfnq ovqxyfnq fb u(j) = 21(j  a) tnu 26, pirer d1 fb xdwxvwdyru yn ar 21, dqu a fb 8. yn arlfq, pefyr yir qvtrefx rhvfsdwrqyb yn rdxi wryyre fq yir xfkireyrmy, db binpq fq yir ydawr arwnp.\\n\\nqnp, yir qrmy byrk fb yn xntkvyr 21(j  8), dqu yirq ydzr yir ertdfqure pirq yidy erbvwy fb ufsfuru aj 26. yir onwwnpfql ydawr binpb yir erbvwyb no anyi xntkvydyfnqb.\\n\\nyir ofqdw byrk fq urxejkyfql yir xfkireyrmy fb yn vbr yir ydawr yn xnqsrey qvtrefx sdwvrb adxz fqyn wryyreb. yir kwdfqyrmy fq yifb urxejkyfnq fb doofqrxfkire. arwnp fb yir ydawr pfyi yir ofqdw byrk xntkwryru.\\n\\n\\n=== rqyfer dwkidary rqxnuru ===\\nyn tdzr rqxejkyfql dqu urxejkyfql hvfxzre, yir rqyfer dwkidary xdq ar rqxejkyru yn xerdyr d nqr-yn-nqr tdk aryprrq yir wryyreb no yir xwrdeyrmy dqu yir xfkireyrmy. fq yifb rmdtkwr, yir nqr-yn-nqr tdk pnvwu ar yir onwwnpfql:\\n\\n\\n=== kenledttfql rmdtkwrb ===\\nyir onwwnpfql kjyinq xnur rqxejkyb yrmy pfyi yir doofqr xfkire:\\n\\n\\n== brr dwbn ==\\ndoofqr ovqxyfnqb\\ndyadbi xnur\\nxdrbde xfkire\\neny13\\nynkfxb fq xejkynledkij\\n\\n\\n== erorerqxrb =='"
      ]
     },
     "execution_count": 106,
     "metadata": {},
     "output_type": "execute_result"
    }
   ],
   "source": [
    "# Load ciphertext\n",
    "with open('ciphertext_affine.txt', 'r', encoding='utf-8') as file:\n",
    "    ciphertext = file.read()\n",
    "    \n",
    "ciphertext"
   ]
  },
  {
   "cell_type": "markdown",
   "id": "57bd258f",
   "metadata": {},
   "source": [
    "### Breaking Cipher"
   ]
  },
  {
   "cell_type": "code",
   "execution_count": 107,
   "id": "582a5a1d",
   "metadata": {},
   "outputs": [
    {
     "name": "stdout",
     "output_type": "stream",
     "text": [
      "a=1, b=0: yir doofqr xfkire fb d yjkr no tnqndwkidaryfx bvab \n",
      "\n",
      "a=1, b=1: xhq cnnepq wejhqd ea c xijq mn smpmcvjhczqxew auza \n",
      "\n",
      "a=1, b=2: wgp bmmdop vdigpc dz b whip lm rlolbuigbypwdv ztyz \n",
      "\n",
      "a=1, b=3: vfo allcno uchfob cy a vgho kl qknkathfaxovcu ysxy \n",
      "\n",
      "a=1, b=4: uen zkkbmn tbgena bx z ufgn jk pjmjzsgezwnubt xrwx \n",
      "\n",
      "a=1, b=5: tdm yjjalm safdmz aw y tefm ij oiliyrfdyvmtas wqvw \n",
      "\n",
      "a=1, b=6: scl xiizkl rzecly zv x sdel hi nhkhxqecxulszr vpuv \n",
      "\n",
      "a=1, b=7: rbk whhyjk qydbkx yu w rcdk gh mgjgwpdbwtkryq uotu \n",
      "\n",
      "a=1, b=8: qaj vggxij pxcajw xt v qbcj fg lfifvocavsjqxp tnst \n",
      "\n",
      "a=1, b=9: pzi uffwhi owbziv ws u pabi ef keheunbzuripwo smrs \n",
      "\n",
      "a=1, b=10: oyh teevgh nvayhu vr t ozah de jdgdtmaytqhovn rlqr \n",
      "\n",
      "a=1, b=11: nxg sddufg muzxgt uq s nyzg cd icfcslzxspgnum qkpq \n",
      "\n",
      "a=1, b=12: mwf rcctef ltywfs tp r mxyf bc hbebrkywrofmtl pjop \n",
      "\n",
      "a=1, b=13: lve qbbsde ksxver so q lwxe ab gadaqjxvqnelsk oino \n",
      "\n",
      "a=1, b=14: kud paarcd jrwudq rn p kvwd za fzczpiwupmdkrj nhmn \n",
      "\n",
      "a=1, b=15: jtc ozzqbc iqvtcp qm o juvc yz eybyohvtolcjqi mglm \n",
      "\n",
      "a=1, b=16: isb nyypab hpusbo pl n itub xy dxaxngusnkbiph lfkl \n",
      "\n",
      "a=1, b=17: hra mxxoza gotran ok m hsta wx cwzwmftrmjahog kejk \n",
      "\n",
      "a=1, b=18: gqz lwwnyz fnsqzm nj l grsz vw bvyvlesqlizgnf jdij \n",
      "\n",
      "a=1, b=19: fpy kvvmxy emrpyl mi k fqry uv auxukdrpkhyfme ichi \n",
      "\n",
      "a=1, b=20: eox juulwx dlqoxk lh j epqx tu ztwtjcqojgxeld hbgh \n",
      "\n",
      "a=1, b=21: dnw ittkvw ckpnwj kg i dopw st ysvsibpnifwdkc gafg \n",
      "\n",
      "a=1, b=22: cmv hssjuv bjomvi jf h cnov rs xrurhaomhevcjb fzef \n",
      "\n",
      "a=1, b=23: blu grritu ainluh ie g bmnu qr wqtqgznlgdubia eyde \n",
      "\n",
      "a=1, b=24: akt fqqhst zhmktg hd f almt pq vpspfymkfctahz dxcd \n",
      "\n",
      "a=1, b=25: zjs eppgrs ygljsf gc e zkls op uoroexljebszgy cwbc \n",
      "\n",
      "a=3, b=0: iux bwwtox ztmuxk tj b idmx nw pnonbqmubaxitz jhaj \n",
      "\n",
      "a=3, b=1: zlo snnkfo qkdlob ka s zudo en gefeshdlsrozkq ayra \n",
      "\n",
      "a=3, b=2: qcf jeebwf hbucfs br j qluf ve xvwvjyucjifqbh rpir \n",
      "\n",
      "a=3, b=3: htw avvsnw ysltwj si a hclw mv omnmapltazwhsy igzi \n",
      "\n",
      "a=3, b=4: ykn rmmjen pjckna jz r ytcn dm fdedrgckrqnyjp zxqz \n",
      "\n",
      "a=3, b=5: pbe iddave gatber aq i pkte ud wuvuixtbihepag qohq \n",
      "\n",
      "a=3, b=6: gsv zuurmv xrksvi rh z gbkv lu nlmlzokszyvgrx hfyh \n",
      "\n",
      "a=3, b=7: xjm qllidm oibjmz iy q xsbm cl ecdcqfbjqpmxio ywpy \n",
      "\n",
      "a=3, b=8: oad hcczud fzsadq zp h ojsd tc vtuthwsahgdozf pngp \n",
      "\n",
      "a=3, b=9: fru yttqlu wqjruh qg y faju kt mklkynjryxufqw gexg \n",
      "\n",
      "a=3, b=10: wil pkkhcl nhaily hx p wral bk dbcbpeaipolwhn xvox \n",
      "\n",
      "a=3, b=11: nzc gbbytc eyrzcp yo g nirc sb ustsgvrzgfcnye omfo \n",
      "\n",
      "a=3, b=12: eqt xsspkt vpiqtg pf x ezit js ljkjxmiqxwtepv fdwf \n",
      "\n",
      "a=3, b=13: vhk ojjgbk mgzhkx gw o vqzk aj cabaodzhonkvgm wunw \n",
      "\n",
      "a=3, b=14: myb faaxsb dxqybo xn f mhqb ra trsrfuqyfebmxd nlen \n",
      "\n",
      "a=3, b=15: dps wrrojs uohpsf oe w dyhs ir kijiwlhpwvsdou ecve \n",
      "\n",
      "a=3, b=16: ugj niifaj lfygjw fv n upyj zi bzazncygnmjufl vtmv \n",
      "\n",
      "a=3, b=17: lxa ezzwra cwpxan wm e lgpa qz sqrqetpxedalwc mkdm \n",
      "\n",
      "a=3, b=18: cor vqqnir tngore nd v cxgr hq jhihvkgovurcnt dbud \n",
      "\n",
      "a=3, b=19: tfi mhhezi kexfiv eu m toxi yh ayzymbxfmlitek uslu \n",
      "\n",
      "a=3, b=20: kwz dyyvqz bvowzm vl d kfoz py rpqpdsowdczkvb ljcl \n",
      "\n",
      "a=3, b=21: bnq uppmhq smfnqd mc u bwfq gp ighgujfnutqbms catc \n",
      "\n",
      "a=3, b=22: seh lggdyh jdwehu dt l snwh xg zxyxlawelkhsdj trkt \n",
      "\n",
      "a=3, b=23: jvy cxxupy aunvyl uk c jeny ox qopocrnvcbyjua kibk \n",
      "\n",
      "a=3, b=24: amp toolgp rlempc lb t avep fo hfgftiemtspalr bzsb \n",
      "\n",
      "a=3, b=25: rdg kffcxg icvdgt cs k rmvg wf ywxwkzvdkjgrci sqjs \n",
      "\n",
      "a=5, b=0: kmt liibyt pbcmtg bv l khct ni jnynlucmlatkbp vzav \n",
      "\n",
      "a=5, b=1: pry qnngdy ughryl ga q pmhy sn osdsqzhrqfypgu aefa \n",
      "\n",
      "a=5, b=2: uwd vsslid zlmwdq lf v urmd xs txixvemwvkdulz fjkf \n",
      "\n",
      "a=5, b=3: zbi axxqni eqrbiv qk a zwri cx ycncajrbapizqe kopk \n",
      "\n",
      "a=5, b=4: egn fccvsn jvwgna vp f ebwn hc dhshfowgfunevj ptup \n",
      "\n",
      "a=5, b=5: jls khhaxs oablsf au k jgbs mh imxmktblkzsjao uyzu \n",
      "\n",
      "a=5, b=6: oqx pmmfcx tfgqxk fz p olgx rm nrcrpygqpexoft zdez \n",
      "\n",
      "a=5, b=7: tvc urrkhc yklvcp ke u tqlc wr swhwudlvujctky eije \n",
      "\n",
      "a=5, b=8: yah zwwpmh dpqahu pj z yvqh bw xbmbziqazohypd jnoj \n",
      "\n",
      "a=5, b=9: dfm ebburm iuvfmz uo e davm gb cgrgenvfetmdui osto \n",
      "\n",
      "a=5, b=10: ikr jggzwr nzakre zt j ifar lg hlwljsakjyrizn txyt \n",
      "\n",
      "a=5, b=11: npw ollebw sefpwj ey o nkfw ql mqbqoxfpodwnes ycdy \n",
      "\n",
      "a=5, b=12: sub tqqjgb xjkubo jd t spkb vq rvgvtckutibsjx dhid \n",
      "\n",
      "a=5, b=13: xzg yvvolg copzgt oi y xupg av walayhpzyngxoc imni \n",
      "\n",
      "a=5, b=14: cel daatql htuely tn d czul fa bfqfdmuedslcth nrsn \n",
      "\n",
      "a=5, b=15: hjq iffyvq myzjqd ys i hezq kf gkvkirzjixqhym swxs \n",
      "\n",
      "a=5, b=16: mov nkkdav rdeovi dx n mjev pk lpapnweoncvmdr xbcx \n",
      "\n",
      "a=5, b=17: rta sppifa wijtan ic s roja up qufusbjtshariw cghc \n",
      "\n",
      "a=5, b=18: wyf xuunkf bnoyfs nh x wtof zu vzkzxgoyxmfwnb hlmh \n",
      "\n",
      "a=5, b=19: bdk czzspk gstdkx sm c bytk ez aepecltdcrkbsg mqrm \n",
      "\n",
      "a=5, b=20: gip heexup lxyipc xr h gdyp je fjujhqyihwpgxl rvwr \n",
      "\n",
      "a=5, b=21: lnu mjjczu qcdnuh cw m lidu oj kozomvdnmbulcq wabw \n",
      "\n",
      "a=5, b=22: qsz roohez vhiszm hb r qniz to ptetraisrgzqhv bfgb \n",
      "\n",
      "a=5, b=23: vxe wttmje amnxer mg w vsne yt uyjywfnxwlevma gklg \n",
      "\n",
      "a=5, b=24: acj byyroj frscjw rl b axsj dy zdodbkscbqjarf lpql \n",
      "\n",
      "a=5, b=25: fho gddwto kwxhob wq g fcxo id eitigpxhgvofwk quvq \n",
      "\n",
      "a=7, b=0: wqv tccxgv hxuqvi xp t wfuv nc zngntsuqtavwxh pdap \n",
      "\n",
      "a=7, b=1: hbg ennirg sifbgt ia e hqfg yn kyryedfbelghis aola \n",
      "\n",
      "a=7, b=2: smr pyytcr dtqmre tl p sbqr jy vjcjpoqmpwrstd lzwl \n",
      "\n",
      "a=7, b=3: dxc ajjenc oebxcp ew a dmbc uj gunuazbxahcdeo wkhw \n",
      "\n",
      "a=7, b=4: oin luupyn zpmina ph l oxmn fu rfyflkmilsnopz hvsh \n",
      "\n",
      "a=7, b=5: zty wffajy kaxtyl as w zixy qf cqjqwvxtwdyzak sgds \n",
      "\n",
      "a=7, b=6: kej hqqluj vliejw ld h ktij bq nbubhgiehojklv drod \n",
      "\n",
      "a=7, b=7: vpu sbbwfu gwtpuh wo s vetu mb ymfmsrtpszuvwg oczo \n",
      "\n",
      "a=7, b=8: gaf dmmhqf rheafs hz d gpef xm jxqxdceadkfghr znkz \n",
      "\n",
      "a=7, b=9: rlq oxxsbq csplqd sk o rapq ix uibionplovqrsc kyvk \n",
      "\n",
      "a=7, b=10: cwb ziidmb ndawbo dv z clab ti ftmtzyawzgbcdn vjgv \n",
      "\n",
      "a=7, b=11: nhm kttoxm yolhmz og k nwlm et qexekjlhkrmnoy gurg \n",
      "\n",
      "a=7, b=12: ysx veezix jzwsxk zr v yhwx pe bpipvuwsvcxyzj rfcr \n",
      "\n",
      "a=7, b=13: jdi gppkti ukhdiv kc g jshi ap matagfhdgnijku cqnc \n",
      "\n",
      "a=7, b=14: uot raavet fvsotg vn r udst la xlelrqsorytuvf nbyn \n",
      "\n",
      "a=7, b=15: fze cllgpe qgdzer gy c fode wl iwpwcbdzcjefgq ymjy \n",
      "\n",
      "a=7, b=16: qkp nwwrap brokpc rj n qzop hw thahnmoknupqrb jxuj \n",
      "\n",
      "a=7, b=17: bva yhhcla mczvan cu y bkza sh eslsyxzvyfabcm uifu \n",
      "\n",
      "a=7, b=18: mgl jssnwl xnkgly nf j mvkl ds pdwdjikgjqlmnx ftqf \n",
      "\n",
      "a=7, b=19: xrw uddyhw iyvrwj yq u xgvw od aohoutvrubwxyi qebq \n",
      "\n",
      "a=7, b=20: ich foojsh tjgchu jb f irgh zo lzszfegcfmhijt bpmb \n",
      "\n",
      "a=7, b=21: tns qzzuds eurnsf um q tcrs kz wkdkqprnqxstue maxm \n",
      "\n",
      "a=7, b=22: eyd bkkfod pfcydq fx b encd vk hvovbacybidefp xlix \n",
      "\n",
      "a=7, b=23: pjo mvvqzo aqnjob qi m pyno gv sgzgmlnjmtopqa iwti \n",
      "\n",
      "a=7, b=24: auz xggbkz lbyuzm bt x ajyz rg drkrxwyuxezabl thet \n",
      "\n",
      "a=7, b=25: lfk irrmvk wmjfkx me i lujk cr ocvcihjfipklmw espe \n",
      "\n",
      "a=9, b=0: uyz jqqpwz rpeyzm pd j ubez nq fnwnjoeyjazupr dlad \n",
      "\n",
      "a=9, b=1: rvw gnnmtw ombvwj ma g rybw kn cktkglbvgxwrmo aixa \n",
      "\n",
      "a=9, b=2: ost dkkjqt ljystg jx d ovyt hk zhqhdiysdutojl xfux \n",
      "\n",
      "a=9, b=3: lpq ahhgnq igvpqd gu a lsvq eh weneafvparqlgi ucru \n",
      "\n",
      "a=9, b=4: imn xeedkn fdsmna dr x ipsn be tbkbxcsmxonidf rzor \n",
      "\n",
      "a=9, b=5: fjk ubbahk capjkx ao u fmpk yb qyhyuzpjulkfac owlo \n",
      "\n",
      "a=9, b=6: cgh ryyxeh zxmghu xl r cjmh vy nvevrwmgrihcxz ltil \n",
      "\n",
      "a=9, b=7: zde ovvube wujder ui o zgje sv ksbsotjdofezuw iqfi \n",
      "\n",
      "a=9, b=8: wab lssryb trgabo rf l wdgb ps hpyplqgalcbwrt fncf \n",
      "\n",
      "a=9, b=9: txy ippovy qodxyl oc i tady mp emvmindxizytoq ckzc \n",
      "\n",
      "a=9, b=10: quv fmmlsv nlauvi lz f qxav jm bjsjfkaufwvqln zhwz \n",
      "\n",
      "a=9, b=11: nrs cjjips kixrsf iw c nuxs gj ygpgchxrctsnik wetw \n",
      "\n",
      "a=9, b=12: kop zggfmp hfuopc ft z krup dg vdmdzeuozqpkfh tbqt \n",
      "\n",
      "a=9, b=13: hlm wddcjm ecrlmz cq w horm ad sajawbrlwnmhce qynq \n",
      "\n",
      "a=9, b=14: eij taazgj bzoijw zn t eloj xa pxgxtyoitkjezb nvkn \n",
      "\n",
      "a=9, b=15: bfg qxxwdg ywlfgt wk q bilg ux muduqvlfqhgbwy kshk \n",
      "\n",
      "a=9, b=16: ycd nuutad vticdq th n yfid ru jrarnsicnedytv hpeh \n",
      "\n",
      "a=9, b=17: vza krrqxa sqfzan qe k vcfa or goxokpfzkbavqs embe \n",
      "\n",
      "a=9, b=18: swx hoonux pncwxk nb h szcx lo dlulhmcwhyxsnp bjyb \n",
      "\n",
      "a=9, b=19: ptu ellkru mkztuh ky e pwzu il airiejztevupkm ygvy \n",
      "\n",
      "a=9, b=20: mqr biihor jhwqre hv b mtwr fi xfofbgwqbsrmhj vdsv \n",
      "\n",
      "a=9, b=21: jno yffelo getnob es y jqto cf uclcydtnypojeg saps \n",
      "\n",
      "a=9, b=22: gkl vccbil dbqkly bp v gnql zc rzizvaqkvmlgbd pxmp \n",
      "\n",
      "a=9, b=23: dhi szzyfi aynhiv ym s dkni wz owfwsxnhsjidya mujm \n",
      "\n",
      "a=9, b=24: aef pwwvcf xvkefs vj p ahkf tw ltctpukepgfavx jrgj \n",
      "\n",
      "a=9, b=25: xbc mttszc ushbcp sg m xehc qt iqzqmrhbmdcxsu godg \n",
      "\n",
      "a=11, b=0: owl fggrsl vriwly rt f opil ng xnsnfciwfalorv tjat \n",
      "\n",
      "a=11, b=1: vds mnnyzs cypdsf ya m vwps un euzumjpdmhsvyc aqha \n",
      "\n",
      "a=11, b=2: ckz tuufgz jfwkzm fh t cdwz bu lbgbtqwktozcfj hxoh \n",
      "\n",
      "a=11, b=3: jrg abbmng qmdrgt mo a jkdg ib siniaxdravgjmq oevo \n",
      "\n",
      "a=11, b=4: qyn hiitun xtkyna tv h qrkn pi zpuphekyhcnqtx vlcv \n",
      "\n",
      "a=11, b=5: xfu oppabu earfuh ac o xyru wp gwbwolrfojuxae csjc \n",
      "\n",
      "a=11, b=6: emb vwwhib lhymbo hj v efyb dw ndidvsymvqbehl jzqj \n",
      "\n",
      "a=11, b=7: lti cddopi softiv oq c lmfi kd ukpkczftcxilos qgxq \n",
      "\n",
      "a=11, b=8: sap jkkvwp zvmapc vx j stmp rk brwrjgmajepsvz xnex \n",
      "\n",
      "a=11, b=9: zhw qrrcdw gcthwj ce q zatw yr iydyqnthqlwzcg eule \n",
      "\n",
      "a=11, b=10: god xyyjkd njaodq jl x ghad fy pfkfxuaoxsdgjn lbsl \n",
      "\n",
      "a=11, b=11: nvk effqrk uqhvkx qs e nohk mf wmrmebhvezknqu sizs \n",
      "\n",
      "a=11, b=12: ucr lmmxyr bxocre xz l uvor tm dtytlioclgruxb zpgz \n",
      "\n",
      "a=11, b=13: bjy sttefy ievjyl eg s bcvy at kafaspvjsnybei gwng \n",
      "\n",
      "a=11, b=14: iqf zaalmf plcqfs ln z ijcf ha rhmhzwcqzufilp ndun \n",
      "\n",
      "a=11, b=15: pxm ghhstm wsjxmz su g pqjm oh yotogdjxgbmpsw ukbu \n",
      "\n",
      "a=11, b=16: wet noozat dzqetg zb n wxqt vo fvavnkqenitwzd brib \n",
      "\n",
      "a=11, b=17: dla uvvgha kgxlan gi u dexa cv mchcurxlupadgk iypi \n",
      "\n",
      "a=11, b=18: ksh bccnoh rneshu np b kleh jc tjojbyesbwhknr pfwp \n",
      "\n",
      "a=11, b=19: rzo ijjuvo yulzob uw i rslo qj aqvqiflzidoruy wmdw \n",
      "\n",
      "a=11, b=20: ygv pqqbcv fbsgvi bd p yzsv xq hxcxpmsgpkvybf dtkd \n",
      "\n",
      "a=11, b=21: fnc wxxijc mizncp ik w fgzc ex oejewtznwrcfim kark \n",
      "\n",
      "a=11, b=22: muj deepqj tpgujw pr d mngj le vlqldagudyjmpt rhyr \n",
      "\n",
      "a=11, b=23: tbq kllwxq awnbqd wy k tunq sl csxskhnbkfqtwa yofy \n",
      "\n",
      "a=11, b=24: aix rssdex hduixk df r abux zs jzezrouirmxadh fvmf \n",
      "\n",
      "a=11, b=25: hpe yzzkle okbper km y hibe gz qglgyvbpytehko mctm \n",
      "\n",
      "a=15, b=0: mep vuujip fjsepc jh v mlsp nu dninvysevapmjf hrah \n",
      "\n",
      "a=15, b=1: fxi onncbi yclxiv ca o feli gn wgbgorlxotifcy akta \n",
      "\n",
      "a=15, b=2: yqb hggvub rveqbo vt h yxeb zg pzuzhkeqhmbyvr tdmt \n",
      "\n",
      "a=15, b=3: rju azzonu koxjuh om a rqxu sz isnsadxjafurok mwfm \n",
      "\n",
      "a=15, b=4: kcn tsshgn dhqcna hf t kjqn ls blgltwqctynkhd fpyf \n",
      "\n",
      "a=15, b=5: dvg mllazg wajvgt ay m dcjg el uezempjvmrgdaw yiry \n",
      "\n",
      "a=15, b=6: woz feetsz ptcozm tr f wvcz xe nxsxficofkzwtp rbkr \n",
      "\n",
      "a=15, b=7: phs yxxmls imvhsf mk y povs qx gqlqybvhydspmi kudk \n",
      "\n",
      "a=15, b=8: ial rqqfel bfoaly fd r ihol jq zjejruoarwlifb dnwd \n",
      "\n",
      "a=15, b=9: bte kjjyxe uyhter yw k bahe cj scxcknhtkpebyu wgpw \n",
      "\n",
      "a=15, b=10: umx dccrqx nramxk rp d utax vc lvqvdgamdixurn pzip \n",
      "\n",
      "a=15, b=11: nfq wvvkjq gktfqd ki w nmtq ov eojowztfwbqnkg isbi \n",
      "\n",
      "a=15, b=12: gyj poodcj zdmyjw db p gfmj ho xhchpsmypujgdz blub \n",
      "\n",
      "a=15, b=13: zrc ihhwvc swfrcp wu i zyfc ah qavailfrinczws uenu \n",
      "\n",
      "a=15, b=14: skv baapov lpykvi pn b sryv ta jtotbeykbgvspl nxgn \n",
      "\n",
      "a=15, b=15: ldo uttiho eirdob ig u lkro mt cmhmuxrduzolie gqzg \n",
      "\n",
      "a=15, b=16: ewh nmmbah xbkwhu bz n edkh fm vfafnqkwnshebx zjsz \n",
      "\n",
      "a=15, b=17: xpa gffuta qudpan us g xwda yf oytygjdpglaxuq scls \n",
      "\n",
      "a=15, b=18: qit zyynmt jnwitg nl z qpwt ry hrmrzcwizetqnj lvel \n",
      "\n",
      "a=15, b=19: jbm srrgfm cgpbmz ge s jipm kr akfksvpbsxmjgc eoxe \n",
      "\n",
      "a=15, b=20: cuf lkkzyf vziufs zx l cbif dk tdydloiulqfczv xhqx \n",
      "\n",
      "a=15, b=21: vny eddsry osbnyl sq e vuby wd mwrwehbnejyvso qajq \n",
      "\n",
      "a=15, b=22: ogr xwwlkr hlugre lj x onur pw fpkpxaugxcrolh jtcj \n",
      "\n",
      "a=15, b=23: hzk qppedk aenzkx ec q hgnk ip yidiqtnzqvkhea cmvc \n",
      "\n",
      "a=15, b=24: asd jiixwd txgsdq xv j azgd bi rbwbjmgsjodaxt vfov \n",
      "\n",
      "a=15, b=25: tlw cbbqpw mqzlwj qo c tszw ub kupucfzlchwtqm oyho \n",
      "\n",
      "a=17, b=0: gcb rkkleb jlwcbo lx r gzwb nk vnenrmwcrabglj xpax \n",
      "\n",
      "a=17, b=1: jfe unnohe mozfer oa u jcze qn yqhqupzfudejom asda \n",
      "\n",
      "a=17, b=2: mih xqqrkh prcihu rd x mfch tq btktxscixghmrp dvgd \n",
      "\n",
      "a=17, b=3: plk attunk suflkx ug a pifk wt ewnwavflajkpus gyjg \n",
      "\n",
      "a=17, b=4: son dwwxqn vxiona xj d slin zw hzqzdyiodmnsxv jbmj \n",
      "\n",
      "a=17, b=5: vrq gzzatq yalrqd am g volq cz kctcgblrgpqvay mepm \n",
      "\n",
      "a=17, b=6: yut jccdwt bdoutg dp j yrot fc nfwfjeoujstydb phsp \n",
      "\n",
      "a=17, b=7: bxw mffgzw egrxwj gs m burw if qizimhrxmvwbge skvs \n",
      "\n",
      "a=17, b=8: eaz piijcz hjuazm jv p exuz li tlclpkuapyzejh vnyv \n",
      "\n",
      "a=17, b=9: hdc sllmfc kmxdcp my s haxc ol wofosnxdsbchmk yqby \n",
      "\n",
      "a=17, b=10: kgf voopif npagfs pb v kdaf ro zrirvqagvefkpn bteb \n",
      "\n",
      "a=17, b=11: nji yrrsli qsdjiv se y ngdi ur culuytdjyhinsq ewhe \n",
      "\n",
      "a=17, b=12: qml buuvol tvgmly vh b qjgl xu fxoxbwgmbklqvt hzkh \n",
      "\n",
      "a=17, b=13: tpo exxyro wyjpob yk e tmjo ax iaraezjpenotyw kcnk \n",
      "\n",
      "a=17, b=14: wsr haabur zbmsre bn h wpmr da ldudhcmshqrwbz nfqn \n",
      "\n",
      "a=17, b=15: zvu kddexu cepvuh eq k zspu gd ogxgkfpvktuzec qitq \n",
      "\n",
      "a=17, b=16: cyx ngghax fhsyxk ht n cvsx jg rjajnisynwxchf tlwt \n",
      "\n",
      "a=17, b=17: fba qjjkda ikvban kw q fyva mj umdmqlvbqzafki wozw \n",
      "\n",
      "a=17, b=18: ied tmmngd lnyedq nz t ibyd pm xpgptoyetcdinl zrcz \n",
      "\n",
      "a=17, b=19: lhg wppqjg oqbhgt qc w lebg sp asjswrbhwfglqo cufc \n",
      "\n",
      "a=17, b=20: okj zsstmj rtekjw tf z ohej vs dvmvzuekzijotr fxif \n",
      "\n",
      "a=17, b=21: rnm cvvwpm uwhnmz wi c rkhm yv gypycxhnclmrwu iali \n",
      "\n",
      "a=17, b=22: uqp fyyzsp xzkqpc zl f unkp by jbsbfakqfopuzx ldol \n",
      "\n",
      "a=17, b=23: xts ibbcvs acntsf co i xqns eb meveidntirsxca ogro \n",
      "\n",
      "a=17, b=24: awv leefyv dfqwvi fr l atqv he phyhlgqwluvafd rjur \n",
      "\n",
      "a=17, b=25: dzy ohhiby gitzyl iu o dwty kh skbkojtzoxydig umxu \n",
      "\n",
      "a=19, b=0: ekf hyyduf tdgkfs dl h evgf ny bnunhigkhafedt lxal \n",
      "\n",
      "a=19, b=1: tzu wnnsju isvzuh sa w tkvu cn qcjcwxvzwputsi ampa \n",
      "\n",
      "a=19, b=2: ioj lcchyj xhkojw hp l izkj rc fryrlmkolejihx pbep \n",
      "\n",
      "a=19, b=3: xdy arrwny mwzdyl we a xozy gr ugngabzdatyxwm eqte \n",
      "\n",
      "a=19, b=4: msn pgglcn blosna lt p mdon vg jvcvpqospinmlb tfit \n",
      "\n",
      "a=19, b=5: bhc evvarc qadhcp ai e bsdc kv ykrkefdhexcbaq iuxi \n",
      "\n",
      "a=19, b=6: qwr tkkpgr fpswre px t qhsr zk nzgztuswtmrqpf xjmx \n",
      "\n",
      "a=19, b=7: flg izzevg uehlgt em i fwhg oz covoijhlibgfeu mybm \n",
      "\n",
      "a=19, b=8: uav xootkv jtwavi tb x ulwv do rdkdxywaxqvutj bnqb \n",
      "\n",
      "a=19, b=9: jpk mddizk yilpkx iq m jalk sd gszsmnlpmfkjiy qcfq \n",
      "\n",
      "a=19, b=10: yez bssxoz nxaezm xf b ypaz hs vhohbcaebuzyxn fruf \n",
      "\n",
      "a=19, b=11: nto qhhmdo cmptob mu q nepo wh kwdwqrptqjonmc ugju \n",
      "\n",
      "a=19, b=12: cid fwwbsd rbeidq bj f cted lw zlslfgeifydcbr jvyj \n",
      "\n",
      "a=19, b=13: rxs ullqhs gqtxsf qy u rits al oahauvtxunsrqg ykny \n",
      "\n",
      "a=19, b=14: gmh jaafwh vfimhu fn j gxih pa dpwpjkimjchgfv nzcn \n",
      "\n",
      "a=19, b=15: vbw yppulw kuxbwj uc y vmxw ep seleyzxbyrwvuk corc \n",
      "\n",
      "a=19, b=16: kql neejal zjmqly jr n kbml te htatnomqnglkjz rdgr \n",
      "\n",
      "a=19, b=17: zfa cttypa oybfan yg c zqba it wipicdbfcvazyo gsvg \n",
      "\n",
      "a=19, b=18: oup riinep dnqupc nv r ofqp xi lxexrsqurkpond vhkv \n",
      "\n",
      "a=19, b=19: dje gxxcte scfjer ck g dufe mx amtmghfjgzedcs kwzk \n",
      "\n",
      "a=19, b=20: syt vmmrit hruytg rz v sjut bm pbibvwuyvotsrh zloz \n",
      "\n",
      "a=19, b=21: hni kbbgxi wgjniv go k hyji qb eqxqkljnkdihgw oado \n",
      "\n",
      "a=19, b=22: wcx zqqvmx lvycxk vd z wnyx fq tfmfzayczsxwvl dpsd \n",
      "\n",
      "a=19, b=23: lrm offkbm aknrmz ks o lcnm uf iubuopnrohmlka sehs \n",
      "\n",
      "a=19, b=24: agb duuzqb pzcgbo zh d arcb ju xjqjdecgdwbazp htwh \n",
      "\n",
      "a=19, b=25: pvq sjjofq eorvqd ow s pgrq yj myfystrvslqpoe wilw \n",
      "\n",
      "a=21, b=0: qoh psszch lzyohu zf p qtyh ns rncnpgyopahqzl fbaf \n",
      "\n",
      "a=21, b=1: ljc knnuxc gutjcp ua k lotc in mixikbtjkvclug awva \n",
      "\n",
      "a=21, b=2: gex fiipsx bpoexk pv f gjox di hdsdfwoefqxgpb vrqv \n",
      "\n",
      "a=21, b=3: bzs addkns wkjzsf kq a bejs yd cynyarjzalsbkw qmlq \n",
      "\n",
      "a=21, b=4: wun vyyfin rfeuna fl v wzen ty xtitvmeuvgnwfr lhgl \n",
      "\n",
      "a=21, b=5: rpi qttadi mazpiv ag q ruzi ot sodoqhzpqbiram gcbg \n",
      "\n",
      "a=21, b=6: mkd loovyd hvukdq vb l mpud jo njyjlcuklwdmvh bxwb \n",
      "\n",
      "a=21, b=7: hfy gjjqty cqpfyl qw g hkpy ej ietegxpfgryhqc wsrw \n",
      "\n",
      "a=21, b=8: cat beelot xlkatg lr b cfkt ze dzozbskabmtclx rnmr \n",
      "\n",
      "a=21, b=9: xvo wzzgjo sgfvob gm w xafo uz yujuwnfvwhoxgs mihm \n",
      "\n",
      "a=21, b=10: sqj ruubej nbaqjw bh r svaj pu tpepriaqrcjsbn hdch \n",
      "\n",
      "a=21, b=11: nle mppwze iwvler wc m nqve kp okzkmdvlmxenwi cyxc \n",
      "\n",
      "a=21, b=12: igz hkkruz drqgzm rx h ilqz fk jfufhyqghszird xtsx \n",
      "\n",
      "a=21, b=13: dbu cffmpu ymlbuh ms c dglu af eapactlbcnudmy sons \n",
      "\n",
      "a=21, b=14: ywp xaahkp thgwpc hn x ybgp va zvkvxogwxipyht njin \n",
      "\n",
      "a=21, b=15: trk svvcfk ocbrkx ci s twbk qv uqfqsjbrsdktco iedi \n",
      "\n",
      "a=21, b=16: omf nqqxaf jxwmfs xd n orwf lq plalnewmnyfoxj dzyd \n",
      "\n",
      "a=21, b=17: jha illsva esrhan sy i jmra gl kgvgizrhitajse yuty \n",
      "\n",
      "a=21, b=18: ecv dggnqv znmcvi nt d ehmv bg fbqbdumcdovenz tpot \n",
      "\n",
      "a=21, b=19: zxq ybbilq uihxqd io y zchq wb awlwyphxyjqziu okjo \n",
      "\n",
      "a=21, b=20: usl twwdgl pdcsly dj t uxcl rw vrgrtkcsteludp jfej \n",
      "\n",
      "a=21, b=21: png orrybg kyxngt ye o psxg mr qmbmofxnozgpyk eaze \n",
      "\n",
      "a=21, b=22: kib jmmtwb ftsibo tz j knsb hm lhwhjasijubktf zvuz \n",
      "\n",
      "a=21, b=23: fdw ehhorw aondwj ou e finw ch gcrcevndepwfoa uqpu \n",
      "\n",
      "a=21, b=24: ayr zccjmr vjiyre jp z adir xc bxmxzqiyzkrajv plkp \n",
      "\n",
      "a=21, b=25: vtm uxxehm qedtmz ek u vydm sx wshsuldtufmveq kgfk \n",
      "\n",
      "a=23, b=0: sgd zeehmd bhogdq hr z sxod ne lnmnzkogzadshb rtar \n",
      "\n",
      "a=23, b=1: bpm innqvm kqxpmz qa i bgxm wn uwvwitxpijmbqk acja \n",
      "\n",
      "a=23, b=2: kyv rwwzev tzgyvi zj r kpgv fw dfefrcgyrsvkzt jlsj \n",
      "\n",
      "a=23, b=3: the affine cipher is a type of monoalphabetic subs \n",
      "\n",
      "a=23, b=4: cqn joorwn lryqna rb j chyn xo vxwxjuyqjkncrl bdkb \n",
      "\n",
      "a=23, b=5: lzw sxxafw uahzwj ak s lqhw gx egfgsdhzstwlau kmtk \n",
      "\n",
      "a=23, b=6: uif bggjof djqifs jt b uzqf pg npopbmqibcfujd tvct \n",
      "\n",
      "a=23, b=7: dro kppsxo mszrob sc k dizo yp wyxykvzrklodsm celc \n",
      "\n",
      "a=23, b=8: max tyybgx vbiaxk bl t mrix hy fhghteiatuxmbv lnul \n",
      "\n",
      "a=23, b=9: vjg chhkpg ekrjgt ku c varg qh oqpqcnrjcdgvke uwdu \n",
      "\n",
      "a=23, b=10: esp lqqtyp ntaspc td l ejap zq xzyzlwaslmpetn dfmd \n",
      "\n",
      "a=23, b=11: nby uzzchy wcjbyl cm u nsjy iz gihiufjbuvyncw movm \n",
      "\n",
      "a=23, b=12: wkh diilqh flskhu lv d wbsh ri prqrdoskdehwlf vxev \n",
      "\n",
      "a=23, b=13: ftq mrruzq oubtqd ue m fkbq ar yazamxbtmnqfuo egne \n",
      "\n",
      "a=23, b=14: ocz vaadiz xdkczm dn v otkz ja hjijvgkcvwzodx npwn \n",
      "\n",
      "a=23, b=15: xli ejjmri gmtliv mw e xcti sj qsrseptlefixmg wyfw \n",
      "\n",
      "a=23, b=16: gur nssvar pvcure vf n glcr bs zbabnycunorgvp fhof \n",
      "\n",
      "a=23, b=17: pda wbbeja yeldan eo w pula kb ikjkwhldwxapey oqxo \n",
      "\n",
      "a=23, b=18: ymj fkknsj hnumjw nx f yduj tk rtstfqumfgjynh xzgx \n",
      "\n",
      "a=23, b=19: hvs ottwbs qwdvsf wg o hmds ct acbcozdvopshwq gipg \n",
      "\n",
      "a=23, b=20: qeb xccfkb zfmebo fp x qvmb lc jlklximexybqfz pryp \n",
      "\n",
      "a=23, b=21: znk gllotk iovnkx oy g zevk ul sutugrvnghkzoi yahy \n",
      "\n",
      "a=23, b=22: iwt puuxct rxewtg xh p inet du bdcdpaewpqtixr hjqh \n",
      "\n",
      "a=23, b=23: rfc yddglc agnfcp gq y rwnc md kmlmyjnfyzcrga qszq \n",
      "\n",
      "a=23, b=24: aol hmmpul jpwoly pz h afwl vm tvuvhswohilapj zbiz \n",
      "\n",
      "a=23, b=25: jxu qvvydu syfxuh yi q jofu ev cedeqbfxqrujys ikri \n",
      "\n",
      "a=25, b=0: csj xmmvkj dvqsjw vz x crqj nm hnknxeqsxajcvd zfaz \n",
      "\n",
      "a=25, b=1: dtk ynnwlk ewrtkx wa y dsrk on ioloyfrtybkdwe agba \n",
      "\n",
      "a=25, b=2: eul zooxml fxsuly xb z etsl po jpmpzgsuzclexf bhcb \n",
      "\n",
      "a=25, b=3: fvm appynm gytvmz yc a futm qp kqnqahtvadmfyg cidc \n",
      "\n",
      "a=25, b=4: gwn bqqzon hzuwna zd b gvun rq lrorbiuwbengzh djed \n",
      "\n",
      "a=25, b=5: hxo crrapo iavxob ae c hwvo sr mspscjvxcfohai ekfe \n",
      "\n",
      "a=25, b=6: iyp dssbqp jbwypc bf d ixwp ts ntqtdkwydgpibj flgf \n",
      "\n",
      "a=25, b=7: jzq ettcrq kcxzqd cg e jyxq ut ouruelxzehqjck gmhg \n",
      "\n",
      "a=25, b=8: kar fuudsr ldyare dh f kzyr vu pvsvfmyafirkdl hnih \n",
      "\n",
      "a=25, b=9: lbs gvvets mezbsf ei g lazs wv qwtwgnzbgjslem ioji \n",
      "\n",
      "a=25, b=10: mct hwwfut nfactg fj h mbat xw rxuxhoachktmfn jpkj \n",
      "\n",
      "a=25, b=11: ndu ixxgvu ogbduh gk i ncbu yx syvyipbdilungo kqlk \n",
      "\n",
      "a=25, b=12: oev jyyhwv phcevi hl j odcv zy tzwzjqcejmvohp lrml \n",
      "\n",
      "a=25, b=13: pfw kzzixw qidfwj im k pedw az uaxakrdfknwpiq msnm \n",
      "\n",
      "a=25, b=14: qgx laajyx rjegxk jn l qfex ba vbyblsegloxqjr nton \n",
      "\n",
      "a=25, b=15: rhy mbbkzy skfhyl ko m rgfy cb wczcmtfhmpyrks oupo \n",
      "\n",
      "a=25, b=16: siz ncclaz tlgizm lp n shgz dc xdadnuginqzslt pvqp \n",
      "\n",
      "a=25, b=17: tja oddmba umhjan mq o tiha ed yebeovhjoratmu qwrq \n",
      "\n",
      "a=25, b=18: ukb peencb vnikbo nr p ujib fe zfcfpwikpsbunv rxsr \n",
      "\n",
      "a=25, b=19: vlc qffodc wojlcp os q vkjc gf agdgqxjlqtcvow syts \n",
      "\n",
      "a=25, b=20: wmd rggped xpkmdq pt r wlkd hg bhehrykmrudwpx tzut \n",
      "\n",
      "a=25, b=21: xne shhqfe yqlner qu s xmle ih cifiszlnsvexqy uavu \n",
      "\n",
      "a=25, b=22: yof tiirgf zrmofs rv t ynmf ji djgjtamotwfyrz vbwv \n",
      "\n",
      "a=25, b=23: zpg ujjshg asnpgt sw u zong kj ekhkubnpuxgzsa wcxw \n",
      "\n",
      "a=25, b=24: aqh vkktih btoqhu tx v apoh lk flilvcoqvyhatb xdyx \n",
      "\n",
      "a=25, b=25: bri wlluji cupriv uy w bqpi ml gmjmwdprwzibuc yezy \n",
      "\n"
     ]
    }
   ],
   "source": [
    "for a in range(26):\n",
    "    for b in range(26):\n",
    "        plaintext = affine_decrypt(ciphertext, a, b)\n",
    "        if 'Error: a is not invertible' not in plaintext:\n",
    "            print(f'a={a}, b={b}: {plaintext[:50]} \\n')    "
   ]
  },
  {
   "cell_type": "code",
   "execution_count": 53,
   "id": "9d40e9e2",
   "metadata": {},
   "outputs": [
    {
     "name": "stdout",
     "output_type": "stream",
     "text": [
      "Correct a and b values are a=23, b=3.\n",
      "Decrypted text is:\n",
      " the affine cipher is a type of monoalphabetic substitution cipher, where each letter in an alphabet is mapped to its numeric equivalent, encrypted using a simple mathematical function, and converted back to a letter. the formula used means that each letter encrypts to one other letter, and back again, meaning the cipher is essentially a standard substitution cipher with a rule governing which letter goes to which. as such, it has the weaknesses of all substitution ciphers. each letter is enciphered with the function (ax + b) mod 26, where b is the magnitude of the shift.\n",
      "\n",
      "\n",
      "== description ==\n",
      "here, the letters of an alphabet of size m are first mapped to the integers in the range 0 ... m  1. it then uses modular arithmetic to transform the integer that each plaintext letter corresponds to into another integer that correspond to a ciphertext letter.\n",
      "the encryption function for a single letter is \n",
      "\n",
      "  \n",
      "    \n",
      "      \n",
      "        e\n",
      "        (\n",
      "        x\n",
      "        )\n",
      "        =\n",
      "        (\n",
      "        a\n",
      "        x\n",
      "        +\n",
      "        b\n",
      "        )\n",
      "        \n",
      "          mod\n",
      "          \n",
      "            m\n",
      "          \n",
      "        \n",
      "      \n",
      "    \n",
      "    {\\displaystyle e(x)=(ax+b){\\bmod {m}}}\n",
      "  \n",
      "\n",
      "where modulus m is the size of the alphabet and a and b are the keys of the cipher. the value a must be chosen such that a and m are coprime. the decryption function is \n",
      "\n",
      "  \n",
      "    \n",
      "      \n",
      "        d\n",
      "        (\n",
      "        x\n",
      "        )\n",
      "        =\n",
      "        \n",
      "          a\n",
      "          \n",
      "            \n",
      "            1\n",
      "          \n",
      "        \n",
      "        (\n",
      "        x\n",
      "        \n",
      "        b\n",
      "        )\n",
      "        \n",
      "          mod\n",
      "          \n",
      "            m\n",
      "          \n",
      "        \n",
      "      \n",
      "    \n",
      "    {\\displaystyle d(x)=a^{-1}(x-b){\\bmod {m}}}\n",
      "  \n",
      "\n",
      "where a1 is the modular multiplicative inverse of a modulo m. i.e., it satisfies the equation \n",
      "\n",
      "  \n",
      "    \n",
      "      \n",
      "        1\n",
      "        =\n",
      "        a\n",
      "        \n",
      "          a\n",
      "          \n",
      "            \n",
      "            1\n",
      "          \n",
      "        \n",
      "        \n",
      "          mod\n",
      "          \n",
      "            m\n",
      "          \n",
      "        \n",
      "      \n",
      "    \n",
      "    {\\displaystyle 1=aa^{-1}{\\bmod {m}}}\n",
      "  \n",
      "\n",
      "the multiplicative inverse of a only exists if a and m are coprime. hence without the restriction on a, decryption might not be possible.\n",
      "it can be shown as follows that decryption function is the inverse of the encryption function,\n",
      "\n",
      "  \n",
      "    \n",
      "      \n",
      "        \n",
      "          \n",
      "            \n",
      "              \n",
      "                d\n",
      "                (\n",
      "                e\n",
      "                (\n",
      "                x\n",
      "                )\n",
      "                )\n",
      "              \n",
      "              \n",
      "                \n",
      "                =\n",
      "                \n",
      "                  a\n",
      "                  \n",
      "                    \n",
      "                    1\n",
      "                  \n",
      "                \n",
      "                (\n",
      "                e\n",
      "                (\n",
      "                x\n",
      "                )\n",
      "                \n",
      "                b\n",
      "                )\n",
      "                \n",
      "                  mod\n",
      "                  \n",
      "                    m\n",
      "                  \n",
      "                \n",
      "              \n",
      "            \n",
      "            \n",
      "              \n",
      "              \n",
      "                \n",
      "                =\n",
      "                \n",
      "                  a\n",
      "                  \n",
      "                    \n",
      "                    1\n",
      "                  \n",
      "                \n",
      "                (\n",
      "                (\n",
      "                (\n",
      "                a\n",
      "                x\n",
      "                +\n",
      "                b\n",
      "                )\n",
      "                \n",
      "                  mod\n",
      "                  \n",
      "                    m\n",
      "                  \n",
      "                \n",
      "                )\n",
      "                \n",
      "                b\n",
      "                )\n",
      "                \n",
      "                  mod\n",
      "                  \n",
      "                    m\n",
      "                  \n",
      "                \n",
      "              \n",
      "            \n",
      "            \n",
      "              \n",
      "              \n",
      "                \n",
      "                =\n",
      "                \n",
      "                  a\n",
      "                  \n",
      "                    \n",
      "                    1\n",
      "                  \n",
      "                \n",
      "                (\n",
      "                a\n",
      "                x\n",
      "                +\n",
      "                b\n",
      "                \n",
      "                b\n",
      "                )\n",
      "                \n",
      "                  mod\n",
      "                  \n",
      "                    m\n",
      "                  \n",
      "                \n",
      "              \n",
      "            \n",
      "            \n",
      "              \n",
      "              \n",
      "                \n",
      "                =\n",
      "                \n",
      "                  a\n",
      "                  \n",
      "                    \n",
      "                    1\n",
      "                  \n",
      "                \n",
      "                a\n",
      "                x\n",
      "                \n",
      "                  mod\n",
      "                  \n",
      "                    m\n",
      "                  \n",
      "                \n",
      "              \n",
      "            \n",
      "            \n",
      "              \n",
      "              \n",
      "                \n",
      "                =\n",
      "                x\n",
      "                \n",
      "                  mod\n",
      "                  \n",
      "                    m\n",
      "                  \n",
      "                \n",
      "              \n",
      "            \n",
      "          \n",
      "        \n",
      "      \n",
      "    \n",
      "    {\\displaystyle {\\begin{aligned}d(e(x))&=a^{-1}(e(x)-b){\\bmod {m}}\\\\&=a^{-1}(((ax+b){\\bmod {m}})-b){\\bmod {m}}\\\\&=a^{-1}(ax+b-b){\\bmod {m}}\\\\&=a^{-1}ax{\\bmod {m}}\\\\&=x{\\bmod {m}}\\end{aligned}}}\n",
      "  \n",
      "\n",
      "\n",
      "== weaknesses ==\n",
      "since the affine cipher is still a monoalphabetic substitution cipher, it inherits the weaknesses of that class of ciphers. the caesar cipher is an affine cipher with a = 1 since the encrypting function simply reduces to a linear shift. the atbash cipher uses a = 1.\n",
      "considering the specific case of encrypting messages in english (i.e. m = 26), there are a total of 286 non-trivial affine ciphers, not counting the 26 trivial caesar ciphers. this number comes from the fact there are 12 numbers that are coprime with 26 that are less than 26 (these are the possible values of a). each value of a can have 26 different addition shifts (the b value); therefore, there are 12  26 or 312 possible keys. this lack of variety renders the system as highly insecure when considered in light of kerckhoffs' principle.\n",
      "the cipher's primary weakness comes from the fact that if the cryptanalyst can discover (by means of frequency analysis, brute force, guessing or otherwise) the plaintext of two ciphertext characters then the key can be obtained by solving a simultaneous equation. since we know a and m are relatively prime this can be used to rapidly discard many \"false\" keys in an automated system.\n",
      "the same type of transformation used in affine ciphers is used in linear congruential generators, a type of pseudorandom number generator. this generator is not a cryptographically secure pseudorandom number generator for the same reason that the affine cipher is not secure.\n",
      "\n",
      "\n",
      "== example ==\n",
      "in this example showing encryption and decryption, the alphabet is going to be the letters a through z, and will have the corresponding values found in the following table.\n",
      "\n",
      "\n",
      "=== encryption ===\n",
      "in this encrypting example, the plaintext to be encrypted is \"affine cipher\" using the table mentioned above for the numeric values of each letter, taking a to be 5, b to be 8, and m to be 26 since there are 26 characters in the alphabet being used. only the value of a has a restriction since it has to be coprime with 26. the possible values that a could be are 1, 3, 5, 7, 9, 11, 15, 17, 19, 21, 23, and 25. the value for b can be arbitrary as long as a does not equal 1 since this is the shift of the cipher. thus, the encryption function for this example will be y = e(x) = (5x + 8) mod 26. the first step in encrypting the message is to write the numeric values of each letter. \n",
      "\n",
      "now, take each value of x, and solve the first part of the equation, (5x + 8). after finding the value of (5x + 8) for each character, take the remainder when dividing the result of (5x + 8) by 26. the following table shows the first four steps of the encrypting process.\n",
      "\n",
      "the final step in encrypting the message is to look up each numeric value in the table for the corresponding letters. in this example, the encrypted text would be ihhwvcswfrcp. the table below shows the completed table for encrypting a message in the affine cipher.\n",
      "\n",
      "\n",
      "=== decryption ===\n",
      "in this decryption example, the ciphertext that will be decrypted is the ciphertext from the encryption example. the corresponding decryption function is d(y) = 21(y  b) mod 26, where a1 is calculated to be 21, and b is 8. to begin, write the numeric equivalents to each letter in the ciphertext, as shown in the table below.\n",
      "\n",
      "now, the next step is to compute 21(y  8), and then take the remainder when that result is divided by 26. the following table shows the results of both computations.\n",
      "\n",
      "the final step in decrypting the ciphertext is to use the table to convert numeric values back into letters. the plaintext in this decryption is affinecipher. below is the table with the final step completed.\n",
      "\n",
      "\n",
      "=== entire alphabet encoded ===\n",
      "to make encrypting and decrypting quicker, the entire alphabet can be encrypted to create a one-to-one map between the letters of the cleartext and the ciphertext. in this example, the one-to-one map would be the following:\n",
      "\n",
      "\n",
      "=== programming examples ===\n",
      "the following python code encrypts text with the affine cipher:\n",
      "\n",
      "\n",
      "== see also ==\n",
      "affine functions\n",
      "atbash code\n",
      "caesar cipher\n",
      "rot13\n",
      "topics in cryptography\n",
      "\n",
      "\n",
      "== references ==\n"
     ]
    }
   ],
   "source": [
    "print(f'Correct a and b values are a=23, b=3.\\nDecrypted text is:\\n {affine_decrypt(ciphertext, 23, 3)}')"
   ]
  },
  {
   "cell_type": "markdown",
   "id": "04ca2b25-4875-4c46-8c53-700a2cf9b658",
   "metadata": {},
   "source": [
    "## Conclusion"
   ]
  },
  {
   "cell_type": "markdown",
   "id": "a0b88e69-52b0-42d2-bcdd-8a53c94307e1",
   "metadata": {},
   "source": [
    "In this assignment we absorb methods in ciphers which are among the oldest and simplest encryption techniques in cryptography. The techniques in cipher were Ceasar Cipher, Simple Substitution Cipher, and Affine Cipher. in every method we analyzed their encryption and decryption. The Caesar Cipher is vulnerable to brute force due to its limited number of possible keys while the Simple Substitution Cipher is not vulnerable to brute force because of the vast number of possible key variations. Although the Simple Substitution Cipher is immune to brute force still by exploiting predictable letter distributions in English, it can be decrypted. the Affine Cipher illustrates more complex methods by mathematical transformations involving modular arithmetic, which this technique is more complex than the others. Nowadays these ciphers are weak by modern cryptographic standards, but these are the cause of starting modern cryptography. "
   ]
  },
  {
   "cell_type": "markdown",
   "id": "7a2438a9",
   "metadata": {},
   "source": [
    "## References"
   ]
  },
  {
   "cell_type": "markdown",
   "id": "7a76dbb9",
   "metadata": {},
   "source": [
    "1. Katz, J., & Lindell, Y. (2020). Introduction to modern cryptography (3rd ed.). CRC Press.\n",
    "\n",
    "2. Menezes, A. J., van Oorschot, P. C., & Vanstone, S. A. (1996). Handbook of applied cryptography. CRC Press.\n",
    "\n",
    "3. Singh, S. (1999). The code book: The science of secrecy from ancient Egypt to quantum cryptography. Anchor Books.\n",
    "\n",
    "4. Stallings, W. (2017). Cryptography and network security: Principles and practice (7th ed.). Pearson."
   ]
  },
  {
   "cell_type": "markdown",
   "id": "2248dc9a",
   "metadata": {},
   "source": [
    "J. Katz and Y. Lindell, Introduction to Modern Cryptography, 3rd ed. Boca Raton, FL, USA: CRC Press, 2020.\n",
    "\n",
    "A. J. Menezes, P. C. van Oorschot, and S. A. Vanstone, Handbook of Applied Cryptography. Boca Raton, FL, USA: CRC Press, 1996.\n",
    "\n",
    "S. Singh, The Code Book: The Science of Secrecy from Ancient Egypt to Quantum Cryptography. New York, NY, USA: Anchor Books, 1999.\n",
    "\n",
    "W. Stallings, Cryptography and Network Security: Principles and Practice, 7th ed. Boston, MA, USA: Pearson, 2017."
   ]
  },
  {
   "cell_type": "markdown",
   "id": "8163f07c",
   "metadata": {},
   "source": [
    "[1] J. Katz and Y. Lindell, *Introduction to Modern Cryptography*, 3rd ed. Boca Raton, FL, USA: CRC Press, 2020.  \n",
    "[2] A. J. Menezes, P. C. van Oorschot, and S. A. Vanstone, *Handbook of Applied Cryptography*. Boca Raton, FL, USA: CRC Press, 1996.  \n",
    "[3] S. Singh, *The Code Book: The Science of Secrecy from Ancient Egypt to Quantum Cryptography*. New York, NY, USA: Anchor Books, 1999.  \n",
    "[4] W. Stallings, *Cryptography and Network Security: Principles and Practice*, 7th ed. Boston, MA, USA: Pearson, 2017.\n"
   ]
  }
 ],
 "metadata": {
  "kernelspec": {
   "display_name": "cs411env",
   "language": "python",
   "name": "python3"
  },
  "language_info": {
   "codemirror_mode": {
    "name": "ipython",
    "version": 3
   },
   "file_extension": ".py",
   "mimetype": "text/x-python",
   "name": "python",
   "nbconvert_exporter": "python",
   "pygments_lexer": "ipython3",
   "version": "3.12.9"
  }
 },
 "nbformat": 4,
 "nbformat_minor": 5
}
