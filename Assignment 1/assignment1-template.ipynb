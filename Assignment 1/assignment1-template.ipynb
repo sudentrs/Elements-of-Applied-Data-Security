{
 "cells": [
  {
   "cell_type": "markdown",
   "id": "00172a96",
   "metadata": {},
   "source": [
    "# Substitution Ciphers"
   ]
  },
  {
   "cell_type": "code",
   "execution_count": null,
   "id": "082b70d2-197b-4c55-9092-4c1cb02a6298",
   "metadata": {},
   "outputs": [],
   "source": [
    "# import modules"
   ]
  },
  {
   "cell_type": "markdown",
   "id": "c20a9001-f4fd-401f-922b-db8347ff36fe",
   "metadata": {},
   "source": [
    "## Introduction"
   ]
  },
  {
   "cell_type": "markdown",
   "id": "88c571e3-d03d-4506-a411-67663dc6ff9f",
   "metadata": {},
   "source": [
    "Brief introduction to the assignment"
   ]
  },
  {
   "cell_type": "markdown",
   "id": "6a297866",
   "metadata": {},
   "source": [
    "## Caesar Cipher"
   ]
  },
  {
   "cell_type": "markdown",
   "id": "b53b1655",
   "metadata": {},
   "source": [
    "Brief description of Caesar Cipher"
   ]
  },
  {
   "cell_type": "markdown",
   "id": "b29aef0d-75ee-4da1-b058-09fea1bb9c0a",
   "metadata": {},
   "source": [
    "### Encryption"
   ]
  },
  {
   "cell_type": "code",
   "execution_count": null,
   "id": "43b53968-3fbb-4ac1-a373-6b29c4845f08",
   "metadata": {},
   "outputs": [],
   "source": [
    "def caesar_encrypt(plaintext, shift=0):\n",
    "    ''' Encrypt `plaintext` (str) as a caesar cipher with a given `shift` (int) \n",
    "    '''\n",
    "    # code here\n",
    "    return ciphertext"
   ]
  },
  {
   "cell_type": "code",
   "execution_count": null,
   "id": "9eb77216-0505-4a29-a8e8-458e273a91f4",
   "metadata": {},
   "outputs": [],
   "source": [
    "# code snippet to test the implementation of the encryption function\n",
    "plaintext = 'hello!' \n",
    "ciphertext = caesar_encrypt(plaintext, shift=4)\n",
    "\n",
    "print(plaintext, '->', ciphertext) # expected output 'hello! -> lipps!'"
   ]
  },
  {
   "cell_type": "markdown",
   "id": "d79da87f-6130-427e-9104-9619e3b7b5e4",
   "metadata": {},
   "source": [
    "### Decryption"
   ]
  },
  {
   "cell_type": "code",
   "execution_count": 1,
   "id": "a5b0d026",
   "metadata": {},
   "outputs": [],
   "source": [
    "def caesar_decrypt(ciphertext, shift=0):\n",
    "    ''' Decrypt `ciphertext` (str) as a caesar cipher with a given `shift` (int) \n",
    "    '''\n",
    "    # code here\n",
    "    return plaintext"
   ]
  },
  {
   "cell_type": "code",
   "execution_count": null,
   "id": "4317bf77",
   "metadata": {},
   "outputs": [],
   "source": [
    "# code snippet to test the implementation of the decryption function\n",
    "ciphertext = 'lipps!' # 'hello!' encoded with shift=4\n",
    "plaintext = caesar_decrypt(ciphertext, shift=4)\n",
    "\n",
    "print(ciphertext, '->', plaintext)  # expected output 'lipps! -> hello!'"
   ]
  },
  {
   "cell_type": "markdown",
   "id": "6bf38609",
   "metadata": {},
   "source": [
    "### Ciphertext"
   ]
  },
  {
   "cell_type": "code",
   "execution_count": null,
   "id": "09746945-d53e-47eb-8bf2-0079a150ecdc",
   "metadata": {},
   "outputs": [],
   "source": [
    "# Load ciphertext"
   ]
  },
  {
   "cell_type": "markdown",
   "id": "36d3498f",
   "metadata": {},
   "source": [
    "### Brute Force Attack"
   ]
  },
  {
   "cell_type": "markdown",
   "id": "1c3d1d7c-d12a-4104-8eae-c3ec454069ea",
   "metadata": {},
   "source": [
    "Describe the procedure necessary to break the Caesar Cipher"
   ]
  },
  {
   "cell_type": "code",
   "execution_count": null,
   "id": "de080a59-7b09-44b7-82a3-ab3bfc76d0ca",
   "metadata": {},
   "outputs": [],
   "source": [
    "# code here the procedure that allows you to infer the shift value"
   ]
  },
  {
   "cell_type": "code",
   "execution_count": null,
   "id": "aeeb5386-91a3-405a-81c8-7a106a44f12c",
   "metadata": {},
   "outputs": [],
   "source": [
    "# select the right shift and print the decrypted ciphertext"
   ]
  },
  {
   "cell_type": "markdown",
   "id": "9503d65c",
   "metadata": {},
   "source": [
    "## Simple Substitution Cipher"
   ]
  },
  {
   "cell_type": "markdown",
   "id": "1142538f-3869-4cde-b822-e75b386169ad",
   "metadata": {},
   "source": [
    "Brief explanation of a Simple Substitution Cipher"
   ]
  },
  {
   "cell_type": "markdown",
   "id": "1b6cc83d-e26d-49cc-8475-0789d2425df0",
   "metadata": {},
   "source": [
    "### Encryption"
   ]
  },
  {
   "cell_type": "code",
   "execution_count": null,
   "id": "dd72620a-d955-4fba-872f-ebcd005d484d",
   "metadata": {},
   "outputs": [],
   "source": [
    "def substitution_encrypt(plaintext, mapping):\n",
    "    ''' Encrypt `ciphertext` (str) as a simple substitution cipher with a given \n",
    "        `mapping` (??) from plaintext letters to ciphertext letters '''\n",
    "    # code here\n",
    "    return ciphertext"
   ]
  },
  {
   "cell_type": "code",
   "execution_count": null,
   "id": "177d186b-bc0a-4dca-a1b4-b1244cfb7bb1",
   "metadata": {},
   "outputs": [],
   "source": [
    "# code snippet to test the implementation of the encryption function\n",
    "plaintext = 'hello!'\n",
    "mapping = {'h': 'a', 'e': 'p', 'l': 'w', 'o': 'q'} \n",
    "\n",
    "ciphertext = substitution_encrypt(plaintext, mapping)\n",
    "\n",
    "print(plaintext, '->', ciphertext) # expected output 'hello! -> apwwq!'"
   ]
  },
  {
   "cell_type": "markdown",
   "id": "cd574022-82e0-4163-807a-aabb6bd4b86d",
   "metadata": {},
   "source": [
    "### Decryption"
   ]
  },
  {
   "cell_type": "code",
   "execution_count": null,
   "id": "adb6fd3b",
   "metadata": {},
   "outputs": [],
   "source": [
    "def substitution_decrypt(ciphertext, mapping):\n",
    "    ''' Decrypt `ciphertext` (str) as a simple substitution cipher with a given \n",
    "       `mapping` (dict) from plaintext letters to ciphertext letters '''\n",
    "    # code here\n",
    "    return plaintext"
   ]
  },
  {
   "cell_type": "code",
   "execution_count": null,
   "id": "33b9b1e0-9132-4147-8d14-5b036f7a0658",
   "metadata": {},
   "outputs": [],
   "source": [
    "# code snippet to test the implementation of the decryption function\n",
    "mapping = {'h': 'a', 'e': 'p', 'l': 'w', 'o': 'q'}  # previous mapping \n",
    "ciphertext = 'apwwq!'\n",
    "\n",
    "plaintext = substitution_decrypt(ciphertext, mapping)\n",
    "\n",
    "print(ciphertext, '->', plaintext)  # expected output 'apwwq! -> hello!'"
   ]
  },
  {
   "cell_type": "markdown",
   "id": "a0a843fd-8f7d-4189-8a7c-d7015d9c2897",
   "metadata": {},
   "source": [
    "### Ciphertext"
   ]
  },
  {
   "cell_type": "code",
   "execution_count": null,
   "id": "8d8aa5ee-a119-48c0-a9e8-3b4b8a3cb034",
   "metadata": {},
   "outputs": [],
   "source": [
    "# Load ciphertext"
   ]
  },
  {
   "cell_type": "markdown",
   "id": "17025077-c0a2-4a1c-add8-a79897c1d4a0",
   "metadata": {},
   "source": [
    "### Frequency Analysis Attack"
   ]
  },
  {
   "cell_type": "markdown",
   "id": "abda6491-1fb9-4442-b3bc-69c403bfc413",
   "metadata": {},
   "source": [
    "Describe the procedure to break a Simple Substitution Cipher"
   ]
  },
  {
   "cell_type": "markdown",
   "id": "59434d7e-a0c1-4d03-8c84-a1f9c948f935",
   "metadata": {},
   "source": [
    "#### English Letters Distribution"
   ]
  },
  {
   "cell_type": "code",
   "execution_count": null,
   "id": "4e9a0d70-5652-4a5e-bb57-84ed8282b3da",
   "metadata": {},
   "outputs": [],
   "source": [
    "# function to infer the letter distribution from a text\n",
    "def letter_distribution(text):\n",
    "    ''' Return the `distribution` (??) of the letters in `text` (str) '''\n",
    "    # code here\n",
    "    return distribution   "
   ]
  },
  {
   "cell_type": "code",
   "execution_count": null,
   "id": "b7131445-b0b8-44c7-8918-9fad5cb7475a",
   "metadata": {},
   "outputs": [],
   "source": [
    "# code snippet to test the implementation of `letter_distribution`\n",
    "text = 'hello world!'\n",
    "\n",
    "letter_distribution(text)\n",
    "# expected ouput: \n",
    "# {'d': 0.1, 'e': 0.1, 'h': 0.1, 'l': 0.3, 'o': 0.2, 'r': 0.1, 'w': 0.1, ...}"
   ]
  },
  {
   "cell_type": "code",
   "execution_count": null,
   "id": "0052ab81-e261-4660-ab34-f86582601c67",
   "metadata": {},
   "outputs": [],
   "source": [
    "# load text"
   ]
  },
  {
   "cell_type": "code",
   "execution_count": null,
   "id": "eeae9160-8631-4d25-bbb9-79aac9547d23",
   "metadata": {},
   "outputs": [],
   "source": [
    "# estimate the English letters distribution "
   ]
  },
  {
   "cell_type": "code",
   "execution_count": null,
   "id": "266c71cd-20c3-4a53-9050-f380aef8eff4",
   "metadata": {},
   "outputs": [],
   "source": [
    "# plot the English letter distribution"
   ]
  },
  {
   "cell_type": "code",
   "execution_count": null,
   "id": "862cf0c3-d828-4e1c-a10c-485d7f7c5a5d",
   "metadata": {},
   "outputs": [],
   "source": [
    "# store the distribution as a pickle file"
   ]
  },
  {
   "cell_type": "markdown",
   "id": "843e03cd",
   "metadata": {},
   "source": [
    "#### Perform attack"
   ]
  },
  {
   "cell_type": "code",
   "execution_count": null,
   "id": "af14a82e-0202-4d9f-abb3-e1feba2c439c",
   "metadata": {},
   "outputs": [],
   "source": [
    "# perform Frequency analysis attack"
   ]
  },
  {
   "cell_type": "code",
   "execution_count": null,
   "id": "bd3d17c5-49f3-4dfc-8a55-f854c5168eb7",
   "metadata": {},
   "outputs": [],
   "source": [
    "# print mapping"
   ]
  },
  {
   "cell_type": "code",
   "execution_count": null,
   "id": "deb76657-5fce-4f72-9fee-9b4295f62c07",
   "metadata": {},
   "outputs": [],
   "source": [
    "# print decrypted plaintext"
   ]
  },
  {
   "cell_type": "markdown",
   "id": "04ca2b25-4875-4c46-8c53-700a2cf9b658",
   "metadata": {},
   "source": [
    "## Conclusion"
   ]
  },
  {
   "cell_type": "markdown",
   "id": "a0b88e69-52b0-42d2-bcdd-8a53c94307e1",
   "metadata": {},
   "source": [
    "draw your conclusions"
   ]
  }
 ],
 "metadata": {
  "kernelspec": {
   "display_name": "Python 3 (ipykernel)",
   "language": "python",
   "name": "python3"
  },
  "language_info": {
   "codemirror_mode": {
    "name": "ipython",
    "version": 3
   },
   "file_extension": ".py",
   "mimetype": "text/x-python",
   "name": "python",
   "nbconvert_exporter": "python",
   "pygments_lexer": "ipython3",
   "version": "3.12.3"
  }
 },
 "nbformat": 4,
 "nbformat_minor": 5
}
