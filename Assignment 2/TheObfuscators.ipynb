{
 "cells": [
  {
   "cell_type": "markdown",
   "id": "cc0a74f5-83cf-4daa-b402-16a922347785",
   "metadata": {},
   "source": [
    "# Stream Ciphers: Concepts, Implementation, and Cryptanalysis"
   ]
  },
  {
   "cell_type": "markdown",
   "id": "513c7641",
   "metadata": {},
   "source": [
    "## Introduction"
   ]
  },
  {
   "cell_type": "markdown",
   "id": "e28e02c6",
   "metadata": {},
   "source": [
    "Cryptography plays a crucial role in securing digital communication, and stream ciphers are widely used for their efficiency in encrypting data. This report examines stream ciphers, focusing on their use of Linear Feedback Shift Registers (LFSR) for generating keystreams, the vulnerabilities revealed by the Berlekamp-Massey Algorithm, and the risks posed by Known-Plaintext Attacks (KPA). By exploring their technical aspects and historical development, this report aims to clarify how these elements shape modern cryptographic systems. The analysis draws on established research to provide a clear understanding of stream cipher mechanisms and their security challenges, reflecting their importance in today’s digital world (Stallings, 2017)."
   ]
  },
  {
   "cell_type": "markdown",
   "id": "27ca0f33",
   "metadata": {},
   "source": [
    "## Stream Ciphers\n"
   ]
  },
  {
   "cell_type": "markdown",
   "id": "63726878",
   "metadata": {},
   "source": [
    "Stream ciphers are symmetric key algorithms that encrypt data one bit or byte at a time, offering a faster and smaller alternative to block ciphers. Their  design is inspired by the One-Time Pad (OTP), introduced by Gilbert Vernam in 1917 and later formalized by Shannon. The OTP achieves perfect secrecy by XORing the plaintext with a random key that is as long as the message and used only once. However, due to the practical challenges of key generation and distribution, real-world stream ciphers rely on pseudorandom number generators (PRNGs) to produce keystreams. \n",
    "\n",
    "A common PRNG used in stream ciphers is the Linear Feedback Shift Register (LFSR), which is simple and efficient but vulnerable to linear analysis (expand on RNGs?). (The Berlekamp-Massey Algorithm can reconstruct the shortest LFSR that generates a given output sequence, making it useful in attacks like Known-Plaintext Attacks (KPA). To strengthen security, constructions like the Alternating Step Generator (ASG) combine multiple LFSRs in a non-linear, irregular clocking scheme. This project explores these components through code implementations, analyzing their structure and role in stream cipher design.)"
   ]
  },
  {
   "cell_type": "markdown",
   "id": "5731a621",
   "metadata": {},
   "source": [
    "treats the plaintext as a stream and encrypts the bits individually\n",
    "\n",
    "smaller and faster \n",
    "\n",
    "assumed to be more efficient\n",
    "\n",
    "encryption and decryption are the same procedure -XOR\n",
    "\n",
    "they can reach very high level of secrecy\n",
    "\n",
    "One time pod: key as long as the plaintext, uniformly distributed in the key space, key must be used only once -> information theory-wise secure\n",
    "\n",
    "Security in stream ciphers relies on key stream\n",
    "\n",
    "OTP is unpractical because stream ciphers rely on random number generators\n",
    "\n",
    "-maybe talk a bit about RNGs- \n",
    "\n",
    "RNG must be reproducible and unpredictable\n",
    "\n"
   ]
  },
  {
   "cell_type": "code",
   "execution_count": 4,
   "id": "fa27ce71",
   "metadata": {},
   "outputs": [],
   "source": [
    "from bits import Bits\n",
    "from lfsr import LFSR, berlekamp_massey\n",
    "from bitgenerator import AlternatingStep"
   ]
  },
  {
   "cell_type": "markdown",
   "id": "59b8bc34-7676-416e-9e95-73734d652a88",
   "metadata": {},
   "source": [
    "## LFSR"
   ]
  },
  {
   "cell_type": "markdown",
   "id": "d49baa9f",
   "metadata": {},
   "source": [
    "one of the main building blocks of PRNGs"
   ]
  },
  {
   "cell_type": "markdown",
   "id": "85616c78",
   "metadata": {},
   "source": [
    "Linear Feedback Shift Registers (LFSRs) are simple but powerful components often used to generate pseudorandom sequences in stream ciphers. An LFSR consists of a series of binary registers (bits) that shift their values at each step, with the new input bit determined by a linear function, typically the XOR of selected bits from the current state, defined by a feedback polynomial. Despite their simplicity, LFSRs can produce sequences with long periods and good statistical properties (when properly configured).\n",
    "\n",
    "In stream ciphers, LFSRs act as keystream generators, where their output is XORed with the plaintext to produce ciphertext. The same sequence can be reproduced during decryption, as long as the initial state (or seed) and polynomial are known. However, the linear nature of LFSRs also makes them vulnerable. If an attacker can observeenough of the keystream, algorithms like Berlekamp-Massey can reconstruct the LFSR’s feedback polynomial and internal state, allowing full prediction of the remaining sequence. (Regardless, they are the foundation for more complex and secure systems such as combination generators or the ASG.)"
   ]
  },
  {
   "cell_type": "markdown",
   "id": "cb7e3b26",
   "metadata": {},
   "source": [
    "## Berlekamp-Massey Algorithm"
   ]
  },
  {
   "cell_type": "markdown",
   "id": "bd75cb41",
   "metadata": {},
   "source": [
    "ssssssssssssssssssssssssssssssssssssss"
   ]
  },
  {
   "cell_type": "markdown",
   "id": "a09ce768",
   "metadata": {},
   "source": [
    "binary output sequence -> shortest lfsr able to produce the sequence\n",
    "\n",
    "exploits the ptoperty that x p_i+b[t-i] must be zero\n",
    "\n",
    "makes the system prone to KPA attck. If eve knows enough x_i and y_i's she can compute b_i's and apply B-M algorithm to infer P(X)"
   ]
  },
  {
   "cell_type": "code",
   "execution_count": 13,
   "id": "af3df3e6",
   "metadata": {},
   "outputs": [
    {
     "data": {
      "text/plain": [
       "b'\\xbb`\\xef\\x067\\xae\\xd0K\"Vd]#Q\\xeb\\x02~<\\xe6C\\xbe\\xed5\\xd0\\xec\\xada\\xe8\\x89h\\xf3\\xbdFc\\x96\\xb5\\x8e\\xb0\\x03\\xabVFY#\\xd1\\xeb\">\\xb5\\xe4'"
      ]
     },
     "execution_count": 13,
     "metadata": {},
     "output_type": "execute_result"
    }
   ],
   "source": [
    "# read the binary sequence from the file\n",
    "with open('binary_sequence.bin', 'rb') as f:\n",
    "        binary_sequence = f.read()\n",
    "        \n",
    "binary_sequence[:50]"
   ]
  },
  {
   "cell_type": "code",
   "execution_count": 14,
   "id": "3eb1b419",
   "metadata": {},
   "outputs": [],
   "source": [
    "# convert the binary sequence to a Bits object\n",
    "bits = Bits(binary_sequence)"
   ]
  },
  {
   "cell_type": "code",
   "execution_count": 15,
   "id": "8e0bb869",
   "metadata": {},
   "outputs": [
    {
     "name": "stdout",
     "output_type": "stream",
     "text": [
      "Shortest feedback polynomial degrees: {0, 18, 7}\n",
      "Linear complexity: 18\n"
     ]
    }
   ],
   "source": [
    "# find the shortest feedback polynomial using the Berlekamp-Massey algorithm\n",
    "poly = berlekamp_massey(bits)\n",
    "linear_complexity = max(poly) if poly else 0\n",
    "\n",
    "print(\"Shortest feedback polynomial degrees:\", poly)\n",
    "print(\"Linear complexity:\", linear_complexity)"
   ]
  },
  {
   "cell_type": "markdown",
   "id": "81332146",
   "metadata": {},
   "source": [
    "## Alternating Step Generator"
   ]
  },
  {
   "cell_type": "markdown",
   "id": "17d899f2",
   "metadata": {},
   "source": [
    "The Alternating Step Generator (ASG) is a stream cipher design that aims to overcome the weaknesses of individual LFSRs by combining multiple LFSRs in a non-linear and irregular fashion. In a typical ASG setup, three LFSRs are used: two generate bits for output, while the third acts as a control register that determines which of the other two is stepped at each time instant. This irregular clocking introduces unpredictability into the output sequence, making it harder for an attacker to analyze or reverse-engineer.\n",
    "\n",
    "The core idea behind the ASG is to break the linearity that makes LFSRs vulnerable to attacks like Berlekamp-Massey. By conditionally stepping LFSRs based on the output of a third, the generator produces a more complex and less predictable keystream, even if the individual components are linear. This added complexity significantly raises the difficulty of reconstructing the internal state through known cryptanalytic techniques.Still, while ASGs are more secure than a single LFSR, they aren’t foolproof. If the parameters aren’t chosen carefully or if there isn’t enough non-linearity in the design, they can still be exposed to more advanced or targeted attacks."
   ]
  },
  {
   "cell_type": "markdown",
   "id": "16b3e50a",
   "metadata": {},
   "source": [
    "# KPA"
   ]
  },
  {
   "cell_type": "markdown",
   "id": "1a521354",
   "metadata": {},
   "source": [
    "A Known-Plaintext Attack (KPA) targets stream ciphers by using knowledge of part of the original plaintext and its corresponding ciphertext to recover the underlying keystream. Since stream ciphers encrypt data by XORing the plaintext with a keystream, simply XORing the known plaintext with its ciphertext segment yields the matching portion of the keystream. \n",
    "\n",
    "In this case, the ciphertext (ciphertext.bin) and a portion of the original plaintext (known-plaintext.txt) were provided. XORing the known plaintext with the first part of the ciphertext produced the initial keystream segment. The Berlekamp-Massey Algorithm was then used to analyze this keystream and compute the shortest feedback polynomial for a Linear Feedback Shift Register (LFSR) capable of generating it.\n",
    "\n",
    "An LFSR was constructed to generate the full keystream. XORing this generated keystream with the entire ciphertext produced the original plaintext."
   ]
  },
  {
   "cell_type": "code",
   "execution_count": 19,
   "id": "3bb16497",
   "metadata": {},
   "outputs": [
    {
     "name": "stdout",
     "output_type": "stream",
     "text": [
      "Ciphertext: b\"\\xb7;\\xcep\\x9e\\x7f\\xc0\\xe3H_'\\xc6D\\x9b\\xe8\\xbd\\x8e[\\x8b\\xb0\\x94\\x00\\xdf]\\xa9\\xd9\\x152k\\x06\" ..., \n",
      "Known-Plaintext: b'The Legacy of the Hidden Key\\n\\nIn a quiet corner of the university library, where dust mote'...\n"
     ]
    }
   ],
   "source": [
    "# open the ciphertext and known plaintext files\n",
    "with open(\"ciphertext.bin\", \"rb\") as f:\n",
    "    ciphertext = f.read()\n",
    "\n",
    "with open(\"known-plaintext.txt\", \"r\", encoding=\"utf-8\") as f:\n",
    "    known_plaintext = f.read().encode(\"utf-8\")\n",
    "    \n",
    "print(f\"Ciphertext: {ciphertext[:30]} ..., \\nKnown-Plaintext: {known_plaintext[:90]}...\")"
   ]
  },
  {
   "cell_type": "code",
   "execution_count": 42,
   "id": "1002ef60",
   "metadata": {},
   "outputs": [],
   "source": [
    "# convert the binary sequences to a Bits objects\n",
    "kp_bits = Bits(known_plaintext)\n",
    "cipher_bits = Bits(ciphertext)"
   ]
  },
  {
   "cell_type": "code",
   "execution_count": 43,
   "id": "25e3a7ee",
   "metadata": {},
   "outputs": [
    {
     "name": "stdout",
     "output_type": "stream",
     "text": [
      "Shortest feedback polynomial degrees: {0, 1, 9, 48, 19}\n",
      "Linear complexity: 48\n"
     ]
    }
   ],
   "source": [
    "# using the known plaintext, find the polynomial that produces the bit sequence needed to generate the ciphertext\n",
    "bit_sequence = kp_bits ^ Bits(cipher_bits[:len(kp_bits)])\n",
    "poly = berlekamp_massey(bit_sequence)\n",
    "linear_complexity = max(poly) if poly else 0\n",
    "\n",
    "print(\"Shortest feedback polynomial degrees:\", poly)\n",
    "print(\"Linear complexity:\", linear_complexity)"
   ]
  },
  {
   "cell_type": "code",
   "execution_count": 44,
   "id": "5bc62024",
   "metadata": {},
   "outputs": [],
   "source": [
    "# recover the initial state of the LFSR using the polynomial and the first 48 bits of the bit sequence\n",
    "init_state = Bits(bit_sequence[0:48][::-1])\n",
    "lfsr = LFSR(poly, init_state)"
   ]
  },
  {
   "cell_type": "code",
   "execution_count": 45,
   "id": "7cc28a46",
   "metadata": {},
   "outputs": [],
   "source": [
    "# Generate the binary sequence for decryption using LFSR, starting with the initial state\n",
    "decryption_bits = Bits([lfsr.output])\n",
    "decryption_bits += lfsr.run_steps(len(cipher_bits)-1, init_state)"
   ]
  },
  {
   "cell_type": "code",
   "execution_count": 46,
   "id": "bb51245f",
   "metadata": {},
   "outputs": [
    {
     "name": "stdout",
     "output_type": "stream",
     "text": [
      "b'The Legacy of the Hidden Key\\n\\nIn a quiet corner of the university library, where dust motes danced in the slanted afternoon light,'\n"
     ]
    }
   ],
   "source": [
    "# decrypt the ciphertext using the generated binary sequence\n",
    "decrypted_bits = decryption_bits ^ cipher_bits\n",
    "decrypted_bytes = decrypted_bits.to_bytes()\n",
    "print(decrypted_bytes[:130])"
   ]
  },
  {
   "cell_type": "markdown",
   "id": "b39b9c3a",
   "metadata": {},
   "source": [
    "## Conclusion"
   ]
  },
  {
   "cell_type": "markdown",
   "id": "e7c0e71a",
   "metadata": {},
   "source": [
    "Stream ciphers, supported by LFSRs, offer efficient encryption but face significant threats from the Berlekamp-Massey Algorithm and KPAs. Their development, from early innovations like the One-Time Pad to modern RNG-based systems, reflects ongoing efforts to enhance security. Non-linear designs and reliable RNGs are essential to counter vulnerabilities and maintain robust encryption. This report demonstrates that while stream ciphers are valuable for real-time applications, their security depends on addressing cryptanalytic risks. Continued advancements in cryptographic design will ensure stream ciphers remain effective in securing digital communications (Katz & Lindell, 2014)."
   ]
  },
  {
   "cell_type": "markdown",
   "id": "6672dfa1",
   "metadata": {},
   "source": [
    "## References"
   ]
  },
  {
   "cell_type": "markdown",
   "id": "7f6244d5",
   "metadata": {},
   "source": [
    "- Biryukov, A., Shamir, A., & Wagner, D. (2000). Real-time cryptanalysis of A5/1 on a PC. Fast Software Encryption, 185–199.\n",
    "- Hell, M., Johansson, T., & Meier, W. (2006). Grain: A stream cipher for constrained environments. eSTREAM, ECRYPT Stream Cipher Project.\n",
    "- Katz, J., & Lindell, Y. (2014). Introduction to Modern Cryptography (2nd ed.). CRC Press.\n",
    "- Massey, J. L. (1969). Shift-register synthesis and BCH decoding. IEEE Transactions on Information Theory, 15(1), 122–127.\n",
    "- Menezes, A. J., van Oorschot, P. C., & Vanstone, S. A. (1996). Handbook of Applied Cryptography. CRC Press.\n",
    "- Rueppel, R. A. (1986). Analysis and Design of Stream Ciphers. Springer.\n",
    "- Shannon, C. E. (1949). Communication theory of secrecy systems. Bell System Technical Journal, 28(4), 656–715.\n",
    "- Singh, S. (1999). The Code Book: The Science of Secrecy from Ancient Egypt to Quantum Cryptography. Anchor Books.\n",
    "- Stallings, W. (2017). Cryptography and Network Security: Principles and Practice (7th ed.). Pearson.\n",
    "\n"
   ]
  }
 ],
 "metadata": {
  "kernelspec": {
   "display_name": "pythonenv",
   "language": "python",
   "name": "python3"
  },
  "language_info": {
   "codemirror_mode": {
    "name": "ipython",
    "version": 3
   },
   "file_extension": ".py",
   "mimetype": "text/x-python",
   "name": "python",
   "nbconvert_exporter": "python",
   "pygments_lexer": "ipython3",
   "version": "3.12.9"
  }
 },
 "nbformat": 4,
 "nbformat_minor": 5
}
