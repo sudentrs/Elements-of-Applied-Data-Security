{
 "cells": [
  {
   "cell_type": "markdown",
   "id": "cc0a74f5-83cf-4daa-b402-16a922347785",
   "metadata": {},
   "source": [
    "# Stream Ciphers"
   ]
  },
  {
   "cell_type": "markdown",
   "id": "5731a621",
   "metadata": {},
   "source": [
    "treats the plaintext as a stream and encrypts the bits individually\n",
    "\n",
    "smaller and faster \n",
    "\n",
    "assumed to be more efficient\n",
    "\n",
    "encryption and decryption are the same procedure -XOR\n",
    "\n",
    "they can reach very high level of secrecy\n",
    "\n",
    "One time pod: key as long as the plaintext, uniformly distributed in the key space, key must be used only once -> information theory-wise secure\n",
    "\n",
    "Security in stream ciphers relies on key stream\n",
    "\n",
    "OTP is unpractical because stream ciphers rely on random number generators\n",
    "\n",
    "-maybe talk a bit about RNGs- \n",
    "\n",
    "RNG must be reproducible and unpredictable\n",
    "\n"
   ]
  },
  {
   "cell_type": "code",
   "execution_count": 1,
   "id": "fa27ce71",
   "metadata": {},
   "outputs": [],
   "source": [
    "from bits import Bits\n",
    "from lfsr import LFSR, berlekamp_massey\n",
    "from bitgenerator import AlternatingStep"
   ]
  },
  {
   "cell_type": "code",
   "execution_count": 2,
   "id": "1ce9efc2",
   "metadata": {},
   "outputs": [
    {
     "data": {
      "text/plain": [
       "Bits([True, False, True, False, True, False, True, False])"
      ]
     },
     "execution_count": 2,
     "metadata": {},
     "output_type": "execute_result"
    }
   ],
   "source": [
    "random = [1, 0, 1, 0, 1, 0, 1, 0]\n",
    "bits = Bits(random)\n",
    "bits"
   ]
  },
  {
   "cell_type": "markdown",
   "id": "59b8bc34-7676-416e-9e95-73734d652a88",
   "metadata": {},
   "source": [
    "## LFSR"
   ]
  },
  {
   "cell_type": "markdown",
   "id": "d49baa9f",
   "metadata": {},
   "source": [
    "one of the main building blocks of PRNGs"
   ]
  },
  {
   "cell_type": "code",
   "execution_count": 3,
   "id": "e205e287",
   "metadata": {},
   "outputs": [
    {
     "name": "stdout",
     "output_type": "stream",
     "text": [
      "0\n"
     ]
    }
   ],
   "source": [
    "lfsr = LFSR({1, 2, 5}, 0b000)\n",
    "bits = lfsr.cycle()\n",
    "print(bits)"
   ]
  },
  {
   "cell_type": "code",
   "execution_count": 4,
   "id": "0109f277",
   "metadata": {},
   "outputs": [],
   "source": [
    "lfsr = LFSR({1, 2, 5}, 0b00101)\n",
    "output = lfsr.run_steps(10)"
   ]
  },
  {
   "cell_type": "code",
   "execution_count": 5,
   "id": "d3acd613",
   "metadata": {},
   "outputs": [
    {
     "data": {
      "text/plain": [
       "False"
      ]
     },
     "execution_count": 5,
     "metadata": {},
     "output_type": "execute_result"
    }
   ],
   "source": [
    "lfsr.__next__()"
   ]
  },
  {
   "cell_type": "code",
   "execution_count": 6,
   "id": "0e89dea4",
   "metadata": {},
   "outputs": [
    {
     "data": {
      "text/plain": [
       "Bits([False, True, False, False, True, True, True, False, True, False])"
      ]
     },
     "execution_count": 6,
     "metadata": {},
     "output_type": "execute_result"
    }
   ],
   "source": [
    "output"
   ]
  },
  {
   "cell_type": "code",
   "execution_count": 7,
   "id": "1730f7aa",
   "metadata": {},
   "outputs": [
    {
     "data": {
      "text/plain": [
       "Bits([False, True, False, False, True, True, True])"
      ]
     },
     "execution_count": 7,
     "metadata": {},
     "output_type": "execute_result"
    }
   ],
   "source": [
    "bits = lfsr.cycle(state=0b00101)\n",
    "bits"
   ]
  },
  {
   "cell_type": "markdown",
   "id": "cb7e3b26",
   "metadata": {},
   "source": [
    "## Berlekamp-Massey Algorithm"
   ]
  },
  {
   "cell_type": "markdown",
   "id": "a09ce768",
   "metadata": {},
   "source": [
    "binary output sequence -> shortest lfsr able to produce the sequence\n",
    "\n",
    "exploits the ptoperty that x p_i+b[t-i] must be zero\n",
    "\n",
    "makes the system prone to KPA attck. If eve knows enough x_i and y_i's she can compute b_i's and apply B-M algorithm to infer P(X)"
   ]
  },
  {
   "cell_type": "code",
   "execution_count": 8,
   "id": "56e849b2",
   "metadata": {},
   "outputs": [
    {
     "name": "stdout",
     "output_type": "stream",
     "text": [
      "{0, 3, 5}\n"
     ]
    }
   ],
   "source": [
    "test_bits = Bits([1, 0, 0, 1, 1, 0, 1, 1, 1, 0, 1])\n",
    "print(berlekamp_massey(test_bits))\n"
   ]
  },
  {
   "cell_type": "code",
   "execution_count": 9,
   "id": "af3df3e6",
   "metadata": {},
   "outputs": [],
   "source": [
    "with open('binary_sequence.bin', 'rb') as f:\n",
    "        binary_sequence = f.read()"
   ]
  },
  {
   "cell_type": "code",
   "execution_count": 10,
   "id": "5b9f3797",
   "metadata": {},
   "outputs": [
    {
     "data": {
      "text/plain": [
       "b'\\xbb`\\xef\\x067\\xae\\xd0K\"Vd]#Q\\xeb\\x02~<\\xe6C\\xbe\\xed5\\xd0\\xec\\xada\\xe8\\x89h\\xf3\\xbdFc\\x96\\xb5\\x8e\\xb0\\x03\\xabVFY#\\xd1\\xeb\">\\xb5\\xe4'"
      ]
     },
     "execution_count": 10,
     "metadata": {},
     "output_type": "execute_result"
    }
   ],
   "source": [
    "binary_sequence[:50]"
   ]
  },
  {
   "cell_type": "code",
   "execution_count": 11,
   "id": "3eb1b419",
   "metadata": {},
   "outputs": [],
   "source": [
    "bits = Bits(binary_sequence)"
   ]
  },
  {
   "cell_type": "code",
   "execution_count": 12,
   "id": "8e0bb869",
   "metadata": {},
   "outputs": [
    {
     "name": "stdout",
     "output_type": "stream",
     "text": [
      "Shortest feedback polynomial degrees: {0, 18, 7}\n",
      "Linear complexity: 18\n"
     ]
    }
   ],
   "source": [
    "poly = berlekamp_massey(bits)\n",
    "linear_complexity = max(poly) if poly else 0\n",
    "\n",
    "print(\"Shortest feedback polynomial degrees:\", poly)\n",
    "print(\"Linear complexity:\", linear_complexity)"
   ]
  },
  {
   "cell_type": "markdown",
   "id": "81332146",
   "metadata": {},
   "source": [
    "## Alternating Step Generator"
   ]
  },
  {
   "cell_type": "code",
   "execution_count": 13,
   "id": "09808b73",
   "metadata": {},
   "outputs": [],
   "source": [
    "alt_step = AlternatingStep()"
   ]
  },
  {
   "cell_type": "code",
   "execution_count": 14,
   "id": "32f9b6a8",
   "metadata": {},
   "outputs": [],
   "source": [
    "bits = alt_step.run(25)"
   ]
  },
  {
   "cell_type": "code",
   "execution_count": 15,
   "id": "49468e38",
   "metadata": {},
   "outputs": [
    {
     "data": {
      "text/plain": [
       "Bits([False, False, False, True, True, True, False, True, False, True, False, True, True, True, False, False, False, True, False, False, True, False, True, True, False])"
      ]
     },
     "execution_count": 15,
     "metadata": {},
     "output_type": "execute_result"
    }
   ],
   "source": [
    "bits"
   ]
  },
  {
   "cell_type": "markdown",
   "id": "16b3e50a",
   "metadata": {},
   "source": [
    "# KPA"
   ]
  },
  {
   "cell_type": "code",
   "execution_count": 16,
   "id": "3bb16497",
   "metadata": {},
   "outputs": [],
   "source": [
    "with open(\"ciphertext.bin\", \"rb\") as f:\n",
    "    ciphertext = f.read()\n",
    "\n",
    "with open(\"known-plaintext.txt\", \"r\", encoding=\"utf-8\") as f:\n",
    "    known_plaintext = f.read().encode(\"utf-8\")"
   ]
  },
  {
   "cell_type": "code",
   "execution_count": 17,
   "id": "6ed1a15c",
   "metadata": {},
   "outputs": [
    {
     "name": "stdout",
     "output_type": "stream",
     "text": [
      "Ciphertext: b\"\\xb7;\\xcep\\x9e\\x7f\\xc0\\xe3H_'\\xc6D\\x9b\\xe8\\xbd\\x8e[\\x8b\\xb0\\x94\\x00\\xdf]\\xa9\\xd9\\x152k\\x06\" ..., \n",
      "Known-Plaintext: b'The Legacy of the Hidden Key\\n\\nIn a quiet corner of the university library, where dust mote'...\n"
     ]
    }
   ],
   "source": [
    "print(f\"Ciphertext: {ciphertext[:30]} ..., \\nKnown-Plaintext: {known_plaintext[:90]}...\")"
   ]
  },
  {
   "cell_type": "code",
   "execution_count": 18,
   "id": "1002ef60",
   "metadata": {},
   "outputs": [],
   "source": [
    "kp_bits = Bits(known_plaintext)\n",
    "length = len(kp_bits)\n",
    "cipher_bits = Bits(Bits(ciphertext)[:length])"
   ]
  },
  {
   "cell_type": "code",
   "execution_count": 19,
   "id": "25e3a7ee",
   "metadata": {},
   "outputs": [
    {
     "name": "stdout",
     "output_type": "stream",
     "text": [
      "Bit sequence: [True, True, True, False, False, False, True, True, False, True] ...\n"
     ]
    }
   ],
   "source": [
    "bit_sequence = kp_bits ^ cipher_bits\n",
    "print(f\"Bit sequence: {bit_sequence[:10]} ...\")"
   ]
  },
  {
   "cell_type": "code",
   "execution_count": 20,
   "id": "88168c5c",
   "metadata": {},
   "outputs": [
    {
     "name": "stdout",
     "output_type": "stream",
     "text": [
      "Shortest feedback polynomial degrees: {0, 1, 9, 48, 19}\n",
      "Linear complexity: 48\n"
     ]
    }
   ],
   "source": [
    "poly = berlekamp_massey(bit_sequence)\n",
    "linear_complexity = max(poly) if poly else 0\n",
    "\n",
    "print(\"Shortest feedback polynomial degrees:\", poly)\n",
    "print(\"Linear complexity:\", linear_complexity)"
   ]
  },
  {
   "cell_type": "code",
   "execution_count": 22,
   "id": "15217082",
   "metadata": {},
   "outputs": [
    {
     "data": {
      "text/plain": [
       "[False,\n",
       " True,\n",
       " False,\n",
       " True,\n",
       " False,\n",
       " True,\n",
       " False,\n",
       " False,\n",
       " False,\n",
       " True,\n",
       " True,\n",
       " False,\n",
       " True,\n",
       " False,\n",
       " False,\n",
       " False,\n",
       " False,\n",
       " True,\n",
       " True,\n",
       " False,\n",
       " False,\n",
       " True,\n",
       " False,\n",
       " True,\n",
       " False,\n",
       " False,\n",
       " True,\n",
       " False,\n",
       " False,\n",
       " False,\n",
       " False,\n",
       " False,\n",
       " False,\n",
       " True,\n",
       " False,\n",
       " False,\n",
       " True,\n",
       " True,\n",
       " False,\n",
       " False,\n",
       " False,\n",
       " True,\n",
       " True,\n",
       " False,\n",
       " False,\n",
       " True,\n",
       " False,\n",
       " True]"
      ]
     },
     "execution_count": 22,
     "metadata": {},
     "output_type": "execute_result"
    }
   ],
   "source": [
    "import numpy as np\n",
    "from typing import Set\n",
    "\n",
    "def build_lfsr_matrix(poly_degrees: Set[int], num_rows: int) -> np.ndarray:\n",
    "    \"\"\"\n",
    "    Build the LFSR matrix over GF(2) using the feedback polynomial.\n",
    "    Each row represents a linear equation of how one output depends on the previous bits.\n",
    "    \"\"\"\n",
    "    L = max(poly_degrees)\n",
    "    poly = [0] * L\n",
    "    for deg in poly_degrees:\n",
    "        if deg != 0:  # skip the constant term\n",
    "            poly[L - deg] = 1  # reverse indexing to align with state bits\n",
    "\n",
    "    M = np.zeros((num_rows, L), dtype=np.uint8)\n",
    "    for i in range(num_rows):\n",
    "        if i < L:\n",
    "            M[i, i] = 1\n",
    "        else:\n",
    "            M[i] = np.zeros(L, dtype=np.uint8)\n",
    "            for j in range(1, L + 1):\n",
    "                if poly[j - 1] == 1:\n",
    "                    M[i] ^= M[i - j]\n",
    "    return M\n",
    "\n",
    "# Step 1: Take 96 known output bits (we need at least 48 to solve a 48-bit state)\n",
    "L = max(poly)\n",
    "known_bits = kp_bits[:L * 2]  # 96 bits\n",
    "\n",
    "# Step 2: Build matrix M and target vector\n",
    "M = build_lfsr_matrix(poly, len(known_bits))\n",
    "output_vec = np.array(known_bits, dtype=np.uint8)\n",
    "\n",
    "# Step 3: Solve M[:L] * state = output[:L] over GF(2)\n",
    "from scipy.linalg import lu\n",
    "\n",
    "def gf2_solve(M, b):\n",
    "    \"\"\" Solve Mx = b over GF(2) using Gaussian elimination \"\"\"\n",
    "    A = M[:L].copy()\n",
    "    b = b[:L].copy()\n",
    "    n = len(b)\n",
    "\n",
    "    # Forward elimination\n",
    "    for col in range(n):\n",
    "        if A[col, col] == 0:\n",
    "            for row in range(col + 1, n):\n",
    "                if A[row, col] == 1:\n",
    "                    A[[col, row]] = A[[row, col]]\n",
    "                    b[[col, row]] = b[[row, col]]\n",
    "                    break\n",
    "        for row in range(col + 1, n):\n",
    "            if A[row, col] == 1:\n",
    "                A[row] ^= A[col]\n",
    "                b[row] ^= b[col]\n",
    "\n",
    "    # Back substitution\n",
    "    x = np.zeros(n, dtype=np.uint8)\n",
    "    for row in range(n - 1, -1, -1):\n",
    "        x[row] = b[row]\n",
    "        for col in range(row + 1, n):\n",
    "            x[row] ^= A[row, col] & x[col]\n",
    "\n",
    "    return x\n",
    "\n",
    "# Step 4: Recover the initial state\n",
    "initial_state_vec = gf2_solve(M, output_vec)\n",
    "initial_state = Bits(initial_state_vec.tolist())\n",
    "initial_state.bits[:L]  # Show recovered state bits"
   ]
  },
  {
   "cell_type": "code",
   "execution_count": 23,
   "id": "07d7c603",
   "metadata": {},
   "outputs": [],
   "source": [
    "lfsr = LFSR(poly, initial_state)\n",
    "bits = lfsr.run_steps(len(cipher_bits))"
   ]
  },
  {
   "cell_type": "code",
   "execution_count": 24,
   "id": "bb51245f",
   "metadata": {},
   "outputs": [
    {
     "data": {
      "text/plain": [
       "[True, True, True, True, True, False, True, True, False, True]"
      ]
     },
     "execution_count": 24,
     "metadata": {},
     "output_type": "execute_result"
    }
   ],
   "source": [
    "decrypted_bits = bits ^ cipher_bits\n",
    "decrypted_bits[:10]"
   ]
  },
  {
   "cell_type": "code",
   "execution_count": 25,
   "id": "7d653592",
   "metadata": {},
   "outputs": [
    {
     "name": "stdout",
     "output_type": "stream",
     "text": [
      "�_�<�+}�C\u0016)\u0015\u001d\u0000�\u0003������1�$:X\u0002~�\\*��>��$��q\u0016\u0002\u0014�\fV�Z �F-�\f4�\u001a�\u001b09`�KI3Y���\n",
      "^d}��r�3�W�}a�*�'\u000f?�\u0004 ;\u0013�\u000b�c�����E?��m\\\u0004�7<ӚZ�v��C\f>���Wԓ41���\u0019�m��^����k\f��\u0014��_�\u0004�[Ke���S�����ldM�l\u0000wSH<�\u0012:v��=-\n",
      "�\u000e\f��z)�@;=�Y\u0011��]\t,!a�Z��r\u0005�ӹ�7��@\"�2sy�EV'�\u0004�z4!r\u0017]��To:=/Lm@��=w&~ȇ\u0006��<�%\u0012�W\u000b�\u001fJ=�uMܻ�9��T��=\u0012N�Tŧ�\u0006tĀ\u0002\u0004\u0007t���~K潡ր���\u0016Lȧ\u0015ѫ7|l�S�;�\u0007��> \u000f�&\u0013���s�_!\n",
      "\u0003�Q��\u0013\u0011t���\u001b\u0007��|\u0019Bt\u0013W�BV��P�����\u0006j�%}�&n�\u0003t�\u0013d\u0006����c���7j\u000e�\u0007�1%�k��m~��M\u0016Ъ�5�y���p���k-��Y\u001e�'�(�\u0005���\u0011��L�c:�\t\t�)\u0001Q��]\u0018�t\u000e\n"
     ]
    }
   ],
   "source": [
    "def bits_to_bytes(bits):\n",
    "    \"\"\"Convert a Bits object to bytes.\"\"\"\n",
    "    byte_array = bytearray()\n",
    "    for i in range(0, len(bits), 8):\n",
    "        byte = 0\n",
    "        for bit in bits[i:i+8]:\n",
    "            byte = (byte << 1) | bit\n",
    "        byte_array.append(byte)\n",
    "    return bytes(byte_array)\n",
    "\n",
    "# Convert decrypted bits to bytes\n",
    "decrypted_bytes = bits_to_bytes(decrypted_bits)\n",
    "\n",
    "# Decode bytes to text\n",
    "decrypted_text = decrypted_bytes.decode(\"utf-8\", errors=\"replace\")\n",
    "print(decrypted_text[:1000])  # Preview the first 1000 characters"
   ]
  }
 ],
 "metadata": {
  "kernelspec": {
   "display_name": "pythonenv",
   "language": "python",
   "name": "python3"
  },
  "language_info": {
   "codemirror_mode": {
    "name": "ipython",
    "version": 3
   },
   "file_extension": ".py",
   "mimetype": "text/x-python",
   "name": "python",
   "nbconvert_exporter": "python",
   "pygments_lexer": "ipython3",
   "version": "3.12.9"
  }
 },
 "nbformat": 4,
 "nbformat_minor": 5
}
