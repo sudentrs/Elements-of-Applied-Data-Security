{
 "cells": [
  {
   "cell_type": "markdown",
   "id": "cc0a74f5-83cf-4daa-b402-16a922347785",
   "metadata": {},
   "source": [
    "# Stream Ciphers"
   ]
  },
  {
   "cell_type": "markdown",
   "id": "5731a621",
   "metadata": {},
   "source": [
    "treats the plaintext as a stream and encrypts the bits individually\n",
    "\n",
    "smaller and faster \n",
    "\n",
    "assumed to be more efficient\n",
    "\n",
    "encryption and decryption are the same procedure -XOR\n",
    "\n",
    "they can reach very high level of secrecy\n",
    "\n",
    "One time pod: key as long as the plaintext, uniformly distributed in the key space, key must be used only once -> information theory-wise secure\n",
    "\n",
    "Security in stream ciphers relies on key stream\n",
    "\n",
    "OTP is unpractical because stream ciphers rely on random number generators\n",
    "\n",
    "-maybe talk a bit about RNGs- \n",
    "\n",
    "RNG must be reproducible and unpredictable\n",
    "\n"
   ]
  },
  {
   "cell_type": "code",
   "execution_count": 14,
   "id": "fa27ce71",
   "metadata": {},
   "outputs": [],
   "source": [
    "from bits import Bits\n",
    "from lfsr import LFSR, berlekamp_massey\n",
    "from bitgenerator import AlternatingStep"
   ]
  },
  {
   "cell_type": "markdown",
   "id": "59b8bc34-7676-416e-9e95-73734d652a88",
   "metadata": {},
   "source": [
    "## LFSR"
   ]
  },
  {
   "cell_type": "markdown",
   "id": "d49baa9f",
   "metadata": {},
   "source": [
    "one of the main building blocks of PRNGs"
   ]
  },
  {
   "cell_type": "code",
   "execution_count": 15,
   "id": "e205e287",
   "metadata": {},
   "outputs": [
    {
     "name": "stdout",
     "output_type": "stream",
     "text": [
      "0\n"
     ]
    }
   ],
   "source": [
    "lfsr = LFSR({1, 2, 5}, 0b000)\n",
    "bits = lfsr.cycle()\n",
    "print(bits)"
   ]
  },
  {
   "cell_type": "code",
   "execution_count": 16,
   "id": "0109f277",
   "metadata": {},
   "outputs": [],
   "source": [
    "lfsr = LFSR({1, 2, 5}, 0b00101)\n",
    "output = lfsr.run_steps(10)"
   ]
  },
  {
   "cell_type": "code",
   "execution_count": 17,
   "id": "0e89dea4",
   "metadata": {},
   "outputs": [
    {
     "data": {
      "text/plain": [
       "Bits([True, False, True, False, False, True, True, True, False, True])"
      ]
     },
     "execution_count": 17,
     "metadata": {},
     "output_type": "execute_result"
    }
   ],
   "source": [
    "output"
   ]
  },
  {
   "cell_type": "code",
   "execution_count": 18,
   "id": "1730f7aa",
   "metadata": {},
   "outputs": [
    {
     "data": {
      "text/plain": [
       "Bits([True, False, True, False, False, True, True])"
      ]
     },
     "execution_count": 18,
     "metadata": {},
     "output_type": "execute_result"
    }
   ],
   "source": [
    "bits = lfsr.cycle(state=0b00101)\n",
    "bits"
   ]
  },
  {
   "cell_type": "markdown",
   "id": "cb7e3b26",
   "metadata": {},
   "source": [
    "## Berlekamp-Massey Algorithm"
   ]
  },
  {
   "cell_type": "markdown",
   "id": "a09ce768",
   "metadata": {},
   "source": [
    "binary output sequence -> shortest lfsr able to produce the sequence\n",
    "\n",
    "exploits the ptoperty that x p_i+b[t-i] must be zero\n",
    "\n",
    "makes the system prone to KPA attck. If eve knows enough x_i and y_i's she can compute b_i's and apply B-M algorithm to infer P(X)"
   ]
  },
  {
   "cell_type": "code",
   "execution_count": 19,
   "id": "56e849b2",
   "metadata": {},
   "outputs": [
    {
     "name": "stdout",
     "output_type": "stream",
     "text": [
      "{0, 3, 5}\n"
     ]
    }
   ],
   "source": [
    "test_bits = Bits([1, 0, 0, 1, 1, 0, 1, 1, 1, 0, 1])\n",
    "print(berlekamp_massey(test_bits))\n"
   ]
  },
  {
   "cell_type": "code",
   "execution_count": 20,
   "id": "af3df3e6",
   "metadata": {},
   "outputs": [],
   "source": [
    "with open('binary_sequence.bin', 'rb') as f:\n",
    "        binary_sequence = f.read()"
   ]
  },
  {
   "cell_type": "code",
   "execution_count": 21,
   "id": "5b9f3797",
   "metadata": {},
   "outputs": [
    {
     "data": {
      "text/plain": [
       "b'\\xbb`\\xef\\x067\\xae\\xd0K\"Vd]#Q\\xeb\\x02~<\\xe6C\\xbe\\xed5\\xd0\\xec\\xada\\xe8\\x89h\\xf3\\xbdFc\\x96\\xb5\\x8e\\xb0\\x03\\xabVFY#\\xd1\\xeb\">\\xb5\\xe4'"
      ]
     },
     "execution_count": 21,
     "metadata": {},
     "output_type": "execute_result"
    }
   ],
   "source": [
    "binary_sequence[:50]"
   ]
  },
  {
   "cell_type": "code",
   "execution_count": 22,
   "id": "3eb1b419",
   "metadata": {},
   "outputs": [],
   "source": [
    "bits = Bits(binary_sequence)"
   ]
  },
  {
   "cell_type": "code",
   "execution_count": 23,
   "id": "8e0bb869",
   "metadata": {},
   "outputs": [
    {
     "name": "stdout",
     "output_type": "stream",
     "text": [
      "Shortest feedback polynomial degrees: {0, 18, 7}\n",
      "Linear complexity: 18\n"
     ]
    }
   ],
   "source": [
    "poly = berlekamp_massey(bits)\n",
    "linear_complexity = max(poly) if poly else 0\n",
    "\n",
    "print(\"Shortest feedback polynomial degrees:\", poly)\n",
    "print(\"Linear complexity:\", linear_complexity)"
   ]
  },
  {
   "cell_type": "markdown",
   "id": "81332146",
   "metadata": {},
   "source": [
    "## Alternating Step Generator"
   ]
  },
  {
   "cell_type": "code",
   "execution_count": 29,
   "id": "09808b73",
   "metadata": {},
   "outputs": [],
   "source": [
    "alt_step = AlternatingStep()"
   ]
  },
  {
   "cell_type": "code",
   "execution_count": 30,
   "id": "32f9b6a8",
   "metadata": {},
   "outputs": [
    {
     "data": {
      "text/plain": [
       "[False,\n",
       " False,\n",
       " True,\n",
       " False,\n",
       " False,\n",
       " False,\n",
       " True,\n",
       " True,\n",
       " True,\n",
       " False,\n",
       " True,\n",
       " False,\n",
       " False,\n",
       " True,\n",
       " False,\n",
       " False,\n",
       " True,\n",
       " True,\n",
       " True,\n",
       " False,\n",
       " True,\n",
       " False,\n",
       " True,\n",
       " True,\n",
       " False]"
      ]
     },
     "execution_count": 30,
     "metadata": {},
     "output_type": "execute_result"
    }
   ],
   "source": [
    "bits = alt_step.run(25)\n",
    "bits"
   ]
  }
 ],
 "metadata": {
  "kernelspec": {
   "display_name": "pythonenv",
   "language": "python",
   "name": "python3"
  },
  "language_info": {
   "codemirror_mode": {
    "name": "ipython",
    "version": 3
   },
   "file_extension": ".py",
   "mimetype": "text/x-python",
   "name": "python",
   "nbconvert_exporter": "python",
   "pygments_lexer": "ipython3",
   "version": "3.12.9"
  }
 },
 "nbformat": 4,
 "nbformat_minor": 5
}
