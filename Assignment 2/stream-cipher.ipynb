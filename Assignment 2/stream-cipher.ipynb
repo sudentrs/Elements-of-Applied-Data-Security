{
 "cells": [
  {
   "cell_type": "markdown",
   "id": "cc0a74f5-83cf-4daa-b402-16a922347785",
   "metadata": {},
   "source": [
    "# Stream Ciphers: Concepts, Implementation, and Cryptanalysis"
   ]
  },
  {
   "cell_type": "markdown",
   "id": "513c7641",
   "metadata": {},
   "source": [
    "## Introduction"
   ]
  },
  {
   "cell_type": "markdown",
   "id": "e28e02c6",
   "metadata": {},
   "source": [
    "Cryptography plays a crucial role in securing digital communication, and stream ciphers are widely used for their efficiency in encrypting data. This report examines stream ciphers, focusing on their use of Linear Feedback Shift Registers (LFSR) for generating keystreams, the vulnerabilities revealed by the Berlekamp-Massey Algorithm, and the risks posed by Known-Plaintext Attacks (KPA). By exploring their technical aspects and historical development, this report aims to clarify how these elements shape modern cryptographic systems. The analysis draws on established research to provide a clear understanding of stream cipher mechanisms and their security challenges, reflecting their importance in today’s digital world (Stallings, 2017)."
   ]
  },
  {
   "cell_type": "markdown",
   "id": "27ca0f33",
   "metadata": {},
   "source": [
    "## Stream Ciphers\n"
   ]
  },
  {
   "cell_type": "markdown",
   "id": "63726878",
   "metadata": {},
   "source": [
    "Since the invention of the One-Time Pad by Gilbert Vernam in 1917, stream ciphers have encrypted data by processing plaintext bit-by-bit using the XOR operation, which serves for both encryption and decryption (Shannon, 1949). This method is faster and more compact than block ciphers, making it suitable for mobile communications. Security depends on the keystream, produced by random number generators (RNGs) that must be reproducible yet unpredictable. The One-Time Pad offers perfect secrecy with a key as long as the plaintext, used only once, but its key management issues led to pseudorandom RNGs. With strong RNGs, stream ciphers achieve high secrecy, though their reliance on keystream quality remains critical (Katz & Lindell, 2014)."
   ]
  },
  {
   "cell_type": "markdown",
   "id": "5731a621",
   "metadata": {},
   "source": [
    "treats the plaintext as a stream and encrypts the bits individually\n",
    "\n",
    "smaller and faster \n",
    "\n",
    "assumed to be more efficient\n",
    "\n",
    "encryption and decryption are the same procedure -XOR\n",
    "\n",
    "they can reach very high level of secrecy\n",
    "\n",
    "One time pod: key as long as the plaintext, uniformly distributed in the key space, key must be used only once -> information theory-wise secure\n",
    "\n",
    "Security in stream ciphers relies on key stream\n",
    "\n",
    "OTP is unpractical because stream ciphers rely on random number generators\n",
    "\n",
    "-maybe talk a bit about RNGs- \n",
    "\n",
    "RNG must be reproducible and unpredictable\n",
    "\n"
   ]
  },
  {
   "cell_type": "code",
   "execution_count": 1,
   "id": "fa27ce71",
   "metadata": {},
   "outputs": [],
   "source": [
    "from bits import Bits\n",
    "from lfsr import LFSR, berlekamp_massey\n",
    "from bitgenerator import AlternatingStep"
   ]
  },
  {
   "cell_type": "code",
   "execution_count": 2,
   "id": "1ce9efc2",
   "metadata": {},
   "outputs": [
    {
     "data": {
      "text/plain": [
       "Bits([True, False, True, False, True, False, True, False])"
      ]
     },
     "execution_count": 2,
     "metadata": {},
     "output_type": "execute_result"
    }
   ],
   "source": [
    "random = [1, 0, 1, 0, 1, 0, 1, 0]\n",
    "bits = Bits(random)\n",
    "bits"
   ]
  },
  {
   "cell_type": "markdown",
   "id": "59b8bc34-7676-416e-9e95-73734d652a88",
   "metadata": {},
   "source": [
    "## LFSR"
   ]
  },
  {
   "cell_type": "markdown",
   "id": "d49baa9f",
   "metadata": {},
   "source": [
    "one of the main building blocks of PRNGs"
   ]
  },
  {
   "cell_type": "markdown",
   "id": "85616c78",
   "metadata": {},
   "source": [
    "Linear Feedback Shift Registers (LFSRs) which was used in World War II systems like SIGSALY and later in GSM’s A5/1 cipher. It generates pseudorandom sequences efficiently for stream ciphers (Rueppel, 1986). An LFSR comprises a shift register with bits that shift at each cycle, outputting one bit while calculating a new bit by XORing specific bits based on a connection polynomial. This simplicity suits low-power devices like RFID tags and IoT systems. Ciphers like Grain and A5/1 use LFSRs, but their linear structure allows sequence prediction, requiring non-linear components for security. LFSRs remain vital in lightweight cryptography, balancing efficiency and complexity, though vulnerabilities demand careful design (Biryukov et al., 2000; Hell et al., 2006)."
   ]
  },
  {
   "cell_type": "code",
   "execution_count": 3,
   "id": "e205e287",
   "metadata": {},
   "outputs": [
    {
     "data": {
      "text/plain": [
       "Bits([False, False, False, False, True, True, False, True, True, True, True, False, False, True])"
      ]
     },
     "execution_count": 3,
     "metadata": {},
     "output_type": "execute_result"
    }
   ],
   "source": [
    "lfsr = LFSR({1, 2, 5}, 0b001)\n",
    "bits = lfsr.cycle()\n",
    "bits"
   ]
  },
  {
   "cell_type": "code",
   "execution_count": 4,
   "id": "0109f277",
   "metadata": {},
   "outputs": [],
   "source": [
    "lfsr = LFSR({1, 2, 5}, 0b00101)\n",
    "output = lfsr.run_steps(10)"
   ]
  },
  {
   "cell_type": "code",
   "execution_count": 5,
   "id": "d3acd613",
   "metadata": {},
   "outputs": [
    {
     "data": {
      "text/plain": [
       "False"
      ]
     },
     "execution_count": 5,
     "metadata": {},
     "output_type": "execute_result"
    }
   ],
   "source": [
    "lfsr.__next__()"
   ]
  },
  {
   "cell_type": "code",
   "execution_count": 6,
   "id": "0e89dea4",
   "metadata": {},
   "outputs": [
    {
     "data": {
      "text/plain": [
       "Bits([True, False, True, False, False, True, True, True, False, True])"
      ]
     },
     "execution_count": 6,
     "metadata": {},
     "output_type": "execute_result"
    }
   ],
   "source": [
    "output"
   ]
  },
  {
   "cell_type": "code",
   "execution_count": 7,
   "id": "1730f7aa",
   "metadata": {},
   "outputs": [
    {
     "data": {
      "text/plain": [
       "Bits([False, True, False, False, True, True, True])"
      ]
     },
     "execution_count": 7,
     "metadata": {},
     "output_type": "execute_result"
    }
   ],
   "source": [
    "bits = lfsr.cycle(state=0b00101)\n",
    "bits"
   ]
  },
  {
   "cell_type": "markdown",
   "id": "cb7e3b26",
   "metadata": {},
   "source": [
    "## Berlekamp-Massey Algorithm"
   ]
  },
  {
   "cell_type": "markdown",
   "id": "bd75cb41",
   "metadata": {},
   "source": [
    "Emerging in the 1960s for error-correcting codes, the Berlekamp-Massey Algorithm became a powerful cryptanalytic tool by reconstructing the LFSR that produces a given sequence (Massey, 1969). By analyzing a keystream segment, it identifies the feedback structure, compromising LFSR-based stream ciphers. This vulnerability, recognized in cryptographic research, highlights the need for non-linear keystream generators to resist attacks. The algorithm’s efficiency in breaking linear sequences has shaped modern cipher design, pushing developers to adopt complex structures. Its historical shift from coding to cryptanalysis underscores its impact on cryptographic security, making it a critical consideration for ensuring robust encryption systems (Menezes et al., 1996)."
   ]
  },
  {
   "cell_type": "markdown",
   "id": "a09ce768",
   "metadata": {},
   "source": [
    "binary output sequence -> shortest lfsr able to produce the sequence\n",
    "\n",
    "exploits the ptoperty that x p_i+b[t-i] must be zero\n",
    "\n",
    "makes the system prone to KPA attck. If eve knows enough x_i and y_i's she can compute b_i's and apply B-M algorithm to infer P(X)"
   ]
  },
  {
   "cell_type": "code",
   "execution_count": 8,
   "id": "56e849b2",
   "metadata": {},
   "outputs": [
    {
     "name": "stdout",
     "output_type": "stream",
     "text": [
      "{0, 3, 5}\n"
     ]
    }
   ],
   "source": [
    "test_bits = Bits([1, 0, 0, 1, 1, 0, 1, 1, 1, 0, 1])\n",
    "print(berlekamp_massey(test_bits))\n"
   ]
  },
  {
   "cell_type": "code",
   "execution_count": 9,
   "id": "af3df3e6",
   "metadata": {},
   "outputs": [],
   "source": [
    "with open('binary_sequence.bin', 'rb') as f:\n",
    "        binary_sequence = f.read()"
   ]
  },
  {
   "cell_type": "code",
   "execution_count": 10,
   "id": "5b9f3797",
   "metadata": {},
   "outputs": [
    {
     "data": {
      "text/plain": [
       "b'\\xbb`\\xef\\x067\\xae\\xd0K\"Vd]#Q\\xeb\\x02~<\\xe6C\\xbe\\xed5\\xd0\\xec\\xada\\xe8\\x89h\\xf3\\xbdFc\\x96\\xb5\\x8e\\xb0\\x03\\xabVFY#\\xd1\\xeb\">\\xb5\\xe4'"
      ]
     },
     "execution_count": 10,
     "metadata": {},
     "output_type": "execute_result"
    }
   ],
   "source": [
    "binary_sequence[:50]"
   ]
  },
  {
   "cell_type": "code",
   "execution_count": 11,
   "id": "3eb1b419",
   "metadata": {},
   "outputs": [],
   "source": [
    "bits = Bits(binary_sequence)"
   ]
  },
  {
   "cell_type": "code",
   "execution_count": 12,
   "id": "8e0bb869",
   "metadata": {},
   "outputs": [
    {
     "name": "stdout",
     "output_type": "stream",
     "text": [
      "Shortest feedback polynomial degrees: {0, 18, 7}\n",
      "Linear complexity: 18\n"
     ]
    }
   ],
   "source": [
    "poly = berlekamp_massey(bits)\n",
    "linear_complexity = max(poly) if poly else 0\n",
    "\n",
    "print(\"Shortest feedback polynomial degrees:\", poly)\n",
    "print(\"Linear complexity:\", linear_complexity)"
   ]
  },
  {
   "cell_type": "markdown",
   "id": "81332146",
   "metadata": {},
   "source": [
    "## Alternating Step Generator"
   ]
  },
  {
   "cell_type": "code",
   "execution_count": 13,
   "id": "09808b73",
   "metadata": {},
   "outputs": [],
   "source": [
    "alt_step = AlternatingStep()"
   ]
  },
  {
   "cell_type": "code",
   "execution_count": 14,
   "id": "32f9b6a8",
   "metadata": {},
   "outputs": [],
   "source": [
    "bits = alt_step.run(25)"
   ]
  },
  {
   "cell_type": "code",
   "execution_count": 15,
   "id": "49468e38",
   "metadata": {},
   "outputs": [
    {
     "data": {
      "text/plain": [
       "Bits([False, False, False, True, True, True, False, True, False, True, False, True, True, True, False, False, False, True, False, False, True, False, True, True, False])"
      ]
     },
     "execution_count": 15,
     "metadata": {},
     "output_type": "execute_result"
    }
   ],
   "source": [
    "bits"
   ]
  },
  {
   "cell_type": "markdown",
   "id": "16b3e50a",
   "metadata": {},
   "source": [
    "# KPA"
   ]
  },
  {
   "cell_type": "markdown",
   "id": "1a521354",
   "metadata": {},
   "source": [
    "Known-Plaintext Attacks (KPA), notably used to crack Enigma ciphers during World War II, exploit access to plaintext and ciphertext to recover the keystream in stream ciphers (Singh, 1999). The XOR operation’s reversibility allows attackers to deduce the keystream, undermining security if the keystream is reused. Stream ciphers can achieve strong secrecy, but their effectiveness relies on unpredictable, non-reusable keystreams generated by robust RNGs. This attack’s relevance persists in modern cryptography, emphasizing the importance of secure keystream design. Historical successes with KPA highlight the need for advanced cryptographic techniques to protect data in today’s interconnected systems (Stallings, 2017)."
   ]
  },
  {
   "cell_type": "code",
   "execution_count": 41,
   "id": "3bb16497",
   "metadata": {},
   "outputs": [],
   "source": [
    "with open(\"ciphertext.bin\", \"rb\") as f:\n",
    "    ciphertext = f.read()\n",
    "\n",
    "with open(\"known-plaintext.txt\", \"r\", encoding=\"utf-8\") as f:\n",
    "    known_plaintext = f.read().encode(\"utf-8\")"
   ]
  },
  {
   "cell_type": "code",
   "execution_count": 42,
   "id": "6ed1a15c",
   "metadata": {},
   "outputs": [
    {
     "name": "stdout",
     "output_type": "stream",
     "text": [
      "Ciphertext: b\"\\xb7;\\xcep\\x9e\\x7f\\xc0\\xe3H_'\\xc6D\\x9b\\xe8\\xbd\\x8e[\\x8b\\xb0\\x94\\x00\\xdf]\\xa9\\xd9\\x152k\\x06\" ..., \n",
      "Known-Plaintext: b'The Legacy of the Hidden Key\\n\\nIn a quiet corner of the university library, where dust mote'...\n"
     ]
    }
   ],
   "source": [
    "print(f\"Ciphertext: {ciphertext[:30]} ..., \\nKnown-Plaintext: {known_plaintext[:90]}...\")"
   ]
  },
  {
   "cell_type": "code",
   "execution_count": 43,
   "id": "1002ef60",
   "metadata": {},
   "outputs": [],
   "source": [
    "kp_bits = Bits(known_plaintext)\n",
    "cipher_bits = Bits(ciphertext)"
   ]
  },
  {
   "cell_type": "code",
   "execution_count": 44,
   "id": "25e3a7ee",
   "metadata": {},
   "outputs": [
    {
     "name": "stdout",
     "output_type": "stream",
     "text": [
      "Bit sequence: [True, True, True, False, False, False, True, True, False, True] ...\n"
     ]
    }
   ],
   "source": [
    "bit_sequence = kp_bits ^ Bits(cipher_bits[:len(kp_bits)])\n",
    "print(f\"Bit sequence: {bit_sequence[:10]} ...\")"
   ]
  },
  {
   "cell_type": "code",
   "execution_count": 45,
   "id": "88168c5c",
   "metadata": {},
   "outputs": [
    {
     "name": "stdout",
     "output_type": "stream",
     "text": [
      "Shortest feedback polynomial degrees: {0, 1, 9, 48, 19}\n",
      "Linear complexity: 48\n"
     ]
    }
   ],
   "source": [
    "poly = berlekamp_massey(bit_sequence)\n",
    "linear_complexity = max(poly) if poly else 0\n",
    "\n",
    "print(\"Shortest feedback polynomial degrees:\", poly)\n",
    "print(\"Linear complexity:\", linear_complexity)"
   ]
  },
  {
   "cell_type": "code",
   "execution_count": 46,
   "id": "5bc62024",
   "metadata": {},
   "outputs": [],
   "source": [
    "init_state = Bits(bit_sequence[:48][::-1])\n",
    "lfsr = LFSR(poly, init_state)"
   ]
  },
  {
   "cell_type": "code",
   "execution_count": 47,
   "id": "a2165ca2",
   "metadata": {},
   "outputs": [],
   "source": [
    "decryption_bits = lfsr.run_steps(len(cipher_bits), state=init_state)"
   ]
  },
  {
   "cell_type": "code",
   "execution_count": 49,
   "id": "bb51245f",
   "metadata": {},
   "outputs": [],
   "source": [
    "decrypted_bits = decryption_bits ^ cipher_bits"
   ]
  },
  {
   "cell_type": "code",
   "execution_count": 55,
   "id": "1c102226",
   "metadata": {},
   "outputs": [
    {
     "data": {
      "text/plain": [
       "b'The Legacy of the Hidden Key\\n\\nIn a quiet corner of the university library, where dust motes danced in the slanted afternoon light,'"
      ]
     },
     "execution_count": 55,
     "metadata": {},
     "output_type": "execute_result"
    }
   ],
   "source": [
    "decrypted_bytes = bytes(int(''.join(map(str, map(int, decrypted_bits[i:i+8]))), 2) for i in range(0, len(decrypted_bits), 8))\n",
    "decrypted_bytes[:130]"
   ]
  },
  {
   "cell_type": "markdown",
   "id": "b39b9c3a",
   "metadata": {},
   "source": [
    "## Conclusion"
   ]
  },
  {
   "cell_type": "markdown",
   "id": "e7c0e71a",
   "metadata": {},
   "source": [
    "Stream ciphers, supported by LFSRs, offer efficient encryption but face significant threats from the Berlekamp-Massey Algorithm and KPAs. Their development, from early innovations like the One-Time Pad to modern RNG-based systems, reflects ongoing efforts to enhance security. Non-linear designs and reliable RNGs are essential to counter vulnerabilities and maintain robust encryption. This report demonstrates that while stream ciphers are valuable for real-time applications, their security depends on addressing cryptanalytic risks. Continued advancements in cryptographic design will ensure stream ciphers remain effective in securing digital communications (Katz & Lindell, 2014)."
   ]
  },
  {
   "cell_type": "markdown",
   "id": "6672dfa1",
   "metadata": {},
   "source": [
    "## References"
   ]
  },
  {
   "cell_type": "markdown",
   "id": "7f6244d5",
   "metadata": {},
   "source": [
    "- Biryukov, A., Shamir, A., & Wagner, D. (2000). Real-time cryptanalysis of A5/1 on a PC. Fast Software Encryption, 185–199.\n",
    "- Hell, M., Johansson, T., & Meier, W. (2006). Grain: A stream cipher for constrained environments. eSTREAM, ECRYPT Stream Cipher Project.\n",
    "- Katz, J., & Lindell, Y. (2014). Introduction to Modern Cryptography (2nd ed.). CRC Press.\n",
    "- Massey, J. L. (1969). Shift-register synthesis and BCH decoding. IEEE Transactions on Information Theory, 15(1), 122–127.\n",
    "- Menezes, A. J., van Oorschot, P. C., & Vanstone, S. A. (1996). Handbook of Applied Cryptography. CRC Press.\n",
    "- Rueppel, R. A. (1986). Analysis and Design of Stream Ciphers. Springer.\n",
    "- Shannon, C. E. (1949). Communication theory of secrecy systems. Bell System Technical Journal, 28(4), 656–715.\n",
    "- Singh, S. (1999). The Code Book: The Science of Secrecy from Ancient Egypt to Quantum Cryptography. Anchor Books.\n",
    "- Stallings, W. (2017). Cryptography and Network Security: Principles and Practice (7th ed.). Pearson.\n",
    "\n"
   ]
  }
 ],
 "metadata": {
  "kernelspec": {
   "display_name": "pythonenv",
   "language": "python",
   "name": "python3"
  },
  "language_info": {
   "codemirror_mode": {
    "name": "ipython",
    "version": 3
   },
   "file_extension": ".py",
   "mimetype": "text/x-python",
   "name": "python",
   "nbconvert_exporter": "python",
   "pygments_lexer": "ipython3",
   "version": "3.12.9"
  }
 },
 "nbformat": 4,
 "nbformat_minor": 5
}
