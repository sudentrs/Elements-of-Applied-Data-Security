{
 "cells": [
  {
   "cell_type": "markdown",
   "id": "cd1ba98d",
   "metadata": {},
   "source": [
    "# Block Ciphers"
   ]
  },
  {
   "cell_type": "code",
   "execution_count": 1,
   "id": "b5c00560",
   "metadata": {},
   "outputs": [],
   "source": [
    "from aes import AES\n",
    "\n",
    "from diffusion_confusion import flip_bit, hamming_distance\n",
    "from diffusion_confusion import aes_diffusion, aes_confusion"
   ]
  },
  {
   "cell_type": "markdown",
   "id": "00665e86",
   "metadata": {},
   "source": [
    "## AES"
   ]
  },
  {
   "cell_type": "markdown",
   "id": "456a0c9e",
   "metadata": {},
   "source": [
    "### Add Round Key"
   ]
  },
  {
   "cell_type": "markdown",
   "id": "ea6b5e25",
   "metadata": {},
   "source": [
    "### Substitution Bytes"
   ]
  },
  {
   "cell_type": "markdown",
   "id": "3381475b",
   "metadata": {},
   "source": [
    "### Shift Rows"
   ]
  },
  {
   "cell_type": "markdown",
   "id": "0be124cb",
   "metadata": {},
   "source": [
    "### Mix Columns"
   ]
  },
  {
   "cell_type": "markdown",
   "id": "1b81f8a3",
   "metadata": {},
   "source": [
    "### Key Expansion"
   ]
  },
  {
   "cell_type": "markdown",
   "id": "da189d38",
   "metadata": {},
   "source": [
    "### Encryption"
   ]
  },
  {
   "cell_type": "markdown",
   "id": "62bcdd8c",
   "metadata": {},
   "source": [
    "## AES Diffusion and Confusion"
   ]
  },
  {
   "cell_type": "markdown",
   "id": "f2575ee9",
   "metadata": {},
   "source": [
    "## Conclusion"
   ]
  },
  {
   "cell_type": "markdown",
   "id": "ae40f555",
   "metadata": {},
   "source": []
  }
 ],
 "metadata": {
  "kernelspec": {
   "display_name": "eads",
   "language": "python",
   "name": "python3"
  },
  "language_info": {
   "codemirror_mode": {
    "name": "ipython",
    "version": 3
   },
   "file_extension": ".py",
   "mimetype": "text/x-python",
   "name": "python",
   "nbconvert_exporter": "python",
   "pygments_lexer": "ipython3",
   "version": "3.13.2"
  }
 },
 "nbformat": 4,
 "nbformat_minor": 5
}
