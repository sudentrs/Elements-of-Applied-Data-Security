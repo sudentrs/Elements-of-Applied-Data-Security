{
 "cells": [
  {
   "cell_type": "markdown",
   "id": "cd1ba98d",
   "metadata": {},
   "source": [
    "# Block Ciphers: AES and Security Mechanisms"
   ]
  },
  {
   "cell_type": "markdown",
   "id": "9b86d32c",
   "metadata": {},
   "source": [
    "## Introduction"
   ]
  },
  {
   "cell_type": "markdown",
   "id": "985566e8",
   "metadata": {},
   "source": [
    "Block ciphers are fundamental tools in symmetric-key cryptography, offering data security by encrypting fixed-size blocks of plaintext using a symmetric key. Among these, the Advanced Encryption Standard (AES) is the most widely adopted, approved by NIST in 2001 as a replacement for DES [1]. AES is celebrated for its strong security, efficiency in both hardware and software, and resistance to known cryptanalytic attacks. It operates on 128-bit blocks and supports key sizes of 128, 192, or 256 bits.\n",
    "\n",
    "This report explores the core architecture and transformation steps of AES encryption. We also evaluate the algorithm’s strength through Shannon's principles of confusion and diffusion, using bit-flipping and Hamming distance analysis to quantify AES’s resistance to differential attacks [2]."
   ]
  },
  {
   "cell_type": "code",
   "execution_count": 1,
   "id": "b5c00560",
   "metadata": {},
   "outputs": [],
   "source": [
    "from aes import AES\n",
    "\n",
    "from diffusion_confusion import flip_bit, hamming_distance\n",
    "from diffusion_confusion import aes_diffusion, aes_confusion"
   ]
  },
  {
   "cell_type": "code",
   "execution_count": 2,
   "id": "82dfaf03",
   "metadata": {},
   "outputs": [
    {
     "data": {
      "text/plain": [
       "bytes"
      ]
     },
     "execution_count": 2,
     "metadata": {},
     "output_type": "execute_result"
    }
   ],
   "source": [
    "type(AES(b'b\\x07\\xc2\\xd3/\\xcf\\xfa\\xdaSl\\x81+\\xa3Y\\xcc\\xd6').key_expansion())"
   ]
  },
  {
   "cell_type": "markdown",
   "id": "00665e86",
   "metadata": {},
   "source": [
    "## AES "
   ]
  },
  {
   "cell_type": "markdown",
   "id": "26ebe2a2",
   "metadata": {},
   "source": [
    "AES encryption consists of a series of rounds *(10 for 128-bit keys)* in which the input block undergoes a sequence of transformations. These transformations provide both non-linearity and mixing, critical to cryptographic strength. Each round involves:"
   ]
  },
  {
   "cell_type": "code",
   "execution_count": 2,
   "id": "fd396640",
   "metadata": {},
   "outputs": [
    {
     "name": "stdout",
     "output_type": "stream",
     "text": [
      "Round Key 0:\n",
      "2b 28 ab 09\n",
      "7e ae f7 cf\n",
      "15 d2 15 4f\n",
      "16 a6 88 3c\n",
      "\n",
      "Round Key 1:\n",
      "a0 88 23 2a\n",
      "fa 54 a3 6c\n",
      "fe 2c 39 76\n",
      "17 b1 39 05\n"
     ]
    }
   ],
   "source": [
    "key = bytes.fromhex(\"2b7e151628aed2a6abf7158809cf4f3c\")\n",
    "plaintext = bytes.fromhex(\"3243f6a8885a308d313198a2e0370734\")\n",
    "\n",
    "aes = AES(key)\n",
    "round_keys = aes.key_expansion()\n",
    "\n",
    "# Round key 0\n",
    "print(\"Round Key 0:\")\n",
    "for row in round_keys[0]:\n",
    "    print(\" \".join(f\"{b:02x}\" for b in row))\n",
    "\n",
    "\n",
    "\n",
    "print(\"\\nRound Key 1:\")\n",
    "for row in round_keys[1]:\n",
    "    print(\" \".join(f\"{b:02x}\" for b in row))\n"
   ]
  },
  {
   "cell_type": "code",
   "execution_count": 3,
   "id": "92efd7df",
   "metadata": {},
   "outputs": [
    {
     "name": "stdout",
     "output_type": "stream",
     "text": [
      "11 0d 0d 09\n",
      "09 0d 0d 01\n",
      "01 0d 0d 09\n",
      "09 0d 0d 11\n"
     ]
    }
   ],
   "source": [
    "state = [\n",
    "    [0x01, 0x02, 0x03, 0x04],\n",
    "    [0x05, 0x06, 0x07, 0x08],\n",
    "    [0x09, 0x0a, 0x0b, 0x0c],\n",
    "    [0x0d, 0x0e, 0x0f, 0x10],\n",
    "]\n",
    "\n",
    "round_key = [\n",
    "    [0x10, 0x0f, 0x0e, 0x0d],\n",
    "    [0x0c, 0x0b, 0x0a, 0x09],\n",
    "    [0x08, 0x07, 0x06, 0x05],\n",
    "    [0x04, 0x03, 0x02, 0x01],\n",
    "]\n",
    "\n",
    "result = AES.add_round_key(state, round_key)\n",
    "\n",
    "for row in result:\n",
    "    print(\" \".join(f\"{b:02x}\" for b in row))\n"
   ]
  },
  {
   "cell_type": "code",
   "execution_count": 4,
   "id": "6644ada1",
   "metadata": {},
   "outputs": [
    {
     "name": "stdout",
     "output_type": "stream",
     "text": [
      "63 7c 77 7b\n",
      "f2 6b 6f c5\n",
      "30 01 67 2b\n",
      "fe d7 ab 76\n"
     ]
    }
   ],
   "source": [
    "state = [\n",
    "    [0x00, 0x01, 0x02, 0x03],\n",
    "    [0x04, 0x05, 0x06, 0x07],\n",
    "    [0x08, 0x09, 0x0a, 0x0b],\n",
    "    [0x0c, 0x0d, 0x0e, 0x0f],\n",
    "]\n",
    "\n",
    "result = AES.byte_substitution(state)\n",
    "\n",
    "for row in result:\n",
    "    print(\" \".join(f\"{b:02x}\" for b in row))\n"
   ]
  },
  {
   "cell_type": "code",
   "execution_count": 5,
   "id": "7911c5f9",
   "metadata": {},
   "outputs": [
    {
     "name": "stdout",
     "output_type": "stream",
     "text": [
      "00 01 02 03\n",
      "11 12 13 10\n",
      "22 23 20 21\n",
      "33 30 31 32\n"
     ]
    }
   ],
   "source": [
    "state = [\n",
    "    [0x00, 0x01, 0x02, 0x03],\n",
    "    [0x10, 0x11, 0x12, 0x13],\n",
    "    [0x20, 0x21, 0x22, 0x23],\n",
    "    [0x30, 0x31, 0x32, 0x33],\n",
    "]\n",
    "\n",
    "result = AES.shift_rows(state)\n",
    "\n",
    "for row in result:\n",
    "    print(\" \".join(f\"{b:02x}\" for b in row))\n"
   ]
  },
  {
   "cell_type": "code",
   "execution_count": 6,
   "id": "60fa02d7",
   "metadata": {},
   "outputs": [
    {
     "name": "stdout",
     "output_type": "stream",
     "text": [
      "8e 9f 01 c6\n",
      "4d dc 01 c6\n",
      "a1 58 01 c6\n",
      "bc 9d 01 c6\n"
     ]
    }
   ],
   "source": [
    "state = [\n",
    "    [0xdb, 0xf2, 0x01, 0xc6],\n",
    "    [0x13, 0x0a, 0x01, 0xc6],\n",
    "    [0x53, 0x22, 0x01, 0xc6],\n",
    "    [0x45, 0x5c, 0x01, 0xc6],\n",
    "]\n",
    "\n",
    "result = AES.mix_column(state)\n",
    "\n",
    "for row in result:\n",
    "    print(\" \".join(f\"{b:02x}\" for b in row))\n"
   ]
  },
  {
   "cell_type": "code",
   "execution_count": 7,
   "id": "56d15578",
   "metadata": {},
   "outputs": [
    {
     "name": "stdout",
     "output_type": "stream",
     "text": [
      "Result:    8e 9f 01 c6\n",
      "Expected:  8e 9f 01 c6\n",
      "Match?    True\n",
      "\n",
      "Result:    4d dc 01 c6\n",
      "Expected:  4d dc 01 c6\n",
      "Match?    True\n",
      "\n",
      "Result:    a1 58 01 c6\n",
      "Expected:  a1 58 01 c6\n",
      "Match?    True\n",
      "\n",
      "Result:    bc 9d 01 c6\n",
      "Expected:  bc 9d 01 c6\n",
      "Match?    True\n",
      "\n"
     ]
    }
   ],
   "source": [
    "state = [\n",
    "    [0xdb, 0xf2, 0x01, 0xc6],\n",
    "    [0x13, 0x0a, 0x01, 0xc6],\n",
    "    [0x53, 0x22, 0x01, 0xc6],\n",
    "    [0x45, 0x5c, 0x01, 0xc6]\n",
    "]\n",
    "\n",
    "expected = [\n",
    "    [0x8e, 0x9f, 0x01, 0xc6],\n",
    "    [0x4d, 0xdc, 0x01, 0xc6],\n",
    "    [0xa1, 0x58, 0x01, 0xc6],\n",
    "    [0xbc, 0x9d, 0x01, 0xc6]\n",
    "]\n",
    "\n",
    "result = AES.mix_column(state)\n",
    "\n",
    "# Print results nicely\n",
    "for r_row, e_row in zip(result, expected):\n",
    "    print(\"Result:   \", \" \".join(f\"{b:02x}\" for b in r_row))\n",
    "    print(\"Expected: \", \" \".join(f\"{b:02x}\" for b in e_row))\n",
    "    print(\"Match?   \", r_row == e_row)\n",
    "    print()\n"
   ]
  },
  {
   "cell_type": "code",
   "execution_count": 8,
   "id": "9fcc4938",
   "metadata": {},
   "outputs": [
    {
     "name": "stdout",
     "output_type": "stream",
     "text": [
      "Matrix:\n",
      "00 04 08 0c\n",
      "01 05 09 0d\n",
      "02 06 0a 0e\n",
      "03 07 0b 0f\n",
      "\n",
      "Back to bytes:\n",
      "000102030405060708090a0b0c0d0e0f\n",
      "\n",
      "Original:\n",
      "000102030405060708090a0b0c0d0e0f\n"
     ]
    }
   ],
   "source": [
    "b = bytes(range(16))\n",
    "m = AES.to_matrix(b)\n",
    "print(\"Matrix:\")\n",
    "for row in m:\n",
    "    print(\" \".join(f\"{x:02x}\" for x in row))\n",
    "\n",
    "print(\"\\nBack to bytes:\")\n",
    "print(AES.to_bytes(m).hex())\n",
    "\n",
    "print(\"\\nOriginal:\")\n",
    "print(b.hex())\n",
    "\n",
    "assert AES.to_bytes(m) == b"
   ]
  },
  {
   "cell_type": "code",
   "execution_count": 2,
   "id": "af8595e7",
   "metadata": {},
   "outputs": [
    {
     "name": "stdout",
     "output_type": "stream",
     "text": [
      "Ciphertext: 3925841d02dc09fbdc118597196a0b32\n",
      "Expected:   3925841d02dc09fbdc118597196a0b32\n",
      "✅ Match?   True\n"
     ]
    }
   ],
   "source": [
    "key = bytes.fromhex(\"2b7e151628aed2a6abf7158809cf4f3c\")\n",
    "plaintext = bytes.fromhex(\"3243f6a8885a308d313198a2e0370734\")\n",
    "\n",
    "aes = AES(key)\n",
    "ciphertext = aes.encrypt(plaintext)\n",
    "\n",
    "print(\"Ciphertext:\", ciphertext.hex())\n",
    "print(\"Expected:  \", \"3925841d02dc09fbdc118597196a0b32\")\n",
    "print(\"✅ Match?  \", ciphertext.hex() == \"3925841d02dc09fbdc118597196a0b32\")"
   ]
  },
  {
   "cell_type": "code",
   "execution_count": 3,
   "id": "3401968a",
   "metadata": {},
   "outputs": [
    {
     "name": "stdout",
     "output_type": "stream",
     "text": [
      "Result:    69c4e0d86a7b0430d8cdb78070b4c55a\n",
      "Expected:  69c4e0d86a7b0430d8cdb78070b4c55a\n",
      "Match?     True\n"
     ]
    }
   ],
   "source": [
    "key = bytes.fromhex(\"000102030405060708090a0b0c0d0e0f\")\n",
    "plaintext = bytes.fromhex(\"00112233445566778899aabbccddeeff\")\n",
    "expected_ciphertext = \"69c4e0d86a7b0430d8cdb78070b4c55a\"\n",
    "\n",
    "\"\"\"key = bytes.fromhex(\"00000000000000000000000000000000\")\n",
    "plaintext = bytes.fromhex(\"00000000000000000000000000000000\")\n",
    "expected_ciphertext = \"66e94bd4ef8a2c3b884cfa59ca342b2e\"\"\"\n",
    "\n",
    "\"\"\"key = bytes.fromhex(\"ffffffffffffffffffffffffffffffff\")\n",
    "plaintext = bytes.fromhex(\"ffffffffffffffffffffffffffffffff\")\n",
    "expected_ciphertext = \"a1f6258c877d5fcd8964484538bfc92c\"\"\"\n",
    "\n",
    "\"\"\"key = bytes.fromhex(\"2b7e151628aed2a6abf7158809cf4f3c\")\n",
    "plaintext = bytes.fromhex(\"3243f6a8885a308d313198a2e0370734\")\n",
    "expected_ciphertext = \"3925841d02dc09fbdc118597196a0b32\"\"\"\n",
    "\n",
    "aes = AES(key)\n",
    "ciphertext = aes.encrypt(plaintext)\n",
    "\n",
    "print(\"Result:   \", ciphertext.hex())\n",
    "print(\"Expected: \", expected_ciphertext)\n",
    "print(\"Match?    \", ciphertext.hex() == expected_ciphertext)"
   ]
  },
  {
   "cell_type": "code",
   "execution_count": 21,
   "id": "7c67b51c",
   "metadata": {},
   "outputs": [
    {
     "name": "stdout",
     "output_type": "stream",
     "text": [
      "Round 0:\n",
      "ff ff ff ff\n",
      "ff ff ff ff\n",
      "ff ff ff ff\n",
      "ff ff ff ff\n",
      "Round 1:\n",
      "e8 17 e8 17\n",
      "e9 16 e9 16\n",
      "e9 16 e9 16\n",
      "e9 16 e9 16\n",
      "Round 2:\n",
      "ad ba 52 45\n",
      "ae b8 51 47\n",
      "ae b8 51 47\n",
      "19 0f e6 f0\n",
      "Round 3:\n",
      "09 b3 e1 a4\n",
      "0e b6 e7 a0\n",
      "22 9a cb 8c\n",
      "77 78 9e 6e\n",
      "Round 4:\n",
      "e1 52 b3 17\n",
      "6a dc 3b 9b\n",
      "bd 27 ec 60\n",
      "3e 46 d8 b6\n",
      "Round 5:\n",
      "e5 b7 04 13\n",
      "ba 66 5d c6\n",
      "f3 d4 38 58\n",
      "ce 88 50 e6\n",
      "Round 6:\n",
      "71 c6 c2 d1\n",
      "d0 b6 eb 2d\n",
      "7d a9 91 c9\n",
      "b3 3b 6b 8d\n",
      "Round 7:\n",
      "e9 2f ed 3c\n",
      "0d bb 50 7d\n",
      "20 89 18 d1\n",
      "8d b6 dd 50\n",
      "Round 8:\n",
      "96 b9 54 68\n",
      "33 88 d8 a5\n",
      "73 fa e2 33\n",
      "66 d0 0d 5d\n",
      "Round 9:\n",
      "8b 32 66 0e\n",
      "f0 78 a0 05\n",
      "3f c5 27 14\n",
      "23 f3 fe a3\n",
      "Round 10:\n",
      "d6 e4 82 8c\n",
      "0a 72 d2 d7\n",
      "35 f0 d7 c3\n",
      "88 7b 85 26\n"
     ]
    }
   ],
   "source": [
    "for round_idx, matrix in enumerate(aes.key_expansion()):\n",
    "    print(f\"Round {round_idx}:\")\n",
    "    for row in matrix:\n",
    "        print(\" \".join(f\"{b:02x}\" for b in row))\n"
   ]
  },
  {
   "cell_type": "code",
   "execution_count": 4,
   "id": "d0fed143",
   "metadata": {},
   "outputs": [
    {
     "data": {
      "text/plain": [
       "b'\\x00\\x01\\x02\\x03\\x04\\x05\\x06\\x07\\x08\\t\\n\\x0b\\x0c\\r\\x0e\\x0f'"
      ]
     },
     "execution_count": 4,
     "metadata": {},
     "output_type": "execute_result"
    }
   ],
   "source": [
    "input_bytes = bytes(range(16))\n",
    "aes = AES(key)\n",
    "AES.to_bytes(AES.to_matrix(input_bytes))"
   ]
  },
  {
   "cell_type": "markdown",
   "id": "456a0c9e",
   "metadata": {},
   "source": [
    "### Add Round Key"
   ]
  },
  {
   "cell_type": "markdown",
   "id": "4c494930",
   "metadata": {},
   "source": [
    "The AddRoundKey transformation is the first and last step in the AES round structure. It performs a bitwise XOR between the current 4x4 state matrix and a round-specific subkey generated through key expansion. This step is simple yet vital, as it introduces the key-dependent variation at every round, ensuring that the encryption is tied to the secret key. Since XOR is its own inverse, this transformation is easily reversible during decryption [1]."
   ]
  },
  {
   "cell_type": "markdown",
   "id": "ea6b5e25",
   "metadata": {},
   "source": [
    "### Substitution Bytes"
   ]
  },
  {
   "cell_type": "markdown",
   "id": "b29d5061",
   "metadata": {},
   "source": [
    "The SubBytes operation provides non-linearity to the cipher by substituting each byte of the state using a substitution box (S-box). This S-box is constructed using the multiplicative inverse over GF(2^8), followed by an affine transformation. It enhances resistance against linear and differential cryptanalysis by ensuring that small changes in input create unpredictable output differences [3]."
   ]
  },
  {
   "cell_type": "markdown",
   "id": "3381475b",
   "metadata": {},
   "source": [
    "### Shift Rows"
   ]
  },
  {
   "cell_type": "markdown",
   "id": "39f06063",
   "metadata": {},
   "source": [
    "ShiftRows is a permutation step that cyclically shifts each row of the state matrix to the left by a certain number of bytes: the second row by 1, the third by 2, and the fourth by 3 positions. This operation spreads the byte positions across columns, contributing to diffusion by ensuring that the effect of a single byte affects multiple columns over rounds [4]."
   ]
  },
  {
   "cell_type": "markdown",
   "id": "0be124cb",
   "metadata": {},
   "source": [
    "### Mix Columns"
   ]
  },
  {
   "cell_type": "markdown",
   "id": "f6f33d1b",
   "metadata": {},
   "source": [
    "The MixColumns step transforms each column of the state matrix using polynomial multiplication in GF(2^8) with a fixed matrix. It blends the four bytes in each column, creating dependency between them. This step is essential for diffusion, ensuring that a change in one byte impacts all four bytes in the column [1]. It is skipped in the final round to simplify decryption."
   ]
  },
  {
   "cell_type": "markdown",
   "id": "1b81f8a3",
   "metadata": {},
   "source": [
    "### Key Expansion"
   ]
  },
  {
   "cell_type": "markdown",
   "id": "d8546e9a",
   "metadata": {},
   "source": [
    "Key Expansion (also known as the key schedule) takes the original cipher key and expands it into an array of round keys. This process uses byte substitution, rotation, and the addition of round constants to ensure that each round key is unique and non-linearly related to the original key. For AES-128, 11 round keys are generated: one for the initial key addition and ten for the rounds [5]."
   ]
  },
  {
   "cell_type": "markdown",
   "id": "da189d38",
   "metadata": {},
   "source": [
    "### Encryption"
   ]
  },
  {
   "cell_type": "markdown",
   "id": "83f8817b",
   "metadata": {},
   "source": [
    "The encryption process consists of:\n",
    "\n",
    "*Initial AddRoundKey\n",
    "\n",
    "*9 rounds of: SubBytes → ShiftRows → MixColumns → AddRoundKey\n",
    "\n",
    "*Final round: SubBytes → ShiftRows → AddRoundKey (no MixColumns)\n",
    "\n",
    "Each transformation plays a critical role in strengthening the cipher against various attacks, from linear cryptanalysis to differential cryptanalysis [4]."
   ]
  },
  {
   "cell_type": "markdown",
   "id": "62bcdd8c",
   "metadata": {},
   "source": [
    "## AES Diffusion and Confusion"
   ]
  },
  {
   "cell_type": "markdown",
   "id": "3a44e31c",
   "metadata": {},
   "source": [
    "Claude Shannon emphasized two principles for secure cipher design: confusion, which hides the relationship between ciphertext and key, and diffusion, which spreads plaintext information across the ciphertext [2].To test diffusion, a single-bit flip was introduced in the plaintext. The number of differing bits in the ciphertext was measured using Hamming distance. A high Hamming distance indicates good diffusion, as the effect of the bit flip propagates through the entire block.Likewise, confusion was assessed by modifying a single bit in the key. AES demonstrated high confusion, as even minor key changes significantly altered the output [6]."
   ]
  },
  {
   "cell_type": "code",
   "execution_count": 17,
   "id": "ebebdab9",
   "metadata": {},
   "outputs": [],
   "source": [
    "import matplotlib.pyplot as plt\n",
    "\n",
    "def run_monte_carlo(function, num_rounds=None, num_trials=1000):\n",
    "    distances = []\n",
    "    for i in range(num_trials):\n",
    "        distance = function(num_rounds)\n",
    "        distances.append(distance)\n",
    "    return distances"
   ]
  },
  {
   "cell_type": "code",
   "execution_count": null,
   "id": "3fd203a1",
   "metadata": {},
   "outputs": [],
   "source": [
    "diffusion_results = run_monte_carlo(aes_diffusion, num_rounds=1, num_trials=1000)\n",
    "confusion_results = run_monte_carlo(aes_confusion, num_rounds=10, num_trials=1000)"
   ]
  },
  {
   "cell_type": "markdown",
   "id": "f2575ee9",
   "metadata": {},
   "source": [
    "## Conclusion"
   ]
  },
  {
   "cell_type": "markdown",
   "id": "4337b279",
   "metadata": {},
   "source": [
    "AES remains a gold standard in symmetric encryption due to its elegant combination of speed, security, and simplicity. Its structured design incorporating non-linearity (SubBytes), mixing (MixColumns), and key variation (Key Expansion) makes it robust against classical and modern attacks. By analyzing diffusion and confusion empirically, we confirmed that AES effectively masks both the plaintext and key within the ciphertext, satisfying core cryptographic goals."
   ]
  },
  {
   "cell_type": "markdown",
   "id": "1b92e1ec",
   "metadata": {},
   "source": [
    "## References"
   ]
  },
  {
   "cell_type": "markdown",
   "id": "6ca36ca0",
   "metadata": {},
   "source": [
    "[1] National Institute of Standards and Technology (NIST). FIPS PUB 197: Advanced Encryption Standard (AES). 2001.\n",
    "\n",
    "[2] Shannon C. Communication theory of secrecy systems. Bell System Technical Journal. 1949;28(4):656–715.\n",
    "\n",
    "[3] Daemen J, Rijmen V. The Design of Rijndael: AES—The Advanced Encryption Standard. Springer-Verlag; 2002.\n",
    "\n",
    "[4] Stallings W. Cryptography and Network Security: Principles and Practice. 8th ed. Pearson; 2023.\n",
    "\n",
    "[5] National Institute of Standards and Technology. AES Known Answer Test Vectors. 2001.\n",
    "\n",
    "[6] Paar C, Pelzl J. Understanding Cryptography: A Textbook for Students and Practitioners. 2nd ed. Springer; 2018."
   ]
  }
 ],
 "metadata": {
  "kernelspec": {
   "display_name": "pythonenv",
   "language": "python",
   "name": "python3"
  },
  "language_info": {
   "codemirror_mode": {
    "name": "ipython",
    "version": 3
   },
   "file_extension": ".py",
   "mimetype": "text/x-python",
   "name": "python",
   "nbconvert_exporter": "python",
   "pygments_lexer": "ipython3",
   "version": "3.12.9"
  }
 },
 "nbformat": 4,
 "nbformat_minor": 5
}
